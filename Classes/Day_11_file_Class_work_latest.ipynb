{
  "nbformat": 4,
  "nbformat_minor": 0,
  "metadata": {
    "colab": {
      "provenance": [],
      "include_colab_link": true
    },
    "kernelspec": {
      "name": "python3",
      "display_name": "Python 3"
    },
    "language_info": {
      "name": "python"
    }
  },
  "cells": [
    {
      "cell_type": "markdown",
      "metadata": {
        "id": "view-in-github",
        "colab_type": "text"
      },
      "source": [
        "<a href=\"https://colab.research.google.com/github/Fasiloc/Python_learn-repo/blob/main/Classes/Day_11_file_Class_work_latest.ipynb\" target=\"_parent\"><img src=\"https://colab.research.google.com/assets/colab-badge.svg\" alt=\"Open In Colab\"/></a>"
      ]
    },
    {
      "cell_type": "code",
      "metadata": {
        "id": "HnYzEKAULfKo",
        "colab": {
          "base_uri": "https://localhost:8080/"
        },
        "outputId": "73bda876-61a6-431e-f516-ce12e76ebbdd"
      },
      "source": [
        "# reading a file\n",
        "f=open(\"hai.txt\",'r')\n",
        "print(f.read())\n",
        "f.close()"
      ],
      "execution_count": null,
      "outputs": [
        {
          "output_type": "stream",
          "name": "stdout",
          "text": [
            "hello guys\n",
            "how are you\n",
            "i am fasil\n",
            "hi\n"
          ]
        }
      ]
    },
    {
      "cell_type": "code",
      "metadata": {
        "colab": {
          "base_uri": "https://localhost:8080/"
        },
        "id": "5yLCujVNLk-5",
        "outputId": "4ec5e61a-5a2e-4dad-c727-e924699cf235"
      },
      "source": [
        "#reading 7 characters\n",
        "f=open(\"hai.txt\",'r')\n",
        "print(f.read(7))\n",
        "f.close()"
      ],
      "execution_count": null,
      "outputs": [
        {
          "output_type": "stream",
          "name": "stdout",
          "text": [
            "hello g\n"
          ]
        }
      ]
    },
    {
      "cell_type": "code",
      "metadata": {
        "colab": {
          "base_uri": "https://localhost:8080/"
        },
        "id": "NoSKTWsUMEaD",
        "outputId": "a2149a40-6ac4-4aac-ce81-f14f6bcffa57"
      },
      "source": [
        "#read 1 line\n",
        "f=open(\"hai.txt\",'r')\n",
        "print(f.readline())\n",
        "f.close()"
      ],
      "execution_count": null,
      "outputs": [
        {
          "output_type": "stream",
          "name": "stdout",
          "text": [
            "hello guys\n",
            "\n"
          ]
        }
      ]
    },
    {
      "cell_type": "code",
      "metadata": {
        "colab": {
          "base_uri": "https://localhost:8080/"
        },
        "id": "_CeiyJ9cTnF6",
        "outputId": "74f8b307-7512-48b1-fbdd-b3352bf41f9c"
      },
      "source": [
        "#read multiple lines\n",
        "f=open(\"hai.txt\",'r')\n",
        "print(f.readline())\n",
        "print(f.readline())\n",
        "print(f.readline())\n",
        "print(f.readline())\n",
        "f.close()"
      ],
      "execution_count": null,
      "outputs": [
        {
          "output_type": "stream",
          "name": "stdout",
          "text": [
            "hello guys\n",
            "\n",
            "how are you\n",
            "\n",
            "i am fasil\n",
            "\n",
            "hi\n"
          ]
        }
      ]
    },
    {
      "cell_type": "code",
      "metadata": {
        "colab": {
          "base_uri": "https://localhost:8080/"
        },
        "id": "5kHvoZszKID5",
        "outputId": "810be3b5-b00d-403d-8974-27b43f88dd9b"
      },
      "source": [
        "# first 7 charactors of first line\n",
        "f=open(\"hai.txt\",'r')\n",
        "print(f.readline(7))\n",
        "f.close()"
      ],
      "execution_count": null,
      "outputs": [
        {
          "output_type": "stream",
          "name": "stdout",
          "text": [
            "hello g\n"
          ]
        }
      ]
    },
    {
      "cell_type": "code",
      "metadata": {
        "colab": {
          "base_uri": "https://localhost:8080/"
        },
        "id": "j1GenrQ3MH99",
        "outputId": "9f3b1a18-8c3a-46b2-b7d4-905f7455d468"
      },
      "source": [
        "# reads comple data and out as list\n",
        "f=open(\"hai.txt\",'r')\n",
        "print(f.readlines())\n",
        "f.close()"
      ],
      "execution_count": null,
      "outputs": [
        {
          "output_type": "stream",
          "name": "stdout",
          "text": [
            "['hello guys\\n', 'how are you\\n', 'i am fasil\\n', 'hi\\n']\n"
          ]
        }
      ]
    },
    {
      "cell_type": "code",
      "metadata": {
        "id": "VMbfK-ltbCcs"
      },
      "source": [
        "# write data into a file\n",
        "f=open(\"new.txt\",'w')\n",
        "f.write('hai all')\n",
        "f.close()"
      ],
      "execution_count": null,
      "outputs": []
    },
    {
      "cell_type": "code",
      "metadata": {
        "id": "dgavVyD4n2V9"
      },
      "source": [
        "# write\n",
        "f=open(\"new1.txt\",'w')\n",
        "f.write('hai\\nall')\n",
        "f.close()"
      ],
      "execution_count": null,
      "outputs": []
    },
    {
      "cell_type": "code",
      "metadata": {
        "id": "7JcBUom1bt7y",
        "colab": {
          "base_uri": "https://localhost:8080/",
          "height": 207
        },
        "outputId": "c855b5bb-b8ba-47db-f26f-85ba10a0b983"
      },
      "source": [
        "# writing\n",
        "f=open(\"n.txt\",'w')\n",
        "f.read()\n",
        "f.close()"
      ],
      "execution_count": null,
      "outputs": [
        {
          "output_type": "error",
          "ename": "UnsupportedOperation",
          "evalue": "ignored",
          "traceback": [
            "\u001b[0;31m---------------------------------------------------------------------------\u001b[0m",
            "\u001b[0;31mUnsupportedOperation\u001b[0m                      Traceback (most recent call last)",
            "\u001b[0;32m<ipython-input-23-1580b5538a0a>\u001b[0m in \u001b[0;36m<module>\u001b[0;34m()\u001b[0m\n\u001b[1;32m      2\u001b[0m \u001b[0mf\u001b[0m\u001b[0;34m=\u001b[0m\u001b[0mopen\u001b[0m\u001b[0;34m(\u001b[0m\u001b[0;34m\"n.txt\"\u001b[0m\u001b[0;34m,\u001b[0m\u001b[0;34m'a'\u001b[0m\u001b[0;34m)\u001b[0m\u001b[0;34m\u001b[0m\u001b[0;34m\u001b[0m\u001b[0m\n\u001b[1;32m      3\u001b[0m \u001b[0mf\u001b[0m\u001b[0;34m.\u001b[0m\u001b[0mwrite\u001b[0m\u001b[0;34m(\u001b[0m\u001b[0;34m'Hello AI-ML students'\u001b[0m\u001b[0;34m)\u001b[0m\u001b[0;34m\u001b[0m\u001b[0;34m\u001b[0m\u001b[0m\n\u001b[0;32m----> 4\u001b[0;31m \u001b[0mf\u001b[0m\u001b[0;34m.\u001b[0m\u001b[0mread\u001b[0m\u001b[0;34m(\u001b[0m\u001b[0;34m)\u001b[0m\u001b[0;34m\u001b[0m\u001b[0;34m\u001b[0m\u001b[0m\n\u001b[0m\u001b[1;32m      5\u001b[0m \u001b[0mf\u001b[0m\u001b[0;34m.\u001b[0m\u001b[0mclose\u001b[0m\u001b[0;34m(\u001b[0m\u001b[0;34m)\u001b[0m\u001b[0;34m\u001b[0m\u001b[0;34m\u001b[0m\u001b[0m\n",
            "\u001b[0;31mUnsupportedOperation\u001b[0m: not readable"
          ]
        }
      ]
    },
    {
      "cell_type": "code",
      "metadata": {
        "id": "DrAee0lvylYE"
      },
      "source": [],
      "execution_count": null,
      "outputs": []
    },
    {
      "cell_type": "code",
      "metadata": {
        "id": "lhv-X4y1NFBm"
      },
      "source": [
        "# writing one line\n",
        "f=open(\"new.txt\",'w')\n",
        "pl=[\"python\",\"c\",\"c++\"]\n",
        "f.writelines(pl)\n",
        "f.close()"
      ],
      "execution_count": null,
      "outputs": []
    },
    {
      "cell_type": "code",
      "metadata": {
        "id": "Ih0xzHvukEu1"
      },
      "source": [
        "#\n",
        "f=open(\"new.txt\",'w')\n",
        "pl=[\"python\\n\",\"c\\n\",\"c++\\n\"]\n",
        "f.writelines(pl)\n",
        "f.close()"
      ],
      "execution_count": null,
      "outputs": []
    },
    {
      "cell_type": "code",
      "metadata": {
        "id": "XdC32h-_d8md"
      },
      "source": [
        "# add data to end of file\n",
        "f=open(\"new.txt\",'a')\n",
        "f.write(\"Sql\\n Oracle\\n\")\n",
        "f.close()"
      ],
      "execution_count": null,
      "outputs": []
    },
    {
      "cell_type": "code",
      "metadata": {
        "id": "6EPVmi1AeDfy"
      },
      "source": [
        "#\n",
        "f=open(\"new.txt\",'a')\n",
        "pl=[\"Windows\\n\",\"linus\\n\",\"Mac\\n\"]\n",
        "f.writelines(pl)\n",
        "f.close()"
      ],
      "execution_count": null,
      "outputs": []
    },
    {
      "cell_type": "code",
      "metadata": {
        "id": "wRN_duxJkGon"
      },
      "source": [
        "#\n",
        "f=open(\"new2.txt\",'x')\n",
        "f.write(\"hhjjjkjkj\")\n",
        "f.read()\n",
        "f.close()\n"
      ],
      "execution_count": null,
      "outputs": []
    },
    {
      "cell_type": "code",
      "metadata": {
        "colab": {
          "base_uri": "https://localhost:8080/",
          "height": 191
        },
        "id": "hJuwPWZpz3pi",
        "outputId": "e16d88fd-bd27-4341-99c0-73e58e2e41e2"
      },
      "source": [
        "# not readable in x mode\n",
        "f=open(\"new3.txt\",'x')\n",
        "f.read()\n",
        "f.close()\n"
      ],
      "execution_count": null,
      "outputs": [
        {
          "output_type": "error",
          "ename": "FileExistsError",
          "evalue": "ignored",
          "traceback": [
            "\u001b[0;31m---------------------------------------------------------------------------\u001b[0m",
            "\u001b[0;31mFileExistsError\u001b[0m                           Traceback (most recent call last)",
            "\u001b[0;32m<ipython-input-26-dee394a22756>\u001b[0m in \u001b[0;36m<module>\u001b[0;34m()\u001b[0m\n\u001b[0;32m----> 1\u001b[0;31m \u001b[0mf\u001b[0m\u001b[0;34m=\u001b[0m\u001b[0mopen\u001b[0m\u001b[0;34m(\u001b[0m\u001b[0;34m\"new3.txt\"\u001b[0m\u001b[0;34m,\u001b[0m\u001b[0;34m'x'\u001b[0m\u001b[0;34m)\u001b[0m\u001b[0;34m\u001b[0m\u001b[0;34m\u001b[0m\u001b[0m\n\u001b[0m\u001b[1;32m      2\u001b[0m \u001b[0mf\u001b[0m\u001b[0;34m.\u001b[0m\u001b[0mread\u001b[0m\u001b[0;34m(\u001b[0m\u001b[0;34m)\u001b[0m\u001b[0;34m\u001b[0m\u001b[0;34m\u001b[0m\u001b[0m\n\u001b[1;32m      3\u001b[0m \u001b[0mf\u001b[0m\u001b[0;34m.\u001b[0m\u001b[0mclose\u001b[0m\u001b[0;34m(\u001b[0m\u001b[0;34m)\u001b[0m\u001b[0;34m\u001b[0m\u001b[0;34m\u001b[0m\u001b[0m\n",
            "\u001b[0;31mFileExistsError\u001b[0m: [Errno 17] File exists: 'new3.txt'"
          ]
        }
      ]
    },
    {
      "cell_type": "code",
      "metadata": {
        "colab": {
          "base_uri": "https://localhost:8080/"
        },
        "id": "PkrM-AoflEH_",
        "outputId": "e2eaae45-7c2c-4b1a-c21a-04407062f1d9"
      },
      "source": [
        "# for reading and writing in same mode\n",
        "f=open(\"new2.txt\",'w+')\n",
        "f.write(\"hhjjjkjkj\")\n",
        "print(f.tell())\n",
        "f.seek(0)\n",
        "print(f.read())\n",
        "f.close()\n"
      ],
      "execution_count": null,
      "outputs": [
        {
          "output_type": "stream",
          "name": "stdout",
          "text": [
            "9\n",
            "hhjjjkjkj\n"
          ]
        }
      ]
    },
    {
      "cell_type": "code",
      "metadata": {
        "colab": {
          "base_uri": "https://localhost:8080/"
        },
        "id": "LFNJAajKoNIb",
        "outputId": "cf72557d-0b40-47b7-df99-9ef674fbdc80"
      },
      "source": [
        "f=open(\"new2.txt\",'r+')\n",
        "f.write(\"nmnmn\")\n",
        "f.seek(0)\n",
        "print(f.read())\n",
        "\n",
        "f.close()\n"
      ],
      "execution_count": null,
      "outputs": [
        {
          "output_type": "stream",
          "name": "stdout",
          "text": [
            "nmnmnkjkj\n"
          ]
        }
      ]
    },
    {
      "cell_type": "code",
      "metadata": {
        "colab": {
          "base_uri": "https://localhost:8080/",
          "height": 223
        },
        "id": "rvH9s_kwT2-M",
        "outputId": "154974e7-27d1-4059-93bb-2777d0536996"
      },
      "source": [
        "l1=['apple','orange','banana']\n",
        "f=open(\"n.txt\",\"a+\")\n",
        "#f.write(('apple','orange','banana'))\n",
        "f.seek(0)\n",
        "print(f.read())\n",
        "f.writelines(l1)\n",
        "f.seek(0)\n",
        "print(f.read())\n"
      ],
      "execution_count": null,
      "outputs": [
        {
          "output_type": "error",
          "ename": "TypeError",
          "evalue": "ignored",
          "traceback": [
            "\u001b[0;31m---------------------------------------------------------------------------\u001b[0m",
            "\u001b[0;31mTypeError\u001b[0m                                 Traceback (most recent call last)",
            "\u001b[0;32m<ipython-input-38-ded9d5013e31>\u001b[0m in \u001b[0;36m<module>\u001b[0;34m()\u001b[0m\n\u001b[1;32m      1\u001b[0m \u001b[0ml1\u001b[0m\u001b[0;34m=\u001b[0m\u001b[0;34m[\u001b[0m\u001b[0;34m'apple'\u001b[0m\u001b[0;34m,\u001b[0m\u001b[0;34m'orange'\u001b[0m\u001b[0;34m,\u001b[0m\u001b[0;34m'banana'\u001b[0m\u001b[0;34m]\u001b[0m\u001b[0;34m\u001b[0m\u001b[0;34m\u001b[0m\u001b[0m\n\u001b[1;32m      2\u001b[0m \u001b[0mf\u001b[0m\u001b[0;34m=\u001b[0m\u001b[0mopen\u001b[0m\u001b[0;34m(\u001b[0m\u001b[0;34m\"n.txt\"\u001b[0m\u001b[0;34m,\u001b[0m\u001b[0;34m\"a+\"\u001b[0m\u001b[0;34m)\u001b[0m\u001b[0;34m\u001b[0m\u001b[0;34m\u001b[0m\u001b[0m\n\u001b[0;32m----> 3\u001b[0;31m \u001b[0mf\u001b[0m\u001b[0;34m.\u001b[0m\u001b[0mwrite\u001b[0m\u001b[0;34m(\u001b[0m\u001b[0;34m(\u001b[0m\u001b[0;34m'apple'\u001b[0m\u001b[0;34m,\u001b[0m\u001b[0;34m'orange'\u001b[0m\u001b[0;34m,\u001b[0m\u001b[0;34m'banana'\u001b[0m\u001b[0;34m)\u001b[0m\u001b[0;34m)\u001b[0m\u001b[0;34m\u001b[0m\u001b[0;34m\u001b[0m\u001b[0m\n\u001b[0m\u001b[1;32m      4\u001b[0m \u001b[0mf\u001b[0m\u001b[0;34m.\u001b[0m\u001b[0mseek\u001b[0m\u001b[0;34m(\u001b[0m\u001b[0;36m0\u001b[0m\u001b[0;34m)\u001b[0m\u001b[0;34m\u001b[0m\u001b[0;34m\u001b[0m\u001b[0m\n\u001b[1;32m      5\u001b[0m \u001b[0mprint\u001b[0m\u001b[0;34m(\u001b[0m\u001b[0mf\u001b[0m\u001b[0;34m.\u001b[0m\u001b[0mread\u001b[0m\u001b[0;34m(\u001b[0m\u001b[0;34m)\u001b[0m\u001b[0;34m)\u001b[0m\u001b[0;34m\u001b[0m\u001b[0;34m\u001b[0m\u001b[0m\n",
            "\u001b[0;31mTypeError\u001b[0m: write() argument must be str, not tuple"
          ]
        }
      ]
    },
    {
      "cell_type": "code",
      "metadata": {
        "id": "H1It6BilfcUz"
      },
      "source": [],
      "execution_count": null,
      "outputs": []
    },
    {
      "cell_type": "code",
      "metadata": {
        "colab": {
          "base_uri": "https://localhost:8080/"
        },
        "id": "CFqdGSneGuYE",
        "outputId": "d75350ce-e092-4674-9987-18e3ced048e8"
      },
      "source": [
        "#count occurrence of a word in a file\n",
        "f=open(\"new.txt\",'r')\n",
        "data=f.read()\n",
        "print(type(data))\n",
        "counts=data.count(\"ASAP\")\n",
        "print(counts)\n"
      ],
      "execution_count": null,
      "outputs": [
        {
          "output_type": "stream",
          "name": "stdout",
          "text": [
            "<class 'str'>\n",
            "2\n"
          ]
        }
      ]
    },
    {
      "cell_type": "markdown",
      "metadata": {
        "id": "DbckzOHnf_EB"
      },
      "source": []
    },
    {
      "cell_type": "code",
      "metadata": {
        "id": "XsFVLtlfRfHI"
      },
      "source": [
        "import os\n",
        "os.rename('n.txt','nc.txt')"
      ],
      "execution_count": null,
      "outputs": []
    },
    {
      "cell_type": "code",
      "metadata": {
        "id": "pNyYzV0fRsqX"
      },
      "source": [
        "os.remove('new2.txt')"
      ],
      "execution_count": null,
      "outputs": []
    },
    {
      "cell_type": "code",
      "metadata": {
        "colab": {
          "base_uri": "https://localhost:8080/"
        },
        "id": "HsMpvvxNMgqF",
        "outputId": "b4ca14e5-2d6b-4a7b-b7e5-066be2c42154"
      },
      "source": [
        "'''count number of characters in a text file ''''\n",
        "file = open(\"new.txt\", \"r\")\n",
        "\n",
        "#read the content of file and replace spaces with nothing\n",
        "data = file.read().replace(\" \",\"\")\n",
        "\n",
        "#get the length of the data\n",
        "number_of_characters = len(data)\n",
        "\n",
        "print('Number of characters in text file :', number_of_characters)\n"
      ],
      "execution_count": null,
      "outputs": [
        {
          "output_type": "stream",
          "name": "stdout",
          "text": [
            "Number of characters in text file : 30\n"
          ]
        }
      ]
    },
    {
      "cell_type": "code",
      "metadata": {
        "id": "zdMNhrmQJ7xz"
      },
      "source": [
        "#Replace a word with another word(– Replace String in File)\n",
        "#read input file\n",
        "fin = open(\"hai.txt\", \"r\")\n",
        "#read file contents to string\n",
        "data = fin.read()\n",
        "#replace all occurrences of the required string\n",
        "data = data.replace('hai', 'hello')\n",
        "#close the input file\n",
        "fin.close()\n",
        "#open the input file in write mode\n",
        "fin = open(\"new2.txt\", \"w\")\n",
        "#overrite the input file with the resulting data\n",
        "fin.write(data)\n",
        "#close the file\n",
        "fin.close()\n"
      ],
      "execution_count": null,
      "outputs": []
    },
    {
      "cell_type": "code",
      "metadata": {
        "id": "KaKH_UmC-G3-"
      },
      "source": [
        "#Replace a word with another word(– Replace String in File)\n",
        "#read input file with r+ and w+ mode"
      ],
      "execution_count": null,
      "outputs": []
    },
    {
      "cell_type": "markdown",
      "metadata": {
        "id": "yHO4uv0bf-9E"
      },
      "source": []
    },
    {
      "cell_type": "code",
      "metadata": {
        "id": "7YcYfPOV5gSy"
      },
      "source": [
        "#Program to copy the contents of a file to another file\n",
        "f1=open(\"hai.txt\",'r')\n",
        "f2=open(\"n.txt\",'w')\n",
        "line=f1.readline()\n",
        "while line!='':\n",
        "  f2.write(line)\n",
        "  line=f1.readline()\n",
        "\n",
        "f1.close()\n",
        "f2.close()"
      ],
      "execution_count": null,
      "outputs": []
    },
    {
      "cell_type": "code",
      "metadata": {
        "colab": {
          "base_uri": "https://localhost:8080/"
        },
        "id": "gSSTlae1OSBH",
        "outputId": "99ed2284-78ca-4453-c0a6-441bff6d5eeb"
      },
      "source": [],
      "execution_count": null,
      "outputs": [
        {
          "output_type": "stream",
          "name": "stdout",
          "text": [
            "b'\\x89PNG\\r\\n\\x1a\\n\\x00\\x00\\x00\\rIHDR\\x00\\x00\\x00\\xd9\\x00\\x00\\x00\\xe9\\x08\\x03\\x00\\x00\\x00\\x9e\\x1ab\\xe9\\x00\\x00\\x01\\xa4PLT'\n"
          ]
        }
      ]
    },
    {
      "cell_type": "code",
      "metadata": {
        "id": "RvEA7sPRB6Qy",
        "colab": {
          "base_uri": "https://localhost:8080/",
          "height": 223
        },
        "outputId": "b4304139-10b7-4ed6-8327-9536793cd3d4"
      },
      "source": [
        "import pickle\n",
        "f1=open('audi.jpeg','rb')\n",
        "f2=open('an.jpeg','wb')\n",
        "#data=f1.read()\n",
        "for i in f1:\n",
        "  #pickle.dump(i,f2)\n",
        "  f2.write(i)\n",
        "\n",
        "f1.close()\n",
        "f2.close()"
      ],
      "execution_count": null,
      "outputs": [
        {
          "output_type": "error",
          "ename": "FileNotFoundError",
          "evalue": "ignored",
          "traceback": [
            "\u001b[0;31m---------------------------------------------------------------------------\u001b[0m",
            "\u001b[0;31mFileNotFoundError\u001b[0m                         Traceback (most recent call last)",
            "\u001b[0;32m<ipython-input-53-1e84c3858ae9>\u001b[0m in \u001b[0;36m<module>\u001b[0;34m()\u001b[0m\n\u001b[1;32m      1\u001b[0m \u001b[0;32mimport\u001b[0m \u001b[0mpickle\u001b[0m\u001b[0;34m\u001b[0m\u001b[0;34m\u001b[0m\u001b[0m\n\u001b[0;32m----> 2\u001b[0;31m \u001b[0mf1\u001b[0m\u001b[0;34m=\u001b[0m\u001b[0mopen\u001b[0m\u001b[0;34m(\u001b[0m\u001b[0;34m'audi.jpeg'\u001b[0m\u001b[0;34m,\u001b[0m\u001b[0;34m'rb'\u001b[0m\u001b[0;34m)\u001b[0m\u001b[0;34m\u001b[0m\u001b[0;34m\u001b[0m\u001b[0m\n\u001b[0m\u001b[1;32m      3\u001b[0m \u001b[0mf2\u001b[0m\u001b[0;34m=\u001b[0m\u001b[0mopen\u001b[0m\u001b[0;34m(\u001b[0m\u001b[0;34m'an.jpeg'\u001b[0m\u001b[0;34m,\u001b[0m\u001b[0;34m'wb'\u001b[0m\u001b[0;34m)\u001b[0m\u001b[0;34m\u001b[0m\u001b[0;34m\u001b[0m\u001b[0m\n\u001b[1;32m      4\u001b[0m \u001b[0;31m#data=f1.read()\u001b[0m\u001b[0;34m\u001b[0m\u001b[0;34m\u001b[0m\u001b[0;34m\u001b[0m\u001b[0m\n\u001b[1;32m      5\u001b[0m \u001b[0;32mfor\u001b[0m \u001b[0mi\u001b[0m \u001b[0;32min\u001b[0m \u001b[0mf1\u001b[0m\u001b[0;34m:\u001b[0m\u001b[0;34m\u001b[0m\u001b[0;34m\u001b[0m\u001b[0m\n",
            "\u001b[0;31mFileNotFoundError\u001b[0m: [Errno 2] No such file or directory: 'audi.jpeg'"
          ]
        }
      ]
    },
    {
      "cell_type": "markdown",
      "metadata": {
        "id": "2tTWZ7A-WBDE"
      },
      "source": []
    },
    {
      "cell_type": "markdown",
      "metadata": {
        "id": "e8coK79zWA3d"
      },
      "source": []
    },
    {
      "cell_type": "markdown",
      "metadata": {
        "id": "sSLR59-9WAvj"
      },
      "source": []
    },
    {
      "cell_type": "markdown",
      "metadata": {
        "id": "mGXYyzBBWAl3"
      },
      "source": []
    },
    {
      "cell_type": "markdown",
      "metadata": {
        "id": "qSpBnyTNWAe5"
      },
      "source": []
    },
    {
      "cell_type": "markdown",
      "metadata": {
        "id": "O9Eq2yhJWAZA"
      },
      "source": []
    },
    {
      "cell_type": "markdown",
      "metadata": {
        "id": "6uzK9otvWA8l"
      },
      "source": []
    },
    {
      "cell_type": "markdown",
      "metadata": {
        "id": "PYJcRCctWARy"
      },
      "source": []
    },
    {
      "cell_type": "markdown",
      "metadata": {
        "id": "3ciHVVnNWAFx"
      },
      "source": []
    },
    {
      "cell_type": "code",
      "metadata": {
        "colab": {
          "base_uri": "https://localhost:8080/"
        },
        "id": "uwlahv2QVLh_",
        "outputId": "1004471b-e555-424a-c203-d4404e505647"
      },
      "source": [
        "f=open(\"hai.txt\",'r')\n",
        "#f.readline()\n",
        "for i in f:\n",
        "  print(i) \n",
        "f.close()"
      ],
      "execution_count": null,
      "outputs": [
        {
          "output_type": "stream",
          "name": "stdout",
          "text": [
            "hello\n",
            "\n",
            "all\n",
            "\n",
            "how are you\n"
          ]
        }
      ]
    }
  ]
}