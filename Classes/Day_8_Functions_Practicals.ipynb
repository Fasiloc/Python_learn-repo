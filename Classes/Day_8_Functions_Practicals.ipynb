{
  "nbformat": 4,
  "nbformat_minor": 0,
  "metadata": {
    "colab": {
      "provenance": [],
      "authorship_tag": "ABX9TyMa4emLqKHn/oE7kT9k8P1M",
      "include_colab_link": true
    },
    "kernelspec": {
      "name": "python3",
      "display_name": "Python 3"
    },
    "language_info": {
      "name": "python"
    }
  },
  "cells": [
    {
      "cell_type": "markdown",
      "metadata": {
        "id": "view-in-github",
        "colab_type": "text"
      },
      "source": [
        "<a href=\"https://colab.research.google.com/github/Fasiloc/Python_learn-repo/blob/main/Classes/Day_8_Functions_Practicals.ipynb\" target=\"_parent\"><img src=\"https://colab.research.google.com/assets/colab-badge.svg\" alt=\"Open In Colab\"/></a>"
      ]
    },
    {
      "cell_type": "code",
      "metadata": {
        "colab": {
          "base_uri": "https://localhost:8080/"
        },
        "id": "dF0aagQvS-4W",
        "outputId": "f62d5333-8f57-419c-90aa-fd0d3a16f385"
      },
      "source": [
        "# Q-1 Odd or Even ?\n",
        "def oddeven(a):\n",
        "  if a%2==0:\n",
        "    print('The number is Even')\n",
        "  else:\n",
        "    print('The number is odd')\n",
        "a=int(input('Enter the number : '))\n",
        "oddeven(a)"
      ],
      "execution_count": null,
      "outputs": [
        {
          "output_type": "stream",
          "name": "stdout",
          "text": [
            "Enter the number : 45\n",
            "The number is odd\n"
          ]
        }
      ]
    },
    {
      "cell_type": "code",
      "metadata": {
        "colab": {
          "base_uri": "https://localhost:8080/"
        },
        "id": "EuziUNgeV0k8",
        "outputId": "7ac6f71d-0b74-45e2-8067-c49f5843406d"
      },
      "source": [
        "# Q-2. Addition of two numbers\n",
        "def addition(a,b):\n",
        "  print('Sum of two numbers :',a+b)\n",
        "a=int(input('Enter first number : '))\n",
        "b=int(input('Enter second number : '))\n",
        "addition(a,b)"
      ],
      "execution_count": null,
      "outputs": [
        {
          "output_type": "stream",
          "name": "stdout",
          "text": [
            "Enter first number : 41\n",
            "Enter second number : 25\n",
            "Sum of two numbers : 66\n"
          ]
        }
      ]
    },
    {
      "cell_type": "code",
      "metadata": {
        "colab": {
          "base_uri": "https://localhost:8080/"
        },
        "id": "_HkowJO6XMSJ",
        "outputId": "225ca7fa-e3c7-41b8-ff61-224971e12268"
      },
      "source": [
        "# Q-3. Addition and subtraction\n",
        "def addsubs(a,b):\n",
        "  sum=a+b\n",
        "  diff=a-b\n",
        "  return sum,diff\n",
        "a=int(input('Enter first number : '))\n",
        "b=int(input('Enter second number : '))\n",
        "s,d=addsubs(a,b)\n",
        "print('The sum of numbers :',s,'\\nThe difference of numbers :',d)"
      ],
      "execution_count": null,
      "outputs": [
        {
          "output_type": "stream",
          "name": "stdout",
          "text": [
            "Enter first number : 78\n",
            "Enter second number : 45\n",
            "The sum of numbers : 123 \n",
            "The difference of numbers : 33\n"
          ]
        }
      ]
    },
    {
      "cell_type": "code",
      "metadata": {
        "colab": {
          "base_uri": "https://localhost:8080/"
        },
        "id": "NXcpfj_EYqKu",
        "outputId": "4a2bfad1-a01c-434d-8a18-f5fa7f068cbf"
      },
      "source": [
        "# Q-4. Calculator\n",
        "def calculator(a,b):\n",
        "  s=a+b\n",
        "  d=a-b\n",
        "  m=a*b\n",
        "  di=a/b\n",
        "  return s,d,m,di\n",
        "a=int(input('Enter first number : '))\n",
        "b=int(input('Enter second number : '))\n",
        "sum,diff,mult,div=calculator(a,b)\n",
        "op=int(input('Enter Your choice : \\n 1.Addition \\n 2.Subtraction \\n 3.Multiplication \\n 4.Division \\nChoice : '))\n",
        "if op==1:\n",
        "  print('Sum of two numbers :',sum)\n",
        "elif op==2:\n",
        "  print('Difference of two numbers :',diff)\n",
        "elif op==3:\n",
        "  print('Product of two numbers :',mult)\n",
        "elif op==4:\n",
        "  print('Division of two numbers :',div)\n",
        "else:\n",
        "  print('Invalid operation')"
      ],
      "execution_count": null,
      "outputs": [
        {
          "output_type": "stream",
          "name": "stdout",
          "text": [
            "Enter first number : 45\n",
            "Enter second number : 15\n",
            "Enter Your choice : \n",
            " 1.Addition \n",
            " 2.Subtraction \n",
            " 3.Multiplication \n",
            " 4.Division \n",
            "Choice : 4\n",
            "Division of two numbers : 3.0\n"
          ]
        }
      ]
    },
    {
      "cell_type": "code",
      "metadata": {
        "colab": {
          "base_uri": "https://localhost:8080/"
        },
        "id": "aN5dxWEgb4to",
        "outputId": "dbe7a109-4ee8-49e5-f98d-116b7184f30b"
      },
      "source": [
        "# Q-5. Factorial of a number\n",
        "def fact(a):\n",
        "  if a==1:\n",
        "    f=1\n",
        "    return f\n",
        "  else:\n",
        "    f=a*fact(a-1)\n",
        "    return f\n",
        "a=int(input('Enter a number : '))\n",
        "factorial=fact(a)\n",
        "print('Factorial of the number :',factorial)"
      ],
      "execution_count": null,
      "outputs": [
        {
          "output_type": "stream",
          "name": "stdout",
          "text": [
            "Enter a number : 1\n",
            "Factorial of the number : 1\n"
          ]
        }
      ]
    },
    {
      "cell_type": "code",
      "metadata": {
        "colab": {
          "base_uri": "https://localhost:8080/"
        },
        "id": "Wfa7M6bfdzuL",
        "outputId": "47ebcc65-da84-4c7c-dac1-89c7436c2bff"
      },
      "source": [
        "# Q-6. Reverse a string\n",
        "def rev(a):\n",
        "  l=list(a)\n",
        "  revl=[]\n",
        "  for i in range(len(l)):\n",
        "    revl.append(l.pop())\n",
        "  print('Reversed String :',''.join(revl))\n",
        "a=input('Enter a string : ')\n",
        "rev(a)"
      ],
      "execution_count": null,
      "outputs": [
        {
          "output_type": "stream",
          "name": "stdout",
          "text": [
            "Enter a string : Hello world\n",
            "Reversed String : dlrow olleH\n"
          ]
        }
      ]
    },
    {
      "cell_type": "code",
      "metadata": {
        "colab": {
          "base_uri": "https://localhost:8080/"
        },
        "id": "ifq99RhNekYX",
        "outputId": "327bd0b0-b710-4490-9709-29ee63add0cc"
      },
      "source": [
        "# Q-7. Even number list\n",
        "def even(a):\n",
        "  evenl=[]\n",
        "  for i in a:\n",
        "    if i%2==0:\n",
        "      evenl.append(i)\n",
        "  print('Even element List :',evenl)\n",
        "a=list(eval(input('Enter elements of the list separated by \",\" :')))\n",
        "even(a)"
      ],
      "execution_count": null,
      "outputs": [
        {
          "output_type": "stream",
          "name": "stdout",
          "text": [
            "Enter elements of the list separated by \",\" :44,79,86,31,24,53\n",
            "Even element List : [44, 86, 24]\n"
          ]
        }
      ]
    },
    {
      "cell_type": "code",
      "metadata": {
        "id": "OIylslcce9zT",
        "colab": {
          "base_uri": "https://localhost:8080/"
        },
        "outputId": "566f9114-a1b5-43b1-afad-ff0f42c3694e"
      },
      "source": [
        "# Q-8. Sum of list elements\n",
        "def sum(a):\n",
        "  sum=0\n",
        "  for i in a:\n",
        "    sum+=i\n",
        "  print('Sum of all the numbers in the list :',sum)\n",
        "a=list(eval(input('Enter elements of the list separated by \",\" : ')))\n",
        "sum(a)"
      ],
      "execution_count": null,
      "outputs": [
        {
          "output_type": "stream",
          "name": "stdout",
          "text": [
            "Enter elements of the list separated by \",\" : 78,54,63,24,58\n",
            "Sum of elements in the list : 277\n"
          ]
        }
      ]
    },
    {
      "cell_type": "code",
      "metadata": {
        "id": "rB4a8tgRfLcQ",
        "colab": {
          "base_uri": "https://localhost:8080/"
        },
        "outputId": "c87d9a4a-95bf-437d-bced-48e2cdebb811"
      },
      "source": [
        "# Q-9. Unique elements of a list\n",
        "def uniq(a):\n",
        "  uniq=[]\n",
        "  for i in a:\n",
        "    if i in uniq:\n",
        "      continue\n",
        "    else:\n",
        "      uniq.append(i)\n",
        "  return uniq\n",
        "a=list(eval(input('Enter elements of the list separated by \",\" : ')))\n",
        "u=uniq(a)\n",
        "print('Unique List :',u)"
      ],
      "execution_count": null,
      "outputs": [
        {
          "output_type": "stream",
          "name": "stdout",
          "text": [
            "Enter elements of the list separated by \",\" : 1,5,2,2,3,3,3,4,5,7,7,6,4,6\n",
            "Unique List : [1, 5, 2, 3, 4, 7, 6]\n"
          ]
        }
      ]
    },
    {
      "cell_type": "code",
      "metadata": {
        "id": "bLBurSESfrBn",
        "colab": {
          "base_uri": "https://localhost:8080/"
        },
        "outputId": "7338850e-0b1a-4bd6-9da3-2d236af65e8d"
      },
      "source": [
        "# Q-10. Uppercases and lowercases in a string\n",
        "def uplow(a):\n",
        "  uppercount=0\n",
        "  lowercount=0\n",
        "  for i in a:\n",
        "    if i.isupper():\n",
        "      uppercount+=1\n",
        "    elif i.islower():\n",
        "      lowercount+=1\n",
        "    else:\n",
        "      continue\n",
        "    data={'String':a,'Uppercase letters':uppercount,'Lowercase letters':lowercount}\n",
        "  return data\n",
        "a=input('Enter a string : ')\n",
        "d=uplow(a)\n",
        "print(d)\n",
        "  "
      ],
      "execution_count": null,
      "outputs": [
        {
          "output_type": "stream",
          "name": "stdout",
          "text": [
            "Enter a string : hijHGJUHlljoKJI\n",
            "{'String': 'hijHGJUHlljoKJI', 'Uppercase letters': 8, 'Lowercase letters': 7}\n"
          ]
        }
      ]
    },
    {
      "cell_type": "code",
      "metadata": {
        "colab": {
          "base_uri": "https://localhost:8080/"
        },
        "id": "zLD-7ublnXwj",
        "outputId": "581b64e1-7b21-4e23-d696-a04879b72951"
      },
      "source": [
        "# Q-10. Uppercases and lowercases in a string - Method 2\n",
        "def uplow(a):\n",
        "  data={'String':a,'Uppercase letters':0,'Lowercase letters':0}\n",
        "  for i in a:\n",
        "    if i.isupper():\n",
        "      data['Uppercase letters']+=1\n",
        "    elif i.islower():\n",
        "      data['Lowercase letters']+=1\n",
        "    else:\n",
        "      continue\n",
        "  return data\n",
        "a=input('Enter a string : ')\n",
        "d=uplow(a)\n",
        "print(d)"
      ],
      "execution_count": null,
      "outputs": [
        {
          "output_type": "stream",
          "name": "stdout",
          "text": [
            "Enter a string : hjJjjkmKHLGKG\n",
            "{'String': 'hjJjjkmKHLGKG', 'Uppercase letters': 7, 'Lowercase letters': 6}\n"
          ]
        }
      ]
    },
    {
      "cell_type": "code",
      "metadata": {
        "id": "XOJzl1Y_gJJ0",
        "colab": {
          "base_uri": "https://localhost:8080/"
        },
        "outputId": "efdfa2b8-f62a-4918-a303-179d9538888b"
      },
      "source": [
        "# Q-11. Single letter count\n",
        "def slc(a,b):\n",
        "  if b.upper() in a or b.lower() in a:\n",
        "    count=a.count(b.upper())+a.count(b.lower())\n",
        "    return count\n",
        "  else:\n",
        "    count=0\n",
        "    return count\n",
        "a=input('Enter a string : ')\n",
        "b=input('Enter the letter : ')\n",
        "c=slc(a,b)\n",
        "print('Number of letter',b,'in the string :',c)\n"
      ],
      "execution_count": null,
      "outputs": [
        {
          "output_type": "stream",
          "name": "stdout",
          "text": [
            "Enter a string : hHjhjhhH\n",
            "Enter the letter : h\n",
            "Number of letter h in the string : 6\n"
          ]
        }
      ]
    },
    {
      "cell_type": "code",
      "metadata": {
        "id": "MCNz-we5S9z2",
        "colab": {
          "base_uri": "https://localhost:8080/"
        },
        "outputId": "c58c8b3d-0f94-4dd0-a83e-9c5113136429"
      },
      "source": [
        "# Q-12. Returnday Function\n",
        "def returnday(a):\n",
        "  day=['Sunday','Monday','Tuesday','Wednesday','Thursday','Friday','Saturday']\n",
        "  if a>1 and a<7:\n",
        "    d=day[a-1]\n",
        "    return d\n",
        "  else:\n",
        "    d='none'\n",
        "    return d\n",
        "a=int(input('Enter a number between 1 to 7 : '))\n",
        "rday=returnday(a)\n",
        "print('The day is : ',rday)"
      ],
      "execution_count": null,
      "outputs": [
        {
          "output_type": "stream",
          "name": "stdout",
          "text": [
            "Enter a number between 1 to 7 : 5\n",
            "The day is :  Thursday\n"
          ]
        }
      ]
    }
  ]
}