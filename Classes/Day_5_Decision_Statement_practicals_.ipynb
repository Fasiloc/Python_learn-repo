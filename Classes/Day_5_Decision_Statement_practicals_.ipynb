{
  "nbformat": 4,
  "nbformat_minor": 0,
  "metadata": {
    "colab": {
      "provenance": [],
      "authorship_tag": "ABX9TyP6KACnOKDbLColFu9nqITW",
      "include_colab_link": true
    },
    "kernelspec": {
      "name": "python3",
      "display_name": "Python 3"
    },
    "language_info": {
      "name": "python"
    }
  },
  "cells": [
    {
      "cell_type": "markdown",
      "metadata": {
        "id": "view-in-github",
        "colab_type": "text"
      },
      "source": [
        "<a href=\"https://colab.research.google.com/github/Fasiloc/Python_learn-repo/blob/main/Classes/Day_5_Decision_Statement_practicals_.ipynb\" target=\"_parent\"><img src=\"https://colab.research.google.com/assets/colab-badge.svg\" alt=\"Open In Colab\"/></a>"
      ]
    },
    {
      "cell_type": "code",
      "metadata": {
        "id": "Hj6ZcQNdFE-B",
        "colab": {
          "base_uri": "https://localhost:8080/"
        },
        "outputId": "82ae4fe6-b088-481a-9d96-a9c0a8a0ca22"
      },
      "source": [
        "# ass1:Program to accept an integers and print the given integer is positive or negative. Make use of if statement\n",
        "num=int(input('Enter a number : '))\n",
        "if num>0:\n",
        "  print('The number is positive')\n",
        "elif num==0:\n",
        "  print('The number is zero')\n",
        "else:\n",
        "  print('The number is negative')"
      ],
      "execution_count": null,
      "outputs": [
        {
          "output_type": "stream",
          "name": "stdout",
          "text": [
            "Enter a number-99\n",
            "The number is negative\n"
          ]
        }
      ]
    },
    {
      "cell_type": "code",
      "metadata": {
        "colab": {
          "base_uri": "https://localhost:8080/"
        },
        "id": "zhEtxBaAXlpL",
        "outputId": "029bc9c0-557e-4b8d-d5b1-a46fc4c9d2e3"
      },
      "source": [
        "# Program to accept an integers and print the given integer is odd or even\n",
        "num=int(input('Enter the number : '))\n",
        "if num%2==0:\n",
        "  print('The number is even')\n",
        "else:\n",
        "  print('The number is odd')"
      ],
      "execution_count": null,
      "outputs": [
        {
          "output_type": "stream",
          "name": "stdout",
          "text": [
            "Enter the number : 7\n",
            "The number is negative\n"
          ]
        }
      ]
    },
    {
      "cell_type": "code",
      "metadata": {
        "colab": {
          "base_uri": "https://localhost:8080/"
        },
        "id": "SBBP8OSm1T72",
        "outputId": "6ef4815c-5938-4f2f-9ad6-4e53efb3c0fc"
      },
      "source": [
        "#Largest of three\n",
        "a=int(input('Enter first number : '))\n",
        "b=int(input('Enter second number : '))\n",
        "c=int(input('Enter third number : '))\n",
        "if a>b and b>c:\n",
        "  print(a,'is the largest number')\n",
        "elif b>c:\n",
        "  print(b,'is the largest number')\n",
        "else:\n",
        "  print(c,'is the largest number')"
      ],
      "execution_count": null,
      "outputs": [
        {
          "output_type": "stream",
          "name": "stdout",
          "text": [
            "Enter first number : 8\n",
            "Enter second number : 5\n",
            "Enter third number : 2\n",
            "8 is the largest number\n"
          ]
        }
      ]
    },
    {
      "cell_type": "code",
      "metadata": {
        "colab": {
          "base_uri": "https://localhost:8080/"
        },
        "id": "WfM5JPUm5VEu",
        "outputId": "a56073e1-049f-443d-dd6c-ba887ec1b780"
      },
      "source": [
        "# Arithmetic operations\n",
        "a=int(input('Enter first number : '))\n",
        "b=int(input('Enter second number : '))\n",
        "c=input('Enter arithmetic operation +,-,*,/,% :')\n",
        "if c=='+':\n",
        "  print('addition of the two numbers is',a+b)\n",
        "elif c=='-':\n",
        "  print('subtraction of the two numbers is',a-b)\n",
        "elif c=='*':\n",
        "  print('multiplication of the two numbers is',a*b)\n",
        "elif c=='/':\n",
        "  print('division of the two numbers is',a/b)\n",
        "elif c=='%':\n",
        "  print('modulus of the two numbers is',a%b)\n",
        "else:\n",
        "  print('invalid operation')"
      ],
      "execution_count": null,
      "outputs": [
        {
          "output_type": "stream",
          "name": "stdout",
          "text": [
            "Enter first number : 2458\n",
            "Enter second number : 12\n",
            "Enter arithmetic operation +,-,*,/,% :/\n",
            "divition of the two numbers is 204.83333333333334\n"
          ]
        }
      ]
    },
    {
      "cell_type": "code",
      "metadata": {
        "colab": {
          "base_uri": "https://localhost:8080/"
        },
        "id": "jYQZhkgZ9pxl",
        "outputId": "1b2f0a64-a5ea-438c-80f4-c8c2d047a19f"
      },
      "source": [
        "#Ascending order sorting\n",
        "a=int(input('Enter first number : '))\n",
        "b=int(input('Enter second number : '))\n",
        "c=int(input('Enter third number : '))\n",
        "if a<b and b<c:\n",
        "  x,y,z=a,b,c\n",
        "elif a<c and c<b:\n",
        "  x,y,z=a,c,b\n",
        "elif b<a and a<c:\n",
        "  x,y,z=b,a,c\n",
        "elif b<c and c<a:\n",
        "  x,y,z=b,c,a\n",
        "elif c<a and a<b:\n",
        "  x,y,z=c,a,b\n",
        "else:\n",
        "  x,y,z=c,b,a\n",
        "print('The Ascending order is :',x,y,z)"
      ],
      "execution_count": null,
      "outputs": [
        {
          "output_type": "stream",
          "name": "stdout",
          "text": [
            "Enter first number : 6\n",
            "Enter second number : 1\n",
            "Enter third number : 2\n",
            "The Ascending order is : 1 2 6\n"
          ]
        }
      ]
    },
    {
      "cell_type": "code",
      "metadata": {
        "colab": {
          "base_uri": "https://localhost:8080/"
        },
        "id": "ztMNsifuD7ka",
        "outputId": "8f1edd7d-5714-4f53-8f4a-c0f6fd687546"
      },
      "source": [
        "#Case sensitivity checker\n",
        "str1=input('Enter a charactor : ')\n",
        "if str1.isupper():\n",
        "  print('Charactor is in uppercase')\n",
        "elif str1.islower():\n",
        "  print('Charactor is in lowercase')\n",
        "else:\n",
        "  print('Charactor is not alphabetic')"
      ],
      "execution_count": null,
      "outputs": [
        {
          "output_type": "stream",
          "name": "stdout",
          "text": [
            "Enter a charactor : S\n",
            "Charactor is in uppercase\n"
          ]
        }
      ]
    },
    {
      "cell_type": "code",
      "metadata": {
        "colab": {
          "base_uri": "https://localhost:8080/"
        },
        "id": "7d7pzRkPF7vs",
        "outputId": "6248baab-3910-4950-cd5a-48bb1b847d17"
      },
      "source": [
        "#Circle area and perimeter \n",
        "r=float(input('Enter Radius of the circle : '))\n",
        "op=int(input('Choose the operation :\\n  1. Perimeter of the circle \\n  2. Area of the Circle\\n Choice : '))\n",
        "if op==1:\n",
        "  print('Perimeter of the circle : ',2*3.14*r)\n",
        "if op==2:\n",
        "  print('Area of the Circle : ',3.14*r*r)\n"
      ],
      "execution_count": null,
      "outputs": [
        {
          "output_type": "stream",
          "name": "stdout",
          "text": [
            "Enter Radius of the circle : 2.56\n",
            "Choose the operation :\n",
            "  1. Perimeter of the circle \n",
            "  2. Area of the Circle\n",
            " Choice : 1\n",
            "Perimeter of the circle :  16.076800000000002\n"
          ]
        }
      ]
    },
    {
      "cell_type": "code",
      "metadata": {
        "colab": {
          "base_uri": "https://localhost:8080/"
        },
        "id": "Bi-V7tEtH-7r",
        "outputId": "e00a4fa7-121a-498a-c175-2a6872314e9f"
      },
      "source": [
        "#smallest of three\n",
        "a=int(input('Enter first number : '))\n",
        "b=int(input('Enter second number : '))\n",
        "c=int(input('Enter third number : '))\n",
        "if a<b and b<c:\n",
        "  s=a\n",
        "elif b<c:\n",
        "  s=b\n",
        "else:\n",
        "  s=c\n",
        "print(s,'is the smallest number')"
      ],
      "execution_count": null,
      "outputs": [
        {
          "output_type": "stream",
          "name": "stdout",
          "text": [
            "Enter first number : 1\n",
            "Enter second number : 4\n",
            "Enter third number : 9\n",
            "1 is the smallest number\n"
          ]
        }
      ]
    },
    {
      "cell_type": "code",
      "metadata": {
        "colab": {
          "base_uri": "https://localhost:8080/"
        },
        "id": "rSlA1JRfF0WX",
        "outputId": "d75eb6f6-d319-4096-e548-a8e5ad97f788"
      },
      "source": [
        "op=int(input('choose your conversion\\n  1.celsius to Fahrenheit\\n  2.Fahrenheit to celsius\\nChoice : '))\n",
        "if op==1:\n",
        "  tc=float(input('Enter the temprature in celsius : '))\n",
        "  tf=(9/5)*tc+32\n",
        "  print('Temperature in fahreheit is :',tf)\n",
        "elif op==2:\n",
        "  tf=float(input('Enter the temprature in fahrenheit : '))\n",
        "  tc=(5/9)*tf-32\n",
        "  print('Temperature in celsius is :',tc)\n",
        "else:\n",
        "  print('invalied choice')\n"
      ],
      "execution_count": null,
      "outputs": [
        {
          "output_type": "stream",
          "name": "stdout",
          "text": [
            "choose your conversion\n",
            "  1.celsius to Fahrenheit\n",
            "  2.Fahrenheit to celsius\n",
            "Choice : 2\n",
            "Enter the temprature in fahrenheit98.3\n",
            "Temperature in celsius is : 22.611111111111114\n"
          ]
        }
      ]
    },
    {
      "cell_type": "code",
      "metadata": {
        "colab": {
          "base_uri": "https://localhost:8080/"
        },
        "id": "3OPA_7RLEHOS",
        "outputId": "98f1eb6f-d23a-4eef-9e6a-89e6ae359330"
      },
      "source": [
        "#String membership test\n",
        "mainstr=input('Enter the main string : ')\n",
        "substr=input('Enter the sub string : ')\n",
        "if substr in mainstr:\n",
        "  print(substr,'is found')\n",
        "else:\n",
        "  print(substr,'is not found')"
      ],
      "execution_count": null,
      "outputs": [
        {
          "output_type": "stream",
          "name": "stdout",
          "text": [
            "Enter the main stringThe quick brown fox jumps over the lazy dog\n",
            "Enter the sub stringfox\n",
            "fox is found\n"
          ]
        }
      ]
    },
    {
      "cell_type": "code",
      "metadata": {
        "colab": {
          "base_uri": "https://localhost:8080/"
        },
        "id": "LOyJuHYWQDY8",
        "outputId": "cceb1d76-f730-430c-88e9-3b22f0d57a0c"
      },
      "source": [
        "#Reverse of a number\n",
        "n=int(input('Enter a number greater than 1000 : '))\n",
        "if n>1000:\n",
        "  nstr=str(n)\n",
        "  print('Reverse of the number is :',nstr[::-1])\n",
        "else:\n",
        "  print('Number below 1000 not allowed')"
      ],
      "execution_count": null,
      "outputs": [
        {
          "output_type": "stream",
          "name": "stdout",
          "text": [
            "Enter a number greater than 1000 : 63257\n",
            "Reverse of the number is : 75236\n"
          ]
        }
      ]
    }
  ]
}