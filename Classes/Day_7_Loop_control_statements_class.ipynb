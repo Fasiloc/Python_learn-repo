{
  "nbformat": 4,
  "nbformat_minor": 0,
  "metadata": {
    "colab": {
      "provenance": [],
      "authorship_tag": "ABX9TyOofMCKlIVqv8QMdgyQUkiV",
      "include_colab_link": true
    },
    "kernelspec": {
      "name": "python3",
      "display_name": "Python 3"
    },
    "language_info": {
      "name": "python"
    }
  },
  "cells": [
    {
      "cell_type": "markdown",
      "metadata": {
        "id": "view-in-github",
        "colab_type": "text"
      },
      "source": [
        "<a href=\"https://colab.research.google.com/github/Fasiloc/Python_learn-repo/blob/main/Classes/Day_7_Loop_control_statements_class.ipynb\" target=\"_parent\"><img src=\"https://colab.research.google.com/assets/colab-badge.svg\" alt=\"Open In Colab\"/></a>"
      ]
    },
    {
      "cell_type": "code",
      "metadata": {
        "id": "KiJMAsRxaptz",
        "colab": {
          "base_uri": "https://localhost:8080/"
        },
        "outputId": "14ef723a-b2d9-4265-d0b8-42f514900e08"
      },
      "source": [
        "for letter in 'python':\n",
        "  if letter=='h':\n",
        "    break\n",
        "  print('current letter :',letter)\n",
        "var=10\n",
        "while var>0:\n",
        "  print('current variable value :',var)\n",
        "  var-=1\n",
        "  if var==5:\n",
        "    break\n",
        "print('good bye')"
      ],
      "execution_count": null,
      "outputs": [
        {
          "output_type": "stream",
          "name": "stdout",
          "text": [
            "current letter : p\n",
            "current letter : y\n",
            "current letter : t\n",
            "current variable value : 10\n",
            "current variable value : 9\n",
            "current variable value : 8\n",
            "current variable value : 7\n",
            "current variable value : 6\n",
            "good bye\n"
          ]
        }
      ]
    },
    {
      "cell_type": "code",
      "metadata": {
        "colab": {
          "base_uri": "https://localhost:8080/"
        },
        "id": "Opl6l_KDnaZh",
        "outputId": "50da3ffe-4f27-4316-8055-b9bdf5467899"
      },
      "source": [
        "for letter in 'python':\n",
        "  if letter=='h':\n",
        "    continue\n",
        "  print('current letter :',letter)\n",
        "var=10\n",
        "while var>0:\n",
        "  print('current variable value :',var)\n",
        "  var-=1\n",
        "  if var==5:\n",
        "    continue\n",
        "print('good bye')"
      ],
      "execution_count": null,
      "outputs": [
        {
          "output_type": "stream",
          "name": "stdout",
          "text": [
            "current letter : p\n",
            "current letter : y\n",
            "current letter : t\n",
            "current letter : o\n",
            "current letter : n\n",
            "current variable value : 10\n",
            "current variable value : 9\n",
            "current variable value : 8\n",
            "current variable value : 7\n",
            "current variable value : 6\n",
            "current variable value : 5\n",
            "current variable value : 4\n",
            "current variable value : 3\n",
            "current variable value : 2\n",
            "current variable value : 1\n",
            "good bye\n"
          ]
        }
      ]
    },
    {
      "cell_type": "code",
      "metadata": {
        "id": "Jx_-FHY3sp8Z"
      },
      "source": [
        "for num in range(10,20):\n",
        "  for"
      ],
      "execution_count": null,
      "outputs": []
    }
  ]
}