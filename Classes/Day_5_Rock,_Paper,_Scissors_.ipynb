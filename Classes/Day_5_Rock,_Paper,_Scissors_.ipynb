{
  "nbformat": 4,
  "nbformat_minor": 0,
  "metadata": {
    "colab": {
      "provenance": [],
      "authorship_tag": "ABX9TyOSGhK5JhVvSFlL2/JGE0p2",
      "include_colab_link": true
    },
    "kernelspec": {
      "name": "python3",
      "display_name": "Python 3"
    },
    "language_info": {
      "name": "python"
    }
  },
  "cells": [
    {
      "cell_type": "markdown",
      "metadata": {
        "id": "view-in-github",
        "colab_type": "text"
      },
      "source": [
        "<a href=\"https://colab.research.google.com/github/Fasiloc/Python_learn-repo/blob/main/Classes/Day_5_Rock%2C_Paper%2C_Scissors_.ipynb\" target=\"_parent\"><img src=\"https://colab.research.google.com/assets/colab-badge.svg\" alt=\"Open In Colab\"/></a>"
      ]
    },
    {
      "cell_type": "code",
      "metadata": {
        "colab": {
          "base_uri": "https://localhost:8080/"
        },
        "id": "jWpKfRRvIRni",
        "outputId": "6a7b8de8-adb9-42d4-be5a-6013055e2d77"
      },
      "source": [
        "import random\n",
        "l=['rock','paper','scissor']\n",
        "while True:\n",
        "  comp=random.choice(l)\n",
        "  you=input('rock, paper , scissor ? :')\n",
        "  if you==comp:\n",
        "    print('it is a tie, Try again')\n",
        "    continue\n",
        "  elif you=='rock' and comp=='paper':\n",
        "    print('paper covers rock \\n\\t computer wins')\n",
        "    break\n",
        "  elif you=='rock' and comp=='scissor':\n",
        "    print('rock crushes scissor \\n\\t you wins')\n",
        "    break\n",
        "  elif you=='Paper' and comp=='rock':\n",
        "    print('paper covers rock \\n\\t you wins')\n",
        "    break\n",
        "  elif you=='paper' and comp=='scissor':\n",
        "    print('scisssor cuts paper \\n\\t computer wins')\n",
        "    break\n",
        "  elif you=='scissor' and comp=='rock': \n",
        "    print('rock crushes scissor \\n\\t computer wins')\n",
        "    break\n",
        "  elif you=='scissor' and comp=='paper': \n",
        "    print('scissor cuts paper \\n\\t you wins')\n",
        "    break\n",
        "  else:\n",
        "    print('invalid entry, Try again')\n",
        "    continue"
      ],
      "execution_count": null,
      "outputs": [
        {
          "output_type": "stream",
          "name": "stdout",
          "text": [
            "rock, paper , scissor ? :rock\n",
            "Try again\n",
            "rock, paper , scissor ? :rock\n",
            "paper covers rock \n",
            "\t computer wins\n"
          ]
        }
      ]
    }
  ]
}