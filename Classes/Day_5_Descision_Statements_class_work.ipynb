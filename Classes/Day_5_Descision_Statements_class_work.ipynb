{
  "nbformat": 4,
  "nbformat_minor": 0,
  "metadata": {
    "colab": {
      "provenance": [],
      "authorship_tag": "ABX9TyP7YRbMQaQKoT/X7i4z8pmq",
      "include_colab_link": true
    },
    "kernelspec": {
      "name": "python3",
      "display_name": "Python 3"
    },
    "language_info": {
      "name": "python"
    }
  },
  "cells": [
    {
      "cell_type": "markdown",
      "metadata": {
        "id": "view-in-github",
        "colab_type": "text"
      },
      "source": [
        "<a href=\"https://colab.research.google.com/github/Fasiloc/Python_learn-repo/blob/main/Classes/Day_5_Descision_Statements_class_work.ipynb\" target=\"_parent\"><img src=\"https://colab.research.google.com/assets/colab-badge.svg\" alt=\"Open In Colab\"/></a>"
      ]
    },
    {
      "cell_type": "code",
      "metadata": {
        "colab": {
          "base_uri": "https://localhost:8080/"
        },
        "id": "Y0jmpW0ae42H",
        "outputId": "423c04b6-7165-470f-e78a-de2f371444e1"
      },
      "source": [
        "a=int(input('enter first number'))\n",
        "b=int(input('enter second number'))\n",
        "op=input('enter arithmatic operator')\n",
        "if op=='+':\n",
        "  print('addition of given numbers',a+b)\n",
        "elif op=='-':\n",
        "  print('subtraction of given numbers',a-b)\n",
        "elif op=='*':\n",
        "  print('multiplication of given numbers',a*b)\n",
        "elif op=='/':\n",
        "  print(a/b)\n",
        "elif op=='%':\n",
        "  print(a%b)\n",
        "else:\n",
        "  print('invalid operator') "
      ],
      "execution_count": null,
      "outputs": [
        {
          "output_type": "stream",
          "name": "stdout",
          "text": [
            "enter first number4\n",
            "enter second number9\n",
            "enter arithmatic operator*\n",
            "multiplication of given numbers 36\n"
          ]
        }
      ]
    },
    {
      "cell_type": "code",
      "metadata": {
        "id": "PwsVHVzpjQDR"
      },
      "source": [
        "num1=int(input('Enter first number'))\n",
        "num2=int(input('Enter first number'))\n",
        "num3=int(input('Enter first number'))"
      ],
      "execution_count": null,
      "outputs": []
    },
    {
      "cell_type": "code",
      "metadata": {
        "colab": {
          "base_uri": "https://localhost:8080/",
          "height": 129
        },
        "id": "3bLBML12lokR",
        "outputId": "1f3b6a58-53f4-4e9a-f664-bf1b068042bb"
      },
      "source": [
        "r=int(input('radius of circle')\n",
        "print('1. calculate area')\n",
        "print('2 calculate perimeter')\n",
        "choice=int(input('choice:'))\n",
        "if choice==1:\n",
        " print('area =',3.14*r*r)\n",
        "elif choice==2:\n",
        "  print('perimeter =',2*3.14*r)\n",
        "else:\n",
        "  print('invalid choice')"
      ],
      "execution_count": null,
      "outputs": [
        {
          "output_type": "error",
          "ename": "SyntaxError",
          "evalue": "ignored",
          "traceback": [
            "\u001b[0;36m  File \u001b[0;32m\"<ipython-input-10-0e7a78c236c1>\"\u001b[0;36m, line \u001b[0;32m2\u001b[0m\n\u001b[0;31m    print('1. calculate area')\u001b[0m\n\u001b[0m        ^\u001b[0m\n\u001b[0;31mSyntaxError\u001b[0m\u001b[0;31m:\u001b[0m invalid syntax\n"
          ]
        }
      ]
    },
    {
      "cell_type": "code",
      "metadata": {
        "id": "7rlzmF7xndK0"
      },
      "source": [],
      "execution_count": null,
      "outputs": []
    }
  ]
}