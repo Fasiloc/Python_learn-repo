{
  "nbformat": 4,
  "nbformat_minor": 0,
  "metadata": {
    "colab": {
      "provenance": [],
      "authorship_tag": "ABX9TyPrDdselirQ9FOaOBpMj5F1",
      "include_colab_link": true
    },
    "kernelspec": {
      "name": "python3",
      "display_name": "Python 3"
    },
    "language_info": {
      "name": "python"
    }
  },
  "cells": [
    {
      "cell_type": "markdown",
      "metadata": {
        "id": "view-in-github",
        "colab_type": "text"
      },
      "source": [
        "<a href=\"https://colab.research.google.com/github/Fasiloc/Python_learn-repo/blob/main/Classes/Day_9_Objects_and_class_classwork.ipynb\" target=\"_parent\"><img src=\"https://colab.research.google.com/assets/colab-badge.svg\" alt=\"Open In Colab\"/></a>"
      ]
    },
    {
      "cell_type": "code",
      "metadata": {
        "colab": {
          "base_uri": "https://localhost:8080/"
        },
        "id": "2sm9GWsGUGRl",
        "outputId": "af26a290-a905-41bf-a634-308dd0588e54"
      },
      "source": [
        "class car:\n",
        "  name='BMW'\n",
        "  color='Red'\n",
        "car1=car()\n",
        "car2=car()\n",
        "print(car1.name)\n",
        "print(car1.color)\n",
        "print(car2.name)\n",
        "print(car2.color)"
      ],
      "execution_count": null,
      "outputs": [
        {
          "output_type": "stream",
          "name": "stdout",
          "text": [
            "BMW\n",
            "Red\n",
            "BMW\n",
            "Red\n"
          ]
        }
      ]
    },
    {
      "cell_type": "code",
      "metadata": {
        "id": "ZFdS_zrHWsKK",
        "colab": {
          "base_uri": "https://localhost:8080/"
        },
        "outputId": "eb874e8d-8314-4adf-ad99-6896c00ef369"
      },
      "source": [
        "class car: # class definition\n",
        "  def __init__(self,namenew,colornew):\n",
        "    self.name=namenew\n",
        "    self.color=colornew\n",
        "  def change_color(self):\n",
        "    self.color='green'\n",
        "car1=car(\"BMW\",\"red\") #create object\n",
        "car2=car('Audi',\"Black\")\n",
        "\n",
        "print(car1.name)\n",
        "print(car1.color)\n",
        "print(car2.name)\n",
        "print(car2.color)\n",
        "car1.change_color()\n",
        "print(car1.color)"
      ],
      "execution_count": null,
      "outputs": [
        {
          "output_type": "stream",
          "name": "stdout",
          "text": [
            "BMW\n",
            "red\n",
            "Audi\n",
            "Black\n",
            "green\n"
          ]
        }
      ]
    },
    {
      "cell_type": "code",
      "metadata": {
        "colab": {
          "base_uri": "https://localhost:8080/"
        },
        "id": "jHySSb_ZNLFH",
        "outputId": "918cbb5d-3daf-42ae-a9ce-cfab22ccf997"
      },
      "source": [
        "class car: # class definition\n",
        "  def __init__(self,namenew,colornew):\n",
        "    self.name=namenew\n",
        "    self.color=colornew\n",
        "  def change_color(self,c):\n",
        "    self.color=c\n",
        "car1=car(\"BMW\",\"red\") #create object\n",
        "car2=car('Audi',\"Black\")\n",
        "\n",
        "\n",
        "print(car1.name)\n",
        "print(car1.color)\n",
        "print(car2.name)\n",
        "print(car2.color)\n",
        "car1.change_color('neon')\n",
        "print(car1.color)"
      ],
      "execution_count": null,
      "outputs": [
        {
          "output_type": "stream",
          "name": "stdout",
          "text": [
            "BMW\n",
            "red\n",
            "Audi\n",
            "Black\n",
            "neon\n"
          ]
        }
      ]
    },
    {
      "cell_type": "code",
      "metadata": {
        "colab": {
          "base_uri": "https://localhost:8080/"
        },
        "id": "-OeWFFc_RKtI",
        "outputId": "4c1ffc4a-8eba-4c2b-b82a-712bccf2afe6"
      },
      "source": [
        "class car: # class definition\n",
        "  def __init__(self,namenew,colornew):\n",
        "    self.name=namenew\n",
        "    self.color=colornew\n",
        "  def change_color(self,c):\n",
        "    self.color=c\n",
        "  def print_details(self):\n",
        "    print('car name',self.name,'color',self.color)\n",
        "    \n",
        "\n",
        "car1=car(\"BMW\",\"red\") #create object\n",
        "car2=car('Audi',\"Black\")\n",
        "\n",
        "\n",
        "print(car1.name)\n",
        "print(car1.color)\n",
        "print(car2.name)\n",
        "print(car2.color)\n",
        "car1.change_color('neon')\n",
        "print(car1.color)\n",
        "car1.print_details()"
      ],
      "execution_count": null,
      "outputs": [
        {
          "output_type": "stream",
          "name": "stdout",
          "text": [
            "BMW\n",
            "red\n",
            "Audi\n",
            "Black\n",
            "neon\n",
            "car name BMW color neon\n"
          ]
        }
      ]
    },
    {
      "cell_type": "code",
      "metadata": {
        "colab": {
          "base_uri": "https://localhost:8080/"
        },
        "id": "DrGpJ083SAc3",
        "outputId": "e40d719d-7b00-4ab2-8128-367cd8961bde"
      },
      "source": [
        "class facebook:\n",
        "  def __init__(self,name,mail,password):\n",
        "    self.name=name\n",
        "    self.mail=mail\n",
        "    self.password=password\n",
        "  def change_mail(self,ce):\n",
        "    self.mail=ce\n",
        "  def change_password(self,cp):\n",
        "    self.password=cp\n",
        "  def print_details(self):\n",
        "    print(self.name,self.mail,self.password)\n",
        "\n",
        "user1=facebook('alice','alice@gmail.com','shgdafghs')\n",
        "user2=facebook('john','john@gmail.com','ssfdh')\n",
        "user3=facebook('jaimes','jaimes@gmail.com','jasdg')\n",
        "user1.print_details()\n",
        "ce=input('Enter a e mail : ')\n",
        "cp=input('Enter a password : ')\n",
        "user2.change_mail(ce)\n",
        "user2.change_password(cp)\n",
        "user2.print_details()\n",
        "user3.print_details()"
      ],
      "execution_count": null,
      "outputs": [
        {
          "output_type": "stream",
          "name": "stdout",
          "text": [
            "alice alice@gmail.com shgdafghs\n",
            "Enter a e mail : asdfgbkdsa\n",
            "Enter a password : hsidgfi\n",
            "john asdfgbkdsa hsidgfi\n",
            "jaimes jaimes@gmail.com jasdg\n"
          ]
        }
      ]
    },
    {
      "cell_type": "code",
      "metadata": {
        "colab": {
          "base_uri": "https://localhost:8080/"
        },
        "id": "VFMSWh1tWo6n",
        "outputId": "ff6d0e93-c6d9-464e-bde7-05775ca09ee6"
      },
      "source": [
        "class bank:\n",
        "  def __init__(self,name,phone,account_no,balance):\n",
        "    self.name=name\n",
        "    self.phone=phone\n",
        "    self.account_no=account_no\n",
        "    self.balance=balance\n",
        "  def deposite(self,d):\n",
        "    self.balance+=d \n",
        "  def withdrawal(self,w):\n",
        "    self.balance-=w    \n",
        "  def printdet(self):\n",
        "    print(self.name,'Phone :',self.phone,'Account No :',self.account_no,'Balance :',self.balance)\n",
        "usr1=bank('ram','9695987521','2546556985965',5689)\n",
        "usr2=bank('biju','9695943251','654854136659',8562)\n",
        "usr1.printdet()\n",
        "d=int(input('deposite : '))\n",
        "usr2.deposite(d)\n",
        "usr2.printdet()\n",
        "w=int(input('withdraw : '))\n",
        "usr1.withdrawal(w)\n",
        "usr1.printdet()"
      ],
      "execution_count": null,
      "outputs": [
        {
          "output_type": "stream",
          "name": "stdout",
          "text": [
            "ram Phone : 9695987521 Account No : 2546556985965 Balance : 5689\n",
            "deposite : 456\n",
            "biju Phone : 9695943251 Account No : 654854136659 Balance : 9018\n",
            "withdraw : 123\n",
            "ram Phone : 9695987521 Account No : 2546556985965 Balance : 5566\n"
          ]
        }
      ]
    },
    {
      "cell_type": "code",
      "metadata": {
        "id": "QdBrIAxlg93k"
      },
      "source": [],
      "execution_count": null,
      "outputs": []
    },
    {
      "cell_type": "code",
      "metadata": {
        "id": "limssUbOcYRZ"
      },
      "source": [],
      "execution_count": null,
      "outputs": []
    }
  ]
}