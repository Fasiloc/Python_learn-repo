{
  "nbformat": 4,
  "nbformat_minor": 0,
  "metadata": {
    "colab": {
      "provenance": [],
      "authorship_tag": "ABX9TyOrZTr3NLVX07AesescUW85",
      "include_colab_link": true
    },
    "kernelspec": {
      "name": "python3",
      "display_name": "Python 3"
    },
    "language_info": {
      "name": "python"
    }
  },
  "cells": [
    {
      "cell_type": "markdown",
      "metadata": {
        "id": "view-in-github",
        "colab_type": "text"
      },
      "source": [
        "<a href=\"https://colab.research.google.com/github/Fasiloc/Python_learn-repo/blob/main/Classes/Day%201%20-%20Strings_in_Python.ipynb\" target=\"_parent\"><img src=\"https://colab.research.google.com/assets/colab-badge.svg\" alt=\"Open In Colab\"/></a>"
      ]
    },
    {
      "cell_type": "code",
      "metadata": {
        "colab": {
          "base_uri": "https://localhost:8080/"
        },
        "id": "tgAQKN_CDwwu",
        "outputId": "d65f9b10-c9f1-4f84-ae09-6ec1547ceace"
      },
      "source": [
        "#Negative and Positive String indexing\n",
        "name='python'\n",
        "print(name[2])\n",
        "print(name[-1])"
      ],
      "execution_count": null,
      "outputs": [
        {
          "output_type": "stream",
          "name": "stdout",
          "text": [
            "t\n",
            "n\n"
          ]
        }
      ]
    },
    {
      "cell_type": "code",
      "metadata": {
        "colab": {
          "base_uri": "https://localhost:8080/"
        },
        "id": "GC9n5gOjENbl",
        "outputId": "ac6c69b3-2c63-4da1-fc6d-e04560da4079"
      },
      "source": [
        "#String Slicing\n",
        "name='python'\n",
        "print(name[2:5])\n",
        "print(name[:])\n",
        "print(name[1:])\n",
        "print(name[:4])\n",
        "print(name[1:5:2])"
      ],
      "execution_count": null,
      "outputs": [
        {
          "output_type": "stream",
          "name": "stdout",
          "text": [
            "tho\n",
            "python\n",
            "ython\n",
            "pyth\n",
            "yh\n"
          ]
        }
      ]
    },
    {
      "cell_type": "code",
      "metadata": {
        "colab": {
          "base_uri": "https://localhost:8080/",
          "height": 214
        },
        "id": "kCO2702KGDjI",
        "outputId": "a2de6669-25f6-4e67-a196-c8e0f26db776"
      },
      "source": [
        "#modifiying and deleting a charactor in a String (not possible)\n",
        "name='calender'\n",
        "name[6]='a'\n",
        "del name[2]\n",
        "print(name)\n"
      ],
      "execution_count": null,
      "outputs": [
        {
          "output_type": "error",
          "ename": "TypeError",
          "evalue": "ignored",
          "traceback": [
            "\u001b[0;31m---------------------------------------------------------------------------\u001b[0m",
            "\u001b[0;31mTypeError\u001b[0m                                 Traceback (most recent call last)",
            "\u001b[0;32m<ipython-input-13-abefdb014bc0>\u001b[0m in \u001b[0;36m<module>\u001b[0;34m()\u001b[0m\n\u001b[1;32m      1\u001b[0m \u001b[0;31m#modifiying and deleting a charactor in a String (not possible)\u001b[0m\u001b[0;34m\u001b[0m\u001b[0;34m\u001b[0m\u001b[0;34m\u001b[0m\u001b[0m\n\u001b[1;32m      2\u001b[0m \u001b[0mname\u001b[0m\u001b[0;34m=\u001b[0m\u001b[0;34m'calender'\u001b[0m\u001b[0;34m\u001b[0m\u001b[0;34m\u001b[0m\u001b[0m\n\u001b[0;32m----> 3\u001b[0;31m \u001b[0;32mdel\u001b[0m \u001b[0mname\u001b[0m\u001b[0;34m[\u001b[0m\u001b[0;36m2\u001b[0m\u001b[0;34m]\u001b[0m\u001b[0;34m\u001b[0m\u001b[0;34m\u001b[0m\u001b[0m\n\u001b[0m\u001b[1;32m      4\u001b[0m \u001b[0mprint\u001b[0m\u001b[0;34m(\u001b[0m\u001b[0mname\u001b[0m\u001b[0;34m)\u001b[0m\u001b[0;34m\u001b[0m\u001b[0;34m\u001b[0m\u001b[0m\n",
            "\u001b[0;31mTypeError\u001b[0m: 'str' object doesn't support item deletion"
          ]
        }
      ]
    },
    {
      "cell_type": "code",
      "metadata": {
        "colab": {
          "base_uri": "https://localhost:8080/"
        },
        "id": "wBJSJsApGUDT",
        "outputId": "9ccd2aaa-9c8e-45cb-eac0-10a27dc06c39"
      },
      "source": [
        "#String Condensation and Repetation\n",
        "name='python'\n",
        "version='3.26'\n",
        "print(name+' '+version)\n",
        "print(name*3)"
      ],
      "execution_count": null,
      "outputs": [
        {
          "output_type": "stream",
          "name": "stdout",
          "text": [
            "python 3.26\n",
            "pythonpythonpython\n"
          ]
        }
      ]
    },
    {
      "cell_type": "code",
      "metadata": {
        "colab": {
          "base_uri": "https://localhost:8080/"
        },
        "id": "U-U6xMQZL-Lv",
        "outputId": "40482100-ad48-490f-cb6e-dac63eefb750"
      },
      "source": [
        "#String Membership test\n",
        "string1='hello all'\n",
        "print('all' in string1)\n",
        "print('hello' not in string1)\n",
        "print('dear' in string1)"
      ],
      "execution_count": null,
      "outputs": [
        {
          "output_type": "stream",
          "name": "stdout",
          "text": [
            "True\n",
            "False\n",
            "False\n"
          ]
        }
      ]
    },
    {
      "cell_type": "code",
      "metadata": {
        "colab": {
          "base_uri": "https://localhost:8080/"
        },
        "id": "7_bMf0fZM5Vl",
        "outputId": "ced9fb5d-d171-443a-f87b-0b97106d6bf0"
      },
      "source": [
        "#string iteration\n",
        "name='python'\n",
        "for i in name:\n",
        "  print(i)"
      ],
      "execution_count": null,
      "outputs": [
        {
          "output_type": "stream",
          "name": "stdout",
          "text": [
            "p\n",
            "y\n",
            "t\n",
            "h\n",
            "o\n",
            "n\n"
          ]
        }
      ]
    },
    {
      "cell_type": "code",
      "metadata": {
        "colab": {
          "base_uri": "https://localhost:8080/"
        },
        "id": "TCM5u7ElOGCC",
        "outputId": "932e8c72-7ab2-443c-89ae-773dd21139e7"
      },
      "source": [
        "#string iteration\n",
        "name='python'\n",
        "for i in range(len(name)):\n",
        "  print(i)\n",
        "  print(name[i])"
      ],
      "execution_count": null,
      "outputs": [
        {
          "output_type": "stream",
          "name": "stdout",
          "text": [
            "0\n",
            "p\n",
            "1\n",
            "y\n",
            "2\n",
            "t\n",
            "3\n",
            "h\n",
            "4\n",
            "o\n",
            "5\n",
            "n\n"
          ]
        }
      ]
    },
    {
      "cell_type": "code",
      "metadata": {
        "colab": {
          "base_uri": "https://localhost:8080/"
        },
        "id": "ESITimIQSVRR",
        "outputId": "0d6e65b1-f351-4dfc-e2ac-0c9e9d6cb263"
      },
      "source": [
        "#String handling functions\n",
        "name='python'\n",
        "print(len(name))\n",
        "print(name.capitalize())\n",
        "name1=name.upper()\n",
        "print(name1)\n",
        "print(name1.lower())\n",
        "print(name.index('y'))\n",
        "print(name.isalnum())\n",
        "print(name.isalpha())\n",
        "print(name.islower())\n",
        "print(name.isupper())"
      ],
      "execution_count": null,
      "outputs": [
        {
          "output_type": "stream",
          "name": "stdout",
          "text": [
            "6\n",
            "Python\n",
            "PYTHON\n",
            "python\n",
            "1\n",
            "True\n",
            "True\n",
            "True\n",
            "False\n"
          ]
        }
      ]
    }
  ]
}