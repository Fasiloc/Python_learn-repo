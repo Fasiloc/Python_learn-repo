{
  "nbformat": 4,
  "nbformat_minor": 0,
  "metadata": {
    "colab": {
      "provenance": [],
      "authorship_tag": "ABX9TyPEZjB95dItCUZY/qYDIiYa",
      "include_colab_link": true
    },
    "kernelspec": {
      "name": "python3",
      "display_name": "Python 3"
    },
    "language_info": {
      "name": "python"
    }
  },
  "cells": [
    {
      "cell_type": "markdown",
      "metadata": {
        "id": "view-in-github",
        "colab_type": "text"
      },
      "source": [
        "<a href=\"https://colab.research.google.com/github/Fasiloc/Python_learn-repo/blob/main/Classes/Day_7_Function_class_final.ipynb\" target=\"_parent\"><img src=\"https://colab.research.google.com/assets/colab-badge.svg\" alt=\"Open In Colab\"/></a>"
      ]
    },
    {
      "cell_type": "code",
      "metadata": {
        "colab": {
          "base_uri": "https://localhost:8080/"
        },
        "id": "zlLF_Pc6AmVC",
        "outputId": "90436293-a9e9-4005-bce6-bb2e0be8d547"
      },
      "source": [
        "x=lambda a:a+5\n",
        "print(x(5))"
      ],
      "execution_count": null,
      "outputs": [
        {
          "output_type": "stream",
          "name": "stdout",
          "text": [
            "10\n"
          ]
        }
      ]
    },
    {
      "cell_type": "code",
      "metadata": {
        "colab": {
          "base_uri": "https://localhost:8080/"
        },
        "id": "85mwscIwA3vZ",
        "outputId": "67f91532-a836-4995-da8f-b872bbed20bf"
      },
      "source": [
        "x=lambda a,b:a-b+10\n",
        "print(x(2,4))"
      ],
      "execution_count": null,
      "outputs": [
        {
          "output_type": "stream",
          "name": "stdout",
          "text": [
            "8\n"
          ]
        }
      ]
    },
    {
      "cell_type": "code",
      "metadata": {
        "colab": {
          "base_uri": "https://localhost:8080/"
        },
        "id": "ncpnrtInBFl_",
        "outputId": "1960654d-4f9b-4093-e325-0fadf15751bb"
      },
      "source": [
        "h=lambda :10+5\n",
        "print(h())"
      ],
      "execution_count": null,
      "outputs": [
        {
          "output_type": "stream",
          "name": "stdout",
          "text": [
            "15\n"
          ]
        }
      ]
    },
    {
      "cell_type": "code",
      "metadata": {
        "colab": {
          "base_uri": "https://localhost:8080/"
        },
        "id": "ITkKym2TByL8",
        "outputId": "54752d14-a97c-483c-acf1-2ce472912319"
      },
      "source": [
        "l=[1,2,5,6,4,8]\n",
        "ev=list(filter(lambda x:x%2==0,l))\n",
        "print(ev)"
      ],
      "execution_count": null,
      "outputs": [
        {
          "output_type": "stream",
          "name": "stdout",
          "text": [
            "[2, 6, 4, 8]\n"
          ]
        }
      ]
    },
    {
      "cell_type": "code",
      "metadata": {
        "colab": {
          "base_uri": "https://localhost:8080/"
        },
        "id": "5N7v93RjGtfQ",
        "outputId": "22f57016-022a-40a8-f950-5f9a7e13b93b"
      },
      "source": [
        "l1=list(eval(input(\"enter list\")))\n",
        "l2=list(eval(input(\"enter second list\")))\n",
        "eve=list(filter(lambda x:x%2==0,l1+l2))\n",
        "print(eve)"
      ],
      "execution_count": null,
      "outputs": [
        {
          "output_type": "stream",
          "name": "stdout",
          "text": [
            "enter list1,2,3,6,4\n",
            "enter second list1,2,5,6,3\n",
            "[2, 6, 4, 2, 6]\n"
          ]
        }
      ]
    },
    {
      "cell_type": "code",
      "metadata": {
        "id": "9w5rO5BQIMtB"
      },
      "source": [],
      "execution_count": null,
      "outputs": []
    },
    {
      "cell_type": "code",
      "metadata": {
        "colab": {
          "base_uri": "https://localhost:8080/"
        },
        "id": "_plzt1qMGTQG",
        "outputId": "ca440335-5a07-46d1-dea3-8ccbe0df8cf7"
      },
      "source": [
        "l=[1,2,5,6,4,8]\n",
        "sq=list(map(lambda x:x**2,l))\n",
        "print(sq)"
      ],
      "execution_count": null,
      "outputs": [
        {
          "output_type": "stream",
          "name": "stdout",
          "text": [
            "[1, 4, 25, 36, 16, 64]\n"
          ]
        }
      ]
    },
    {
      "cell_type": "code",
      "metadata": {
        "colab": {
          "base_uri": "https://localhost:8080/"
        },
        "id": "Q1ZFTvFtJMdu",
        "outputId": "0c83edb9-3bf2-4378-868b-680ec813a4c0"
      },
      "source": [
        "import random\n",
        "print(random.randint(2,9))\n",
        "print(random.random())\n",
        "l=['a','b','d','f']\n",
        "print(l)\n",
        "random.shuffle(l)"
      ],
      "execution_count": null,
      "outputs": [
        {
          "output_type": "stream",
          "name": "stdout",
          "text": [
            "9\n",
            "0.5740024258457871\n",
            "['a', 'b', 'd', 'f']\n"
          ]
        }
      ]
    },
    {
      "cell_type": "code",
      "metadata": {
        "id": "SfV6FqblMp_1"
      },
      "source": [],
      "execution_count": null,
      "outputs": []
    }
  ]
}