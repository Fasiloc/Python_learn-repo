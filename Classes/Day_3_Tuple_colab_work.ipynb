{
  "nbformat": 4,
  "nbformat_minor": 0,
  "metadata": {
    "colab": {
      "provenance": [],
      "include_colab_link": true
    },
    "kernelspec": {
      "name": "python3",
      "display_name": "Python 3"
    },
    "language_info": {
      "name": "python"
    }
  },
  "cells": [
    {
      "cell_type": "markdown",
      "metadata": {
        "id": "view-in-github",
        "colab_type": "text"
      },
      "source": [
        "<a href=\"https://colab.research.google.com/github/Fasiloc/Python_learn-repo/blob/main/Classes/Day_3_Tuple_colab_work.ipynb\" target=\"_parent\"><img src=\"https://colab.research.google.com/assets/colab-badge.svg\" alt=\"Open In Colab\"/></a>"
      ]
    },
    {
      "cell_type": "code",
      "metadata": {
        "colab": {
          "base_uri": "https://localhost:8080/"
        },
        "id": "4FJqtt3X_zEu",
        "outputId": "5c387d49-69db-4236-af64-7d752e1c62b6"
      },
      "source": [
        "mytuple = (10, 30, 20, 40)\n",
        "print(mytuple)"
      ],
      "execution_count": null,
      "outputs": [
        {
          "output_type": "stream",
          "name": "stdout",
          "text": [
            "(10, 30, 20, 40)\n"
          ]
        }
      ]
    },
    {
      "cell_type": "code",
      "metadata": {
        "colab": {
          "base_uri": "https://localhost:8080/"
        },
        "id": "PotbcwjiACh5",
        "outputId": "439dd3aa-4628-4006-c4d1-2c14d2f02c71"
      },
      "source": [
        "print(type(mytuple))"
      ],
      "execution_count": null,
      "outputs": [
        {
          "output_type": "stream",
          "name": "stdout",
          "text": [
            "<class 'tuple'>\n"
          ]
        }
      ]
    },
    {
      "cell_type": "code",
      "metadata": {
        "colab": {
          "base_uri": "https://localhost:8080/"
        },
        "id": "pNMj_WefAJB_",
        "outputId": "6eb00a7d-52fc-499c-d162-7c07ede20852"
      },
      "source": [
        "emp_details=('e1001','aju',40,5000.0)\n",
        "print(emp_details)\n",
        "print(type(emp_details))\n",
        "print(emp_details[-4])"
      ],
      "execution_count": null,
      "outputs": [
        {
          "output_type": "stream",
          "name": "stdout",
          "text": [
            "('e1001', 'aju', 40, 5000.0)\n",
            "<class 'tuple'>\n",
            "e1001\n"
          ]
        }
      ]
    },
    {
      "cell_type": "code",
      "metadata": {
        "colab": {
          "base_uri": "https://localhost:8080/"
        },
        "id": "cdDmfRwYAcPR",
        "outputId": "2d5ce5b4-95fc-4ffe-a890-9a5eed9aecec"
      },
      "source": [
        "mytuple2= (2, \"Hello\", [1, 2, 3], (100, 200), 2)\n",
        "print(mytuple2)\n",
        "print(type(mytuple2))\n",
        "mytuple2[2][1]=4\n",
        "print(mytuple2)"
      ],
      "execution_count": null,
      "outputs": [
        {
          "output_type": "stream",
          "name": "stdout",
          "text": [
            "(2, 'Hello', [1, 2, 3], (100, 200), 2)\n",
            "<class 'tuple'>\n",
            "(2, 'Hello', [1, 4, 3], (100, 200), 2)\n"
          ]
        }
      ]
    },
    {
      "cell_type": "code",
      "metadata": {
        "colab": {
          "base_uri": "https://localhost:8080/"
        },
        "id": "vIQX2_YvA4qs",
        "outputId": "d19cca13-6057-4b4b-b359-7fff2c485b98"
      },
      "source": [
        "mytuple3=1,2,4,5,6\n",
        "T2=\"A\",'3','4' \n",
        "print(T2)\n",
        "print(type(T2))\n"
      ],
      "execution_count": null,
      "outputs": [
        {
          "output_type": "stream",
          "name": "stdout",
          "text": [
            "('A', '3', '4')\n",
            "<class 'tuple'>\n"
          ]
        }
      ]
    },
    {
      "cell_type": "code",
      "metadata": {
        "colab": {
          "base_uri": "https://localhost:8080/"
        },
        "id": "fY1VN564QsHn",
        "outputId": "3c08a0e5-9ba6-4e7d-aca7-ee9c46184223"
      },
      "source": [
        "T1=tuple(\"hello\")\n",
        "print(T1)\n",
        "\n"
      ],
      "execution_count": null,
      "outputs": [
        {
          "output_type": "stream",
          "name": "stdout",
          "text": [
            "('h', 'e', 'l', 'l', 'o')\n"
          ]
        }
      ]
    },
    {
      "cell_type": "code",
      "metadata": {
        "id": "8qFcALyv9xq1",
        "colab": {
          "base_uri": "https://localhost:8080/"
        },
        "outputId": "cb53a702-998b-4d64-eadd-a83382b5a89c"
      },
      "source": [
        "T1=tuple(input(\"enter tuple elements\"))\n",
        "print(T1)"
      ],
      "execution_count": null,
      "outputs": [
        {
          "output_type": "stream",
          "name": "stdout",
          "text": [
            "enter tuple elements1223345\n",
            "('1', '2', '2', '3', '3', '4', '5')\n"
          ]
        }
      ]
    },
    {
      "cell_type": "code",
      "metadata": {
        "id": "37ZDvV8qRJ20",
        "colab": {
          "base_uri": "https://localhost:8080/"
        },
        "outputId": "d5794fc7-f539-4213-cf45-85a68751a2fd"
      },
      "source": [
        "a=input()\n"
      ],
      "execution_count": null,
      "outputs": [
        {
          "name": "stdout",
          "output_type": "stream",
          "text": [
            "2\n"
          ]
        }
      ]
    },
    {
      "cell_type": "code",
      "metadata": {
        "colab": {
          "base_uri": "https://localhost:8080/"
        },
        "id": "vGvysgdX5E7Z",
        "outputId": "39e3a142-2193-42e6-9fe2-c53c65d7600f"
      },
      "source": [
        "a=input()\n",
        "type(a)"
      ],
      "execution_count": null,
      "outputs": [
        {
          "name": "stdout",
          "output_type": "stream",
          "text": [
            "456\n"
          ]
        },
        {
          "output_type": "execute_result",
          "data": {
            "text/plain": [
              "str"
            ]
          },
          "metadata": {},
          "execution_count": 9
        }
      ]
    },
    {
      "cell_type": "code",
      "metadata": {
        "colab": {
          "base_uri": "https://localhost:8080/"
        },
        "id": "wCO3LqWkTuxd",
        "outputId": "d426b605-1b49-4962-ec01-a1fd86a1c3c1"
      },
      "source": [
        "T1=(1,2,(12,'a'),[4,7])\n",
        "print(T1[2][1])"
      ],
      "execution_count": null,
      "outputs": [
        {
          "output_type": "stream",
          "name": "stdout",
          "text": [
            "a\n"
          ]
        }
      ]
    },
    {
      "cell_type": "code",
      "metadata": {
        "colab": {
          "base_uri": "https://localhost:8080/"
        },
        "id": "2mNgnp0UZPWi",
        "outputId": "4913a027-a1a5-4719-9254-c7eed6689bc7"
      },
      "source": [
        "colors = (\"Blue\", \"Green\", \"Red\")\n",
        "for color in colors:\n",
        "    print(color)"
      ],
      "execution_count": null,
      "outputs": [
        {
          "output_type": "stream",
          "name": "stdout",
          "text": [
            "Blue\n",
            "Green\n",
            "Red\n"
          ]
        }
      ]
    },
    {
      "cell_type": "code",
      "metadata": {
        "colab": {
          "base_uri": "https://localhost:8080/"
        },
        "id": "Tllcli1cZq2b",
        "outputId": "60661f3a-161d-4895-8cbc-b0a12d0847d6"
      },
      "source": [
        "mytuple = (1, 2, 3, 4, 5, 6)\n",
        "print(len(mytuple))\n",
        "\n"
      ],
      "execution_count": null,
      "outputs": [
        {
          "output_type": "stream",
          "name": "stdout",
          "text": [
            "6\n"
          ]
        }
      ]
    },
    {
      "cell_type": "code",
      "metadata": {
        "colab": {
          "base_uri": "https://localhost:8080/"
        },
        "id": "kXJ-_0b4aE5S",
        "outputId": "4fd52ac1-eb81-4020-9a73-d9857eecca9a"
      },
      "source": [
        "mytuple = (1, 2, 3, 4, 5, 6)\n",
        "print(min(mytuple))"
      ],
      "execution_count": null,
      "outputs": [
        {
          "output_type": "stream",
          "name": "stdout",
          "text": [
            "1\n"
          ]
        }
      ]
    },
    {
      "cell_type": "code",
      "metadata": {
        "colab": {
          "base_uri": "https://localhost:8080/"
        },
        "id": "1v31-i7sajvv",
        "outputId": "822f9228-f72e-4198-a57c-9f63426051ba"
      },
      "source": [
        "mytuple = (1, 2, 3, 4, 5, 6)\n",
        "print(sum(mytuple))"
      ],
      "execution_count": null,
      "outputs": [
        {
          "output_type": "stream",
          "name": "stdout",
          "text": [
            "21\n"
          ]
        }
      ]
    },
    {
      "cell_type": "code",
      "metadata": {
        "colab": {
          "base_uri": "https://localhost:8080/"
        },
        "id": "FRejRzeJbB4x",
        "outputId": "b3d2d677-8c1b-4000-88b7-7804f95bf04e"
      },
      "source": [
        "mytuple = (1, 2, 3, 4, 5, 6)\n",
        "print(sorted(mytuple,reverse=True))"
      ],
      "execution_count": null,
      "outputs": [
        {
          "output_type": "stream",
          "name": "stdout",
          "text": [
            "[6, 5, 4, 3, 2, 1]\n"
          ]
        }
      ]
    },
    {
      "cell_type": "code",
      "metadata": {
        "colab": {
          "base_uri": "https://localhost:8080/"
        },
        "id": "W2FZBbacbtte",
        "outputId": "c4bc8efb-6c49-49d0-e90e-b6736e3ee1bc"
      },
      "source": [
        "languages = ('Python', 'C', 'Java', 'C++', 'Java')\n",
        "print(languages.index('Java')) # printing index of first occurrence of 'Java'\n",
        "print(languages.count('Java')) # printing count of 'Java'\n"
      ],
      "execution_count": null,
      "outputs": [
        {
          "output_type": "stream",
          "name": "stdout",
          "text": [
            "2\n",
            "2\n"
          ]
        }
      ]
    },
    {
      "cell_type": "code",
      "metadata": {
        "id": "jUAO_NjItfz7",
        "colab": {
          "base_uri": "https://localhost:8080/"
        },
        "outputId": "5c08668a-d5a2-451d-b736-a34f851ea14f"
      },
      "source": [
        " \n"
      ],
      "execution_count": null,
      "outputs": [
        {
          "output_type": "stream",
          "text": [
            "dict_keys(['name', 'age', 'gender'])\n"
          ],
          "name": "stdout"
        }
      ]
    }
  ]
}