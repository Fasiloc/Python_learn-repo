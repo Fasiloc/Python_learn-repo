{
  "nbformat": 4,
  "nbformat_minor": 0,
  "metadata": {
    "colab": {
      "provenance": [],
      "authorship_tag": "ABX9TyNDXr50UrZbnDjdBN6xp7X6",
      "include_colab_link": true
    },
    "kernelspec": {
      "name": "python3",
      "display_name": "Python 3"
    },
    "language_info": {
      "name": "python"
    }
  },
  "cells": [
    {
      "cell_type": "markdown",
      "metadata": {
        "id": "view-in-github",
        "colab_type": "text"
      },
      "source": [
        "<a href=\"https://colab.research.google.com/github/Fasiloc/Python_learn-repo/blob/main/Classes/Day_6_Loops_Practicals.ipynb\" target=\"_parent\"><img src=\"https://colab.research.google.com/assets/colab-badge.svg\" alt=\"Open In Colab\"/></a>"
      ]
    },
    {
      "cell_type": "code",
      "metadata": {
        "colab": {
          "base_uri": "https://localhost:8080/"
        },
        "id": "m5_kGxj6_eyl",
        "outputId": "6867af95-9e98-41b2-edb5-df8290275399"
      },
      "source": [
        "#Multiplication Table of a Number\n",
        "num=int(input('Enter the number : '))\n",
        "print('Multiplication Table of the number is ')\n",
        "for i in range(1,11):\n",
        "  print(i,'*',num,'=',i*num)\n"
      ],
      "execution_count": null,
      "outputs": [
        {
          "output_type": "stream",
          "name": "stdout",
          "text": [
            "Enter the number : 27\n",
            "Multiplication Table of the number is \n",
            "1 * 27 = 27\n",
            "2 * 27 = 54\n",
            "3 * 27 = 81\n",
            "4 * 27 = 108\n",
            "5 * 27 = 135\n",
            "6 * 27 = 162\n",
            "7 * 27 = 189\n",
            "8 * 27 = 216\n",
            "9 * 27 = 243\n",
            "10 * 27 = 270\n"
          ]
        }
      ]
    },
    {
      "cell_type": "code",
      "metadata": {
        "colab": {
          "base_uri": "https://localhost:8080/"
        },
        "id": "-OBxJSznCltT",
        "outputId": "343c8bdf-6ddc-4bce-a7c7-f77071d07f83"
      },
      "source": [
        "#sum of natural numbers between 1 to 7\n",
        "sum=0\n",
        "for i in range(1,8):\n",
        "  sum+=i\n",
        "  print('The sum of first',i,'numbers is :',sum)"
      ],
      "execution_count": null,
      "outputs": [
        {
          "output_type": "stream",
          "name": "stdout",
          "text": [
            "The sum of first 1 numbers is : 1\n",
            "The sum of first 2 numbers is : 3\n",
            "The sum of first 3 numbers is : 6\n",
            "The sum of first 4 numbers is : 10\n",
            "The sum of first 5 numbers is : 15\n",
            "The sum of first 6 numbers is : 21\n",
            "The sum of first 7 numbers is : 28\n"
          ]
        }
      ]
    },
    {
      "cell_type": "code",
      "metadata": {
        "colab": {
          "base_uri": "https://localhost:8080/"
        },
        "id": "WvQYOxGyDeef",
        "outputId": "03a89c30-cf74-4fbe-db1c-8cbb7df1ce89"
      },
      "source": [
        "#sum of natural numbers\n",
        "n=int(input('Enter a number : '))\n",
        "sum=0\n",
        "for i in range(1,n+1):\n",
        "  sum+=i\n",
        "print('Sum of',n,'natural numbers :',sum)\n",
        "#print(\"The Sum of Natural Numbers from 1 to {0} =  {1}\".format(n, sum))"
      ],
      "execution_count": null,
      "outputs": [
        {
          "output_type": "stream",
          "name": "stdout",
          "text": [
            "Enter a number : 22\n",
            "Sum of 22 natural numbers : 253\n"
          ]
        }
      ]
    },
    {
      "cell_type": "code",
      "metadata": {
        "colab": {
          "base_uri": "https://localhost:8080/"
        },
        "id": "HGqyuAFUEdTs",
        "outputId": "98510754-7ff8-4ef0-ba61-7dc9db1985d8"
      },
      "source": [
        "#sum of Elements in a list\n",
        "l=[2,6,4,7,9,4,3,22,4,67]\n",
        "sum=0\n",
        "for i in l:\n",
        "  sum+=i\n",
        "print('Sum of the elements in the list :',sum)"
      ],
      "execution_count": null,
      "outputs": [
        {
          "output_type": "stream",
          "name": "stdout",
          "text": [
            "Sum of the elements in the list : 128\n"
          ]
        }
      ]
    },
    {
      "cell_type": "code",
      "metadata": {
        "colab": {
          "base_uri": "https://localhost:8080/"
        },
        "id": "QYvhEXryGsKO",
        "outputId": "e7eb35a1-8401-4092-d87d-9feaea6d88ca"
      },
      "source": [
        "#Factorial of a number\n",
        "n=int(input('Enter a number : '))\n",
        "fact=1\n",
        "for i in range(1,n+1):\n",
        "  fact*=i\n",
        "print('Factorial of',n,'is',fact)\n"
      ],
      "execution_count": null,
      "outputs": [
        {
          "output_type": "stream",
          "name": "stdout",
          "text": [
            "Enter a number : 21\n",
            "Factorial of 21 is 51090942171709440000\n"
          ]
        }
      ]
    },
    {
      "cell_type": "code",
      "metadata": {
        "colab": {
          "base_uri": "https://localhost:8080/"
        },
        "id": "e4qmDGDTIPdr",
        "outputId": "81c30a6b-f03c-4754-bdfa-28e51af8cfda"
      },
      "source": [
        "#List creation\n",
        "l1=[]\n",
        "l2=[]\n",
        "l3=[]\n",
        "for i in range(1,50):\n",
        "  l1.append(i)\n",
        "for i in range(1,50):\n",
        "  l2.append(i**2)\n",
        "for i in range(1,27):\n",
        "  l3.append(chr(96+i)*i)\n",
        "print(l1)\n",
        "print(l2)\n",
        "print(l3)"
      ],
      "execution_count": null,
      "outputs": [
        {
          "output_type": "stream",
          "name": "stdout",
          "text": [
            "[1, 2, 3, 4, 5, 6, 7, 8, 9, 10, 11, 12, 13, 14, 15, 16, 17, 18, 19, 20, 21, 22, 23, 24, 25, 26, 27, 28, 29, 30, 31, 32, 33, 34, 35, 36, 37, 38, 39, 40, 41, 42, 43, 44, 45, 46, 47, 48, 49]\n",
            "[1, 4, 9, 16, 25, 36, 49, 64, 81, 100, 121, 144, 169, 196, 225, 256, 289, 324, 361, 400, 441, 484, 529, 576, 625, 676, 729, 784, 841, 900, 961, 1024, 1089, 1156, 1225, 1296, 1369, 1444, 1521, 1600, 1681, 1764, 1849, 1936, 2025, 2116, 2209, 2304, 2401]\n",
            "['a', 'bb', 'ccc', 'dddd', 'eeeee', 'ffffff', 'ggggggg', 'hhhhhhhh', 'iiiiiiiii', 'jjjjjjjjjj', 'kkkkkkkkkkk', 'llllllllllll', 'mmmmmmmmmmmmm', 'nnnnnnnnnnnnnn', 'ooooooooooooooo', 'pppppppppppppppp', 'qqqqqqqqqqqqqqqqq', 'rrrrrrrrrrrrrrrrrr', 'sssssssssssssssssss', 'tttttttttttttttttttt', 'uuuuuuuuuuuuuuuuuuuuu', 'vvvvvvvvvvvvvvvvvvvvvv', 'wwwwwwwwwwwwwwwwwwwwwww', 'xxxxxxxxxxxxxxxxxxxxxxxx', 'yyyyyyyyyyyyyyyyyyyyyyyyy', 'zzzzzzzzzzzzzzzzzzzzzzzzzz']\n"
          ]
        }
      ]
    }
  ]
}