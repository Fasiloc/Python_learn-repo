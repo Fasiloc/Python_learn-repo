{
  "nbformat": 4,
  "nbformat_minor": 0,
  "metadata": {
    "colab": {
      "provenance": [],
      "authorship_tag": "ABX9TyM/w/sT4eoS3F3Q0GsGUsZC",
      "include_colab_link": true
    },
    "kernelspec": {
      "name": "python3",
      "display_name": "Python 3"
    },
    "language_info": {
      "name": "python"
    }
  },
  "cells": [
    {
      "cell_type": "markdown",
      "metadata": {
        "id": "view-in-github",
        "colab_type": "text"
      },
      "source": [
        "<a href=\"https://colab.research.google.com/github/Fasiloc/Python_learn-repo/blob/main/Classes/Day_2_Lists_in_python_AIML_.ipynb\" target=\"_parent\"><img src=\"https://colab.research.google.com/assets/colab-badge.svg\" alt=\"Open In Colab\"/></a>"
      ]
    },
    {
      "cell_type": "code",
      "metadata": {
        "id": "7_EZX-auppFi",
        "colab": {
          "base_uri": "https://localhost:8080/"
        },
        "outputId": "5797742f-b617-4551-8c06-bb667744b7be"
      },
      "source": [
        "fruit=['apple','orange','banana']\n",
        "print(fruit)\n",
        "type(fruit)"
      ],
      "execution_count": null,
      "outputs": [
        {
          "output_type": "stream",
          "name": "stdout",
          "text": [
            "['apple', 'orange', 'banana']\n"
          ]
        },
        {
          "output_type": "execute_result",
          "data": {
            "text/plain": [
              "list"
            ]
          },
          "metadata": {},
          "execution_count": 1
        }
      ]
    },
    {
      "cell_type": "code",
      "metadata": {
        "colab": {
          "base_uri": "https://localhost:8080/"
        },
        "id": "cX5P6-VyohTi",
        "outputId": "2953872e-77ca-456b-e99d-bb9a1c7ba2ce"
      },
      "source": [
        "emp_details=['john',20,2000.0,20]\n",
        "print(emp_details)\n",
        "type(emp_details)"
      ],
      "execution_count": null,
      "outputs": [
        {
          "output_type": "stream",
          "name": "stdout",
          "text": [
            "['john', 20, 2000.0, 20]\n"
          ]
        },
        {
          "output_type": "execute_result",
          "data": {
            "text/plain": [
              "list"
            ]
          },
          "metadata": {},
          "execution_count": 2
        }
      ]
    },
    {
      "cell_type": "code",
      "metadata": {
        "colab": {
          "base_uri": "https://localhost:8080/"
        },
        "id": "an0FVl_fo6jM",
        "outputId": "bc3f4159-02f5-49b3-f0c8-8ba8cdc24964"
      },
      "source": [
        "l=list('hello')\n",
        "print(l)\n",
        "type(l)"
      ],
      "execution_count": null,
      "outputs": [
        {
          "output_type": "stream",
          "name": "stdout",
          "text": [
            "['h', 'e', 'l', 'l', 'o']\n"
          ]
        },
        {
          "output_type": "execute_result",
          "data": {
            "text/plain": [
              "list"
            ]
          },
          "metadata": {},
          "execution_count": 4
        }
      ]
    },
    {
      "cell_type": "code",
      "metadata": {
        "colab": {
          "base_uri": "https://localhost:8080/",
          "height": 52
        },
        "id": "X0ISuxpNpk5X",
        "outputId": "6e0ee2ff-36d9-4471-a52c-934d10d58ff2"
      },
      "source": [
        "emp_name=['john','james','ram','mohan']\n",
        "print (emp_name)\n",
        "emp_name[2]"
      ],
      "execution_count": null,
      "outputs": [
        {
          "output_type": "stream",
          "name": "stdout",
          "text": [
            "['john', 'james', 'ram', 'mohan']\n"
          ]
        },
        {
          "output_type": "execute_result",
          "data": {
            "application/vnd.google.colaboratory.intrinsic+json": {
              "type": "string"
            },
            "text/plain": [
              "'ram'"
            ]
          },
          "metadata": {},
          "execution_count": 6
        }
      ]
    },
    {
      "cell_type": "code",
      "metadata": {
        "colab": {
          "base_uri": "https://localhost:8080/",
          "height": 52
        },
        "id": "xaMzhm7erobc",
        "outputId": "f0851987-f254-4102-8077-95128114125e"
      },
      "source": [
        "emp_name=['john','james','ram','mohan']\n",
        "print (emp_name)\n",
        "emp_name[-3]"
      ],
      "execution_count": null,
      "outputs": [
        {
          "output_type": "stream",
          "name": "stdout",
          "text": [
            "['john', 'james', 'ram', 'mohan']\n"
          ]
        },
        {
          "output_type": "execute_result",
          "data": {
            "application/vnd.google.colaboratory.intrinsic+json": {
              "type": "string"
            },
            "text/plain": [
              "'james'"
            ]
          },
          "metadata": {},
          "execution_count": 8
        }
      ]
    },
    {
      "cell_type": "code",
      "metadata": {
        "colab": {
          "base_uri": "https://localhost:8080/"
        },
        "id": "cUv7QLMBrxkV",
        "outputId": "0d1f16af-8200-4792-adc7-9ae8fe192371"
      },
      "source": [
        "emp_name=['john','james','ram','mohan']\n",
        "print(emp_name[1:3])"
      ],
      "execution_count": null,
      "outputs": [
        {
          "output_type": "stream",
          "name": "stdout",
          "text": [
            "['james', 'ram']\n"
          ]
        }
      ]
    },
    {
      "cell_type": "code",
      "metadata": {
        "colab": {
          "base_uri": "https://localhost:8080/"
        },
        "id": "feJD2wZ5qIod",
        "outputId": "5efdb1c8-3290-4196-a712-4c46c2fe2352"
      },
      "source": [
        "mylist=[1,2,3,4,5,6,7,8,9,10]\n",
        "print(mylist[2:9])\n",
        "print(mylist[4:])\n",
        "print(mylist[:8])\n",
        "print(mylist[:])\n",
        "print(mylist[1:10:3])\n",
        "print(mylist[-9:-3])\n",
        "print(mylist[3:-3])\n",
        "print(mylist[-9:])\n",
        "print(mylist[:-3])\n",
        "print(mylist[9:1:-2])"
      ],
      "execution_count": null,
      "outputs": [
        {
          "output_type": "stream",
          "name": "stdout",
          "text": [
            "[3, 4, 5, 6, 7, 8, 9]\n",
            "[5, 6, 7, 8, 9, 10]\n",
            "[1, 2, 3, 4, 5, 6, 7, 8]\n",
            "[1, 2, 3, 4, 5, 6, 7, 8, 9, 10]\n",
            "[2, 5, 8]\n",
            "[2, 3, 4, 5, 6, 7]\n",
            "[4, 5, 6, 7]\n",
            "[2, 3, 4, 5, 6, 7, 8, 9, 10]\n",
            "[1, 2, 3, 4, 5, 6, 7]\n",
            "[10, 8, 6, 4]\n"
          ]
        }
      ]
    },
    {
      "cell_type": "code",
      "metadata": {
        "colab": {
          "base_uri": "https://localhost:8080/"
        },
        "id": "GLWDA23ku-7d",
        "outputId": "6b169897-6d84-419d-91a0-afe22a3fab09"
      },
      "source": [
        "emp_name=['john','james','ram','mohan']\n",
        "emp_name[2]='ravi'\n",
        "print(emp_name)"
      ],
      "execution_count": null,
      "outputs": [
        {
          "output_type": "stream",
          "name": "stdout",
          "text": [
            "['john', 'james', 'ravi', 'mohan']\n"
          ]
        }
      ]
    },
    {
      "cell_type": "code",
      "metadata": {
        "id": "rS6QJikwsacO",
        "colab": {
          "base_uri": "https://localhost:8080/"
        },
        "outputId": "a0b3419c-9303-4c29-c89f-598e33ebc2ab"
      },
      "source": [
        "emp_name=['john','james','ram','mohan']\n",
        "emp_name.append(\"ravi\")\n",
        "print(emp_name)"
      ],
      "execution_count": null,
      "outputs": [
        {
          "output_type": "stream",
          "name": "stdout",
          "text": [
            "['john', 'james', 'ram', 'mohan', 'ravi']\n"
          ]
        }
      ]
    },
    {
      "cell_type": "code",
      "metadata": {
        "colab": {
          "base_uri": "https://localhost:8080/"
        },
        "id": "hCe8MLDBwgH8",
        "outputId": "79dc4d37-db29-4f34-dce9-6f9a83cd59c2"
      },
      "source": [
        "emp_name=['john','james','ram','mohan']\n",
        "emp_name.insert(2,'karan')\n",
        "print(emp_name)"
      ],
      "execution_count": null,
      "outputs": [
        {
          "output_type": "stream",
          "name": "stdout",
          "text": [
            "['john', 'james', 'karan', 'ram', 'mohan']\n"
          ]
        }
      ]
    },
    {
      "cell_type": "code",
      "metadata": {
        "colab": {
          "base_uri": "https://localhost:8080/"
        },
        "id": "57-h8EYh2UxR",
        "outputId": "e3c89ef5-b03d-404b-f5e0-db015e16341c"
      },
      "source": [
        "emp_name=['john','james','ram','mohan']\n",
        "print(emp_name.pop(0))\n",
        "print(emp_name)\n"
      ],
      "execution_count": null,
      "outputs": [
        {
          "output_type": "stream",
          "name": "stdout",
          "text": [
            "john\n",
            "['james', 'ram', 'mohan']\n"
          ]
        }
      ]
    },
    {
      "cell_type": "code",
      "metadata": {
        "id": "mIqlykNx22QN"
      },
      "source": [
        "mylist=[1,2,3,4,5]\n"
      ],
      "execution_count": null,
      "outputs": []
    },
    {
      "cell_type": "code",
      "metadata": {
        "colab": {
          "base_uri": "https://localhost:8080/"
        },
        "id": "sYp8MZ5zxJjQ",
        "outputId": "4a38e3ba-9d54-405a-eb0f-4dfcf584cb8e"
      },
      "source": [
        "mylist=[1,2,3,4,5]\n",
        "mylist.extend([6,7])\n",
        "print(mylist)\n"
      ],
      "execution_count": null,
      "outputs": [
        {
          "output_type": "stream",
          "name": "stdout",
          "text": [
            "[1, 2, 3, 4, 5, 6, 7]\n"
          ]
        }
      ]
    },
    {
      "cell_type": "code",
      "metadata": {
        "colab": {
          "base_uri": "https://localhost:8080/"
        },
        "id": "rntM9wYsxoqw",
        "outputId": "98f9248d-bb37-4f80-9497-c6928ab28e04"
      },
      "source": [
        "mylist=[1,2,3,4,5]\n",
        "del mylist[2]\n",
        "print(mylist)"
      ],
      "execution_count": null,
      "outputs": [
        {
          "output_type": "stream",
          "name": "stdout",
          "text": [
            "[1, 2, 4, 5]\n"
          ]
        }
      ]
    },
    {
      "cell_type": "code",
      "metadata": {
        "colab": {
          "base_uri": "https://localhost:8080/"
        },
        "id": "pFs4xgrcx_Nj",
        "outputId": "56808bc8-c8b9-4f34-c497-741815bdf59b"
      },
      "source": [
        "mylist=[1,2,5,3,4,5,5]\n",
        "mylist.remove(5)\n",
        "print(mylist)"
      ],
      "execution_count": null,
      "outputs": [
        {
          "output_type": "stream",
          "name": "stdout",
          "text": [
            "[1, 2, 3, 4, 5, 5]\n"
          ]
        }
      ]
    },
    {
      "cell_type": "code",
      "metadata": {
        "colab": {
          "base_uri": "https://localhost:8080/"
        },
        "id": "h3OheaeNz3B9",
        "outputId": "6bd0ad50-d08e-415c-db03-136506a2fdb0"
      },
      "source": [
        "color=['blue','green','red']\n",
        "for i in color:\n",
        "  print(i)"
      ],
      "execution_count": null,
      "outputs": [
        {
          "output_type": "stream",
          "name": "stdout",
          "text": [
            "blue\n",
            "green\n",
            "red\n"
          ]
        }
      ]
    },
    {
      "cell_type": "code",
      "metadata": {
        "id": "7bUYqlgd3ws0"
      },
      "source": [],
      "execution_count": null,
      "outputs": []
    },
    {
      "cell_type": "code",
      "metadata": {
        "colab": {
          "base_uri": "https://localhost:8080/"
        },
        "id": "TyLi6gqV1-9K",
        "outputId": "35cf81dc-13aa-4449-e5a1-6999d617a8a3"
      },
      "source": [
        "emplist=[['ram','ravi','john'],[1,2,3]]\n",
        "emplist[1]\n"
      ],
      "execution_count": null,
      "outputs": [
        {
          "output_type": "execute_result",
          "data": {
            "text/plain": [
              "[1, 2, 3]"
            ]
          },
          "metadata": {},
          "execution_count": 19
        }
      ]
    },
    {
      "cell_type": "code",
      "metadata": {
        "colab": {
          "base_uri": "https://localhost:8080/"
        },
        "id": "hSLCsLKo4hv1",
        "outputId": "55fa5f27-257c-4130-ee34-bd85e4bd1092"
      },
      "source": [
        "emplist=[['ram','ravi','john'],[1,2,3]]\n",
        "emplist[0]"
      ],
      "execution_count": null,
      "outputs": [
        {
          "output_type": "execute_result",
          "data": {
            "text/plain": [
              "['ram', 'ravi', 'john']"
            ]
          },
          "metadata": {},
          "execution_count": 21
        }
      ]
    },
    {
      "cell_type": "code",
      "metadata": {
        "colab": {
          "base_uri": "https://localhost:8080/",
          "height": 35
        },
        "id": "RbVnblOi4oTO",
        "outputId": "4f07e9c0-8b77-4e0f-e363-8eeed18e0fbd"
      },
      "source": [
        "emplist=[['ram','ravi','john'],[1,2,3]]\n",
        "emplist[0][1]"
      ],
      "execution_count": null,
      "outputs": [
        {
          "output_type": "execute_result",
          "data": {
            "application/vnd.google.colaboratory.intrinsic+json": {
              "type": "string"
            },
            "text/plain": [
              "'ravi'"
            ]
          },
          "metadata": {},
          "execution_count": 23
        }
      ]
    },
    {
      "cell_type": "code",
      "metadata": {
        "id": "NCONrTnu4vZA",
        "colab": {
          "base_uri": "https://localhost:8080/"
        },
        "outputId": "8ab57c20-184f-4997-8e54-6b57ac29d948"
      },
      "source": [
        "number=[2,3,4,5]\n",
        "square=[]\n",
        "for i in number:\n",
        "  square.append(i**2)\n",
        "print(square)"
      ],
      "execution_count": null,
      "outputs": [
        {
          "output_type": "stream",
          "name": "stdout",
          "text": [
            "[4, 9, 16, 25]\n"
          ]
        }
      ]
    },
    {
      "cell_type": "code",
      "metadata": {
        "colab": {
          "base_uri": "https://localhost:8080/"
        },
        "id": "tndGRvv551Iz",
        "outputId": "f3167ab4-3e1f-4e79-9e4b-a0eb0207b8a5"
      },
      "source": [
        "number=[2,3,4,5]\n",
        "square=[i**2 for i in number]\n",
        "print(square)"
      ],
      "execution_count": null,
      "outputs": [
        {
          "output_type": "stream",
          "name": "stdout",
          "text": [
            "[4, 9, 16, 25]\n"
          ]
        }
      ]
    },
    {
      "cell_type": "code",
      "metadata": {
        "colab": {
          "base_uri": "https://localhost:8080/"
        },
        "id": "o-3OgIyw6VHw",
        "outputId": "72f4eb0d-d9ec-4276-c091-8ae12cde0c8b"
      },
      "source": [
        "numbers=[1,2,3,4,5,6,7,8,9,10]\n",
        "even=[i for i in numbers if i%2==0]\n",
        "print(even)"
      ],
      "execution_count": null,
      "outputs": [
        {
          "output_type": "stream",
          "name": "stdout",
          "text": [
            "[2, 4, 6, 8, 10]\n"
          ]
        }
      ]
    },
    {
      "cell_type": "code",
      "metadata": {
        "colab": {
          "base_uri": "https://localhost:8080/"
        },
        "id": "yahLwcgZ7N6J",
        "outputId": "5507ba0a-463a-46b2-ad5c-2ae4f92da448"
      },
      "source": [
        "l1=[5,8,9,5,6,5,4]\n",
        "print(len(l1))\n",
        "print(max(l1))\n",
        "print(min(l1))\n",
        "print(sum(l1))\n",
        "print(sorted(l1))\n",
        "print(sorted(l1,reverse=True))\n",
        "print(l1.index(6))\n",
        "print(l1.count(5))"
      ],
      "execution_count": null,
      "outputs": [
        {
          "output_type": "stream",
          "name": "stdout",
          "text": [
            "7\n",
            "9\n",
            "4\n",
            "42\n",
            "[4, 5, 5, 5, 6, 8, 9]\n",
            "[9, 8, 6, 5, 5, 5, 4]\n",
            "4\n",
            "3\n"
          ]
        }
      ]
    },
    {
      "cell_type": "code",
      "metadata": {
        "colab": {
          "base_uri": "https://localhost:8080/"
        },
        "id": "WY7mb0V7AFdP",
        "outputId": "58eb6b0a-660a-4c65-8b8d-8de8bd50ee10"
      },
      "source": [
        "x=[1,2,3,4,5]\n",
        "y=['python','c#','java']\n",
        "print(x+y)\n",
        "print(x*3)\n",
        "print(x[3])\n",
        "print(x[-4])\n",
        "print(x[1:4])\n",
        "print(3 in x)\n",
        "print(4 not in x)"
      ],
      "execution_count": null,
      "outputs": [
        {
          "output_type": "stream",
          "name": "stdout",
          "text": [
            "[1, 2, 3, 4, 5, 'python', 'c#', 'java']\n",
            "[1, 2, 3, 4, 5, 1, 2, 3, 4, 5, 1, 2, 3, 4, 5]\n",
            "4\n",
            "2\n",
            "[2, 3, 4]\n",
            "True\n",
            "False\n"
          ]
        }
      ]
    }
  ]
}