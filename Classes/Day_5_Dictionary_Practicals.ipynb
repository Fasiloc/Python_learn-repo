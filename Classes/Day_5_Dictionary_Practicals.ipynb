{
  "nbformat": 4,
  "nbformat_minor": 0,
  "metadata": {
    "colab": {
      "provenance": [],
      "authorship_tag": "ABX9TyOr5NixidpBbo93uYC57OCK",
      "include_colab_link": true
    },
    "kernelspec": {
      "name": "python3",
      "display_name": "Python 3"
    },
    "language_info": {
      "name": "python"
    }
  },
  "cells": [
    {
      "cell_type": "markdown",
      "metadata": {
        "id": "view-in-github",
        "colab_type": "text"
      },
      "source": [
        "<a href=\"https://colab.research.google.com/github/Fasiloc/Python_learn-repo/blob/main/Classes/Day_5_Dictionary_Practicals.ipynb\" target=\"_parent\"><img src=\"https://colab.research.google.com/assets/colab-badge.svg\" alt=\"Open In Colab\"/></a>"
      ]
    },
    {
      "cell_type": "code",
      "metadata": {
        "colab": {
          "base_uri": "https://localhost:8080/"
        },
        "id": "-nnrOn8OZyK-",
        "outputId": "9d4d878d-6f9f-456d-efc5-afe0c43b81dc"
      },
      "source": [
        "#Q-1 :\n",
        "dict1={'fg':'a','o':'rz','ret':45,'p':True,'e':12}\n",
        "print('length of the dictionary',len(dict1))\n",
        "print('sorted keys of dictionary in ascending order',sorted(dict1))\n",
        "print('sorted keys of dictionary in discending order',sorted(dict1,reverse=True))\n",
        "print('object of keys in Dictionary :',dict1.keys())\n",
        "print('object of values in Dictionary :',dict1.values())\n",
        "print('object of items in Dictionary :',dict1.items())"
      ],
      "execution_count": null,
      "outputs": [
        {
          "output_type": "stream",
          "name": "stdout",
          "text": [
            "length of the dictionary 5\n",
            "sorted keys of dictionary in ascending order ['e', 'fg', 'o', 'p', 'ret']\n",
            "sorted keys of dictionary in discending order ['ret', 'p', 'o', 'fg', 'e']\n",
            "object of keys in Dictionary : dict_keys(['fg', 'o', 'ret', 'p', 'e'])\n",
            "object of values in Dictionary : dict_values(['a', 'rz', 45, True, 12])\n",
            "object of items in Dictionary : dict_items([('fg', 'a'), ('o', 'rz'), ('ret', 45), ('p', True), ('e', 12)])\n"
          ]
        }
      ]
    },
    {
      "cell_type": "code",
      "metadata": {
        "id": "upevOLQhdjzT",
        "colab": {
          "base_uri": "https://localhost:8080/"
        },
        "outputId": "0c3ac78d-2808-4eba-9caa-2adb95117b91"
      },
      "source": [
        "#Q-2 :\n",
        "dict2={}\n",
        "itemno=input('Enter number of items in the dictionary')\n",
        "for i in range(int(itemno)):\n",
        "  k=input('Enter the Key : ')\n",
        "  v=input('Enter the value for the Key : ')\n",
        "  dict2[k]=v\n",
        "print('Dictionary is :',dict2)\n"
      ],
      "execution_count": null,
      "outputs": [
        {
          "output_type": "stream",
          "name": "stdout",
          "text": [
            "Enter number of items in the dictionary3\n",
            "Enter the Key : l\n",
            "Enter the value for the Key : h\n",
            "Enter the Key : g\n",
            "Enter the value for the Key : f\n",
            "Enter the Key : t\n",
            "Enter the value for the Key : i\n",
            "Dictionary is : {'l': 'h', 'g': 'f', 't': 'i'}\n"
          ]
        }
      ]
    },
    {
      "cell_type": "code",
      "metadata": {
        "colab": {
          "base_uri": "https://localhost:8080/"
        },
        "id": "jgQvsYr9-Yi0",
        "outputId": "ceaa37d5-b214-4df5-cf38-a5ec7f31ee82"
      },
      "source": [
        "#Q-3 :\n",
        "marks={'John':78,'James':86,'George':79,'Jacob':90,'Joe':89}\n",
        "s=0\n",
        "for i in marks.values():\n",
        "  s=s+i\n",
        "avg=s/len(marks)\n",
        "print('Average mark of the students is : ',avg)\n",
        "marks['average Mark']=avg\n",
        "print('Final Results :',marks)"
      ],
      "execution_count": null,
      "outputs": [
        {
          "output_type": "stream",
          "name": "stdout",
          "text": [
            "Average mark of the students is :  84.4\n",
            "Final Results : {'John': 78, 'James': 86, 'George': 79, 'Jacob': 90, 'Joe': 89, 'average Mark': 84.4}\n"
          ]
        }
      ]
    },
    {
      "cell_type": "code",
      "metadata": {
        "colab": {
          "base_uri": "https://localhost:8080/"
        },
        "id": "09x_9d6uDOgR",
        "outputId": "71afea60-4028-46f3-d563-6de7fea79e22"
      },
      "source": [
        "#Q-4.\n",
        "cal={'january':31,'february':28,'march':31,'april':30,'may':31,'june':30,'july':31,'august':31,'september':30,'october':31,'november':30,'december':31}\n",
        "print('Number of days in the given month :',cal[input('Enter a month for number of days : ')])\n",
        "print('Months in alphabetical order :\\n',sorted(cal))\n",
        "mon=[k for k,v in cal.items() if v==31]\n",
        "print('Months with 31 days :\\n',mon)\n"
      ],
      "execution_count": null,
      "outputs": [
        {
          "output_type": "stream",
          "name": "stdout",
          "text": [
            "Enter a month for number of days : may\n",
            "Number of days in the given month : 31\n",
            "Months in alphabetical order :\n",
            " ['april', 'august', 'december', 'february', 'january', 'july', 'june', 'march', 'may', 'november', 'october', 'september']\n",
            "Months with 31 days :\n",
            " ['january', 'march', 'may', 'july', 'august', 'october', 'december']\n"
          ]
        }
      ]
    },
    {
      "cell_type": "code",
      "metadata": {
        "colab": {
          "base_uri": "https://localhost:8080/"
        },
        "id": "mFwnLIuDRVRf",
        "outputId": "04b09fd3-fb89-4c17-e4da-249241f818dd"
      },
      "source": [
        "#Q-5. \n",
        "customer_details={1001:'john',1004:'jill',1005:'joe',1003:'jack'}\n",
        "print('Custome ids :\\n',[k for k in customer_details])\n",
        "print('Customer names :\\n',[v for v in customer_details.values()])\n",
        "print('Number of customers :',len(customer_details))\n",
        "print('Customer names in alphabetical order :\\n',sorted(customer_details.values()))\n",
        "del customer_details[1005]\n",
        "print('Updated dictionary after deleting cusomer id 1005 :\\n',customer_details)\n",
        "customer_details[1003]='mary'\n",
        "print('Updated dictionary after adding cusomer id 1003 mary :\\n',customer_details)"
      ],
      "execution_count": null,
      "outputs": [
        {
          "output_type": "stream",
          "name": "stdout",
          "text": [
            "Custome ids :\n",
            " [1001, 1004, 1005, 1003]\n",
            "Customer names :\n",
            " ['john', 'jill', 'joe', 'jack']\n",
            "Number of customers : 4\n",
            "Customer names in alphabetical order :\n",
            " ['jack', 'jill', 'joe', 'john']\n",
            "Updated dictionary after deleting cusomer id 1005 :\n",
            " {1001: 'john', 1004: 'jill', 1003: 'jack'}\n",
            "Updated dictionary after adding cusomer id 1003 mary :\n",
            " {1001: 'john', 1004: 'jill', 1003: 'mary'}\n"
          ]
        }
      ]
    }
  ]
}