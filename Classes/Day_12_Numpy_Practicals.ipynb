{
  "nbformat": 4,
  "nbformat_minor": 0,
  "metadata": {
    "colab": {
      "provenance": [],
      "authorship_tag": "ABX9TyNrA1HJ+agaT2LKRUC4G4Ng",
      "include_colab_link": true
    },
    "kernelspec": {
      "name": "python3",
      "display_name": "Python 3"
    },
    "language_info": {
      "name": "python"
    }
  },
  "cells": [
    {
      "cell_type": "markdown",
      "metadata": {
        "id": "view-in-github",
        "colab_type": "text"
      },
      "source": [
        "<a href=\"https://colab.research.google.com/github/Fasiloc/Python_learn-repo/blob/main/Classes/Day_12_Numpy_Practicals.ipynb\" target=\"_parent\"><img src=\"https://colab.research.google.com/assets/colab-badge.svg\" alt=\"Open In Colab\"/></a>"
      ]
    },
    {
      "cell_type": "code",
      "metadata": {
        "colab": {
          "base_uri": "https://localhost:8080/"
        },
        "id": "VAUnFQSieBgT",
        "outputId": "f0536fa9-09cc-42e8-9ce2-ed3fa15e7f80"
      },
      "source": [
        "#Python program to demonstrate basic array characteristics\n",
        "import numpy as np\n",
        "x=np.array([[4,5,6],[7,5,6]])\n",
        "print(type(x))\n",
        "print('Array :',x)\n",
        "print('Shape of the array :',x.shape)\n",
        "print('Data type of the array :',x.dtype)\n",
        "print('Size of the array :',x.size)\n",
        "print('Diamension of the array :',x.ndim)\n",
        "print('Item size of the array :',x.itemsize)\n"
      ],
      "execution_count": null,
      "outputs": [
        {
          "output_type": "stream",
          "name": "stdout",
          "text": [
            "<class 'numpy.ndarray'>\n",
            "Array : [[4 5 6]\n",
            " [7 5 6]]\n",
            "Shape of the array : (2, 3)\n",
            "Data type of the array : int64\n",
            "Size of the array : 6\n",
            "Diamension of the array : 2\n",
            "Item size of the array : 8\n"
          ]
        }
      ]
    },
    {
      "cell_type": "code",
      "metadata": {
        "colab": {
          "base_uri": "https://localhost:8080/"
        },
        "id": "qgO1lUlcjq_L",
        "outputId": "138ae769-809f-491f-93c0-ea2b4ecfc936"
      },
      "source": [
        "#Python program to demonstrate array creation techniques\n",
        "import numpy as np\n",
        "print('Array created using linspace() :\\n\\n',np.linspace(1.25,4.75,num=12),'\\n')\n",
        "print('Array created using arange() :\\n\\n')\n",
        "print(np.arange(8))\n",
        "print(np.arange(6.74))\n",
        "print(np.arange(2.13,12.10))\n",
        "print(np.arange(3,16,3),'\\n')\n",
        "print('Array created using ones() :\\n')\n",
        "print(np.ones(5))\n",
        "print(np.ones(11,dtype=int),'\\n')\n",
        "print(np.ones((3,3)),'\\n')\n",
        "print(np.ones((2,4),dtype=int),'\\n')\n",
        "print('Array created using zeros() :\\n')\n",
        "print(np.zeros(7))\n",
        "print(np.zeros(9,dtype=int),'\\n')\n",
        "print(np.zeros((3,2)),'\\n')\n",
        "print(np.zeros((3,5),dtype=int),'\\n')\n",
        "print('Array created using logspace() :\\n')\n",
        "print(np.logspace(1.25,5.7,num=7),'\\n')\n",
        "print('Array created using random function :\\n')\n",
        "print(np.random.rand(2,9))"
      ],
      "execution_count": null,
      "outputs": [
        {
          "output_type": "stream",
          "name": "stdout",
          "text": [
            "Array created using linspace() :\n",
            "\n",
            " [1.25       1.56818182 1.88636364 2.20454545 2.52272727 2.84090909\n",
            " 3.15909091 3.47727273 3.79545455 4.11363636 4.43181818 4.75      ] \n",
            "\n",
            "Array created using arange() :\n",
            "\n",
            "\n",
            "[0 1 2 3 4 5 6 7]\n",
            "[0. 1. 2. 3. 4. 5. 6.]\n",
            "[ 2.13  3.13  4.13  5.13  6.13  7.13  8.13  9.13 10.13 11.13]\n",
            "[ 3  6  9 12 15] \n",
            "\n",
            "Array created using ones() :\n",
            "\n",
            "[1. 1. 1. 1. 1.]\n",
            "[1 1 1 1 1 1 1 1 1 1 1] \n",
            "\n",
            "[[1. 1. 1.]\n",
            " [1. 1. 1.]\n",
            " [1. 1. 1.]] \n",
            "\n",
            "[[1 1 1 1]\n",
            " [1 1 1 1]] \n",
            "\n",
            "Array created using zeros() :\n",
            "\n",
            "[0. 0. 0. 0. 0. 0. 0.]\n",
            "[0 0 0 0 0 0 0 0 0] \n",
            "\n",
            "[[0. 0.]\n",
            " [0. 0.]\n",
            " [0. 0.]] \n",
            "\n",
            "[[0 0 0 0 0]\n",
            " [0 0 0 0 0]\n",
            " [0 0 0 0 0]] \n",
            "\n",
            "Array created using logspace() :\n",
            "\n",
            "[1.77827941e+01 9.80994713e+01 5.41169527e+02 2.98538262e+03\n",
            " 1.64689787e+04 9.08517576e+04 5.01187234e+05] \n",
            "\n",
            "Array created using random function :\n",
            "\n",
            "[[0.79063432 0.33403921 0.83681711 0.88984976 0.03980624 0.45949513\n",
            "  0.2270139  0.60298553 0.92451811]\n",
            " [0.52596712 0.22566803 0.5404702  0.09410364 0.83587029 0.1448312\n",
            "  0.97469252 0.72349616 0.11190749]]\n"
          ]
        }
      ]
    },
    {
      "cell_type": "code",
      "metadata": {
        "colab": {
          "base_uri": "https://localhost:8080/"
        },
        "id": "gOGoMm21zNC7",
        "outputId": "30f4c269-e5fd-4d4c-840c-8816907ebd21"
      },
      "source": [
        "#Python program to demonstrate indexing in numpy\n",
        "import numpy as np\n",
        "x1=np.array([2,7,85,65,42,9,34,1,8])\n",
        "x2=np.array([[2,6,47],[5,32,4]])\n",
        "x3=np.array([[[2,4,8],[4,2,5]],[[36,5,75],[7,32,4]]])\n",
        "'''1 diamentional indexing'''\n",
        "print(x1[2])\n",
        "print(x1[-3])\n",
        "'''2 diamensioal idexing'''\n",
        "print(x2[1,2])\n",
        "print(x2[0,-1])\n",
        "print(x2[1,-3])\n",
        "print(x2[-1,-1])\n",
        "'''3 diamensional indexing'''\n",
        "print(x3[1,0,1])\n",
        "print(x3[-2,1,-1])"
      ],
      "execution_count": null,
      "outputs": [
        {
          "output_type": "stream",
          "name": "stdout",
          "text": [
            "85\n",
            "34\n",
            "4\n",
            "47\n",
            "5\n",
            "4\n",
            "5\n",
            "5\n"
          ]
        }
      ]
    },
    {
      "cell_type": "code",
      "metadata": {
        "id": "b-1GHz78DdCD"
      },
      "source": [
        "#Python program to demonstrate basic operations on single array\n",
        "x\n"
      ],
      "execution_count": null,
      "outputs": []
    },
    {
      "cell_type": "code",
      "metadata": {
        "id": "yjmyayAxD-s4"
      },
      "source": [
        "#Python program to demonstrate unary operators in numpy\n"
      ],
      "execution_count": null,
      "outputs": []
    },
    {
      "cell_type": "code",
      "metadata": {
        "colab": {
          "base_uri": "https://localhost:8080/",
          "height": 282
        },
        "id": "vIW2N4wzFJ3N",
        "outputId": "fb006a6a-e4d1-4e99-e17f-41f3ef34080c"
      },
      "source": [
        "#Python program to demonstrate binary operators in numpy\n",
        "import numpy as np\n",
        "print(np.bitwise_and(75,45))\n",
        "print(np.bitwise_or(11,8))\n",
        "print(np.bitwise_xor(23,21))\n",
        "print(np.invert(np.array(13)))\n",
        "print(np.left_shift(9))\n",
        "print(np.right_shift(15))\n"
      ],
      "execution_count": null,
      "outputs": [
        {
          "output_type": "stream",
          "name": "stdout",
          "text": [
            "9\n",
            "11\n",
            "2\n",
            "-14\n"
          ]
        },
        {
          "output_type": "error",
          "ename": "ValueError",
          "evalue": "ignored",
          "traceback": [
            "\u001b[0;31m---------------------------------------------------------------------------\u001b[0m",
            "\u001b[0;31mValueError\u001b[0m                                Traceback (most recent call last)",
            "\u001b[0;32m<ipython-input-2-75185722bc39>\u001b[0m in \u001b[0;36m<module>\u001b[0;34m()\u001b[0m\n\u001b[1;32m      5\u001b[0m \u001b[0mprint\u001b[0m\u001b[0;34m(\u001b[0m\u001b[0mnp\u001b[0m\u001b[0;34m.\u001b[0m\u001b[0mbitwise_xor\u001b[0m\u001b[0;34m(\u001b[0m\u001b[0;36m23\u001b[0m\u001b[0;34m,\u001b[0m\u001b[0;36m21\u001b[0m\u001b[0;34m)\u001b[0m\u001b[0;34m)\u001b[0m\u001b[0;34m\u001b[0m\u001b[0;34m\u001b[0m\u001b[0m\n\u001b[1;32m      6\u001b[0m \u001b[0mprint\u001b[0m\u001b[0;34m(\u001b[0m\u001b[0mnp\u001b[0m\u001b[0;34m.\u001b[0m\u001b[0minvert\u001b[0m\u001b[0;34m(\u001b[0m\u001b[0mnp\u001b[0m\u001b[0;34m.\u001b[0m\u001b[0marray\u001b[0m\u001b[0;34m(\u001b[0m\u001b[0;36m13\u001b[0m\u001b[0;34m)\u001b[0m\u001b[0;34m)\u001b[0m\u001b[0;34m)\u001b[0m\u001b[0;34m\u001b[0m\u001b[0;34m\u001b[0m\u001b[0m\n\u001b[0;32m----> 7\u001b[0;31m \u001b[0mprint\u001b[0m\u001b[0;34m(\u001b[0m\u001b[0mnp\u001b[0m\u001b[0;34m.\u001b[0m\u001b[0mleft_shift\u001b[0m\u001b[0;34m(\u001b[0m\u001b[0;36m9\u001b[0m\u001b[0;34m)\u001b[0m\u001b[0;34m)\u001b[0m\u001b[0;34m\u001b[0m\u001b[0;34m\u001b[0m\u001b[0m\n\u001b[0m\u001b[1;32m      8\u001b[0m \u001b[0mprint\u001b[0m\u001b[0;34m(\u001b[0m\u001b[0mnp\u001b[0m\u001b[0;34m.\u001b[0m\u001b[0mright_shift\u001b[0m\u001b[0;34m(\u001b[0m\u001b[0;36m15\u001b[0m\u001b[0;34m)\u001b[0m\u001b[0;34m)\u001b[0m\u001b[0;34m\u001b[0m\u001b[0;34m\u001b[0m\u001b[0m\n",
            "\u001b[0;31mValueError\u001b[0m: invalid number of arguments"
          ]
        }
      ]
    },
    {
      "cell_type": "code",
      "metadata": {
        "id": "0w6-naXxFOJu"
      },
      "source": [
        "#Python program to demonstrate universal functions in numpy"
      ],
      "execution_count": null,
      "outputs": []
    },
    {
      "cell_type": "code",
      "metadata": {
        "id": "jsRlWEC3FTCr"
      },
      "source": [
        "#Python program to demonstrate sorting in numpy"
      ],
      "execution_count": null,
      "outputs": []
    },
    {
      "cell_type": "code",
      "metadata": {
        "id": "mjHIzS80F-VL"
      },
      "source": [
        "#Python program to get unique values from list"
      ],
      "execution_count": null,
      "outputs": []
    }
  ]
}