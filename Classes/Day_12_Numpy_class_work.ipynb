{
  "nbformat": 4,
  "nbformat_minor": 0,
  "metadata": {
    "colab": {
      "provenance": [],
      "authorship_tag": "ABX9TyNqK18TjsRaU11IWti5dJ+y",
      "include_colab_link": true
    },
    "kernelspec": {
      "name": "python3",
      "display_name": "Python 3"
    },
    "language_info": {
      "name": "python"
    }
  },
  "cells": [
    {
      "cell_type": "markdown",
      "metadata": {
        "id": "view-in-github",
        "colab_type": "text"
      },
      "source": [
        "<a href=\"https://colab.research.google.com/github/Fasiloc/Python_learn-repo/blob/main/Classes/Day_12_Numpy_class_work.ipynb\" target=\"_parent\"><img src=\"https://colab.research.google.com/assets/colab-badge.svg\" alt=\"Open In Colab\"/></a>"
      ]
    },
    {
      "cell_type": "code",
      "metadata": {
        "colab": {
          "base_uri": "https://localhost:8080/"
        },
        "id": "pMwN5OSetHxP",
        "outputId": "41e62b8b-cf7c-4ad8-baf7-23623fbdc97b"
      },
      "source": [
        "pip install numpy"
      ],
      "execution_count": null,
      "outputs": [
        {
          "output_type": "stream",
          "name": "stdout",
          "text": [
            "Requirement already satisfied: numpy in /usr/local/lib/python3.7/dist-packages (1.19.5)\n"
          ]
        }
      ]
    },
    {
      "cell_type": "code",
      "metadata": {
        "id": "c1LdtXDH4sDO"
      },
      "source": [
        "import numpy as np"
      ],
      "execution_count": null,
      "outputs": []
    },
    {
      "cell_type": "code",
      "metadata": {
        "colab": {
          "base_uri": "https://localhost:8080/"
        },
        "id": "5jBzxOgp4x6S",
        "outputId": "0f816bb2-6587-4e6b-90b1-f8c8941b32b4"
      },
      "source": [
        "x=np.array([[1,2,3],[4,5,6]],np.int32)\n",
        "type(x)\n",
        "\n"
      ],
      "execution_count": null,
      "outputs": [
        {
          "output_type": "execute_result",
          "data": {
            "text/plain": [
              "numpy.ndarray"
            ]
          },
          "metadata": {},
          "execution_count": 3
        }
      ]
    },
    {
      "cell_type": "code",
      "metadata": {
        "colab": {
          "base_uri": "https://localhost:8080/"
        },
        "id": "7bIfy5ZS5JOb",
        "outputId": "2c6d0a9f-9b38-4fb8-88f1-7f4eaba59fe1"
      },
      "source": [
        "x.shape"
      ],
      "execution_count": null,
      "outputs": [
        {
          "output_type": "execute_result",
          "data": {
            "text/plain": [
              "(2, 3)"
            ]
          },
          "metadata": {},
          "execution_count": 4
        }
      ]
    },
    {
      "cell_type": "code",
      "metadata": {
        "colab": {
          "base_uri": "https://localhost:8080/"
        },
        "id": "3jzorsHKLSt-",
        "outputId": "ce2f749f-a435-4715-949a-41db902ab134"
      },
      "source": [
        "x.ndim"
      ],
      "execution_count": null,
      "outputs": [
        {
          "output_type": "execute_result",
          "data": {
            "text/plain": [
              "2"
            ]
          },
          "metadata": {},
          "execution_count": 5
        }
      ]
    },
    {
      "cell_type": "code",
      "metadata": {
        "colab": {
          "base_uri": "https://localhost:8080/"
        },
        "id": "SA9i4Xlt5Khn",
        "outputId": "555d40d5-0e35-4a0c-8ea6-1751715e6545"
      },
      "source": [
        "x.dtype"
      ],
      "execution_count": null,
      "outputs": [
        {
          "output_type": "execute_result",
          "data": {
            "text/plain": [
              "dtype('int32')"
            ]
          },
          "metadata": {},
          "execution_count": 6
        }
      ]
    },
    {
      "cell_type": "code",
      "metadata": {
        "colab": {
          "base_uri": "https://localhost:8080/"
        },
        "id": "GPwXk34D5OT_",
        "outputId": "be55378c-c72c-4518-da10-826df431f65f"
      },
      "source": [
        "x.size"
      ],
      "execution_count": null,
      "outputs": [
        {
          "output_type": "execute_result",
          "data": {
            "text/plain": [
              "6"
            ]
          },
          "metadata": {},
          "execution_count": 7
        }
      ]
    },
    {
      "cell_type": "code",
      "metadata": {
        "colab": {
          "base_uri": "https://localhost:8080/"
        },
        "id": "V2d6L__U5Tj9",
        "outputId": "0483b262-5244-425b-da1c-bd097153eb3c"
      },
      "source": [
        "np.arange(15)"
      ],
      "execution_count": null,
      "outputs": [
        {
          "output_type": "execute_result",
          "data": {
            "text/plain": [
              "array([ 0,  1,  2,  3,  4,  5,  6,  7,  8,  9, 10, 11, 12, 13, 14])"
            ]
          },
          "metadata": {},
          "execution_count": 12
        }
      ]
    },
    {
      "cell_type": "code",
      "metadata": {
        "colab": {
          "base_uri": "https://localhost:8080/"
        },
        "id": "QTY0QfkH5pkq",
        "outputId": "0025dcab-0ecf-4d5d-d182-dcb92a0060e7"
      },
      "source": [
        "a=np.arange(15).reshape(5,3)\n",
        "print(a)"
      ],
      "execution_count": null,
      "outputs": [
        {
          "output_type": "stream",
          "name": "stdout",
          "text": [
            "[[ 0  1  2]\n",
            " [ 3  4  5]\n",
            " [ 6  7  8]\n",
            " [ 9 10 11]\n",
            " [12 13 14]]\n"
          ]
        }
      ]
    },
    {
      "cell_type": "code",
      "metadata": {
        "colab": {
          "base_uri": "https://localhost:8080/"
        },
        "id": "0Q6hafpF5732",
        "outputId": "8439edf3-b108-44b0-b01c-03be63e4469a"
      },
      "source": [
        "a.shape"
      ],
      "execution_count": null,
      "outputs": [
        {
          "output_type": "execute_result",
          "data": {
            "text/plain": [
              "(5, 3)"
            ]
          },
          "metadata": {},
          "execution_count": 16
        }
      ]
    },
    {
      "cell_type": "code",
      "metadata": {
        "colab": {
          "base_uri": "https://localhost:8080/"
        },
        "id": "hYS7_zzn6LEP",
        "outputId": "efedda02-3c2a-4122-df5d-5750dcfc5de8"
      },
      "source": [
        "a.ndim"
      ],
      "execution_count": null,
      "outputs": [
        {
          "output_type": "execute_result",
          "data": {
            "text/plain": [
              "2"
            ]
          },
          "metadata": {},
          "execution_count": 17
        }
      ]
    },
    {
      "cell_type": "code",
      "metadata": {
        "colab": {
          "base_uri": "https://localhost:8080/"
        },
        "id": "vFHeqZV76SRu",
        "outputId": "3b7963ca-c16c-44e6-de05-284344a9a494"
      },
      "source": [
        "a.itemsize"
      ],
      "execution_count": null,
      "outputs": [
        {
          "output_type": "execute_result",
          "data": {
            "text/plain": [
              "8"
            ]
          },
          "metadata": {},
          "execution_count": 18
        }
      ]
    },
    {
      "cell_type": "code",
      "metadata": {
        "colab": {
          "base_uri": "https://localhost:8080/"
        },
        "id": "j052kAMs6ZfF",
        "outputId": "af73fdbd-5041-4e22-9652-dae014c4a7d1"
      },
      "source": [
        "a.size"
      ],
      "execution_count": null,
      "outputs": [
        {
          "output_type": "execute_result",
          "data": {
            "text/plain": [
              "15"
            ]
          },
          "metadata": {},
          "execution_count": 19
        }
      ]
    },
    {
      "cell_type": "code",
      "metadata": {
        "colab": {
          "base_uri": "https://localhost:8080/"
        },
        "id": "0dD1OuRq6btF",
        "outputId": "57ed270e-8359-495a-bce7-6d68e7b9e213"
      },
      "source": [
        "type(a)"
      ],
      "execution_count": null,
      "outputs": [
        {
          "output_type": "execute_result",
          "data": {
            "text/plain": [
              "numpy.ndarray"
            ]
          },
          "metadata": {},
          "execution_count": 20
        }
      ]
    },
    {
      "cell_type": "code",
      "metadata": {
        "colab": {
          "base_uri": "https://localhost:8080/"
        },
        "id": "ZAAXR_626esI",
        "outputId": "7075a050-df31-4262-a33e-eea780e38c8f"
      },
      "source": [
        "b=np.array([6,7,8])\n",
        "b"
      ],
      "execution_count": null,
      "outputs": [
        {
          "output_type": "execute_result",
          "data": {
            "text/plain": [
              "array([6, 7, 8])"
            ]
          },
          "metadata": {},
          "execution_count": 21
        }
      ]
    },
    {
      "cell_type": "code",
      "metadata": {
        "colab": {
          "base_uri": "https://localhost:8080/"
        },
        "id": "jtiA20-76lo_",
        "outputId": "e1d0b718-36b2-4f2e-bab0-f9d6e374a09d"
      },
      "source": [
        "type(b)"
      ],
      "execution_count": null,
      "outputs": [
        {
          "output_type": "execute_result",
          "data": {
            "text/plain": [
              "numpy.ndarray"
            ]
          },
          "metadata": {},
          "execution_count": 22
        }
      ]
    },
    {
      "cell_type": "code",
      "metadata": {
        "colab": {
          "base_uri": "https://localhost:8080/"
        },
        "id": "xUH1j3DT6pgs",
        "outputId": "0ff96467-dae2-4c46-aa20-0429fd3c598f"
      },
      "source": [
        "a=np.array([1,2,'a','b'])\n",
        "a.dtype"
      ],
      "execution_count": null,
      "outputs": [
        {
          "output_type": "execute_result",
          "data": {
            "text/plain": [
              "dtype('<U21')"
            ]
          },
          "metadata": {},
          "execution_count": 23
        }
      ]
    },
    {
      "cell_type": "code",
      "metadata": {
        "colab": {
          "base_uri": "https://localhost:8080/"
        },
        "id": "aUr2aXyi622V",
        "outputId": "fcdc2af3-bdde-430e-babd-72f25ca63694"
      },
      "source": [
        "np.linspace(2.0,3.0,num=5)"
      ],
      "execution_count": null,
      "outputs": [
        {
          "output_type": "execute_result",
          "data": {
            "text/plain": [
              "array([2.  , 2.25, 2.5 , 2.75, 3.  ])"
            ]
          },
          "metadata": {},
          "execution_count": 24
        }
      ]
    },
    {
      "cell_type": "code",
      "metadata": {
        "colab": {
          "base_uri": "https://localhost:8080/"
        },
        "id": "AjKiea2BBRzK",
        "outputId": "6569b2b9-f865-43cd-c737-8f6f56bb73c2"
      },
      "source": [
        "np.linspace(2.0,3.0,num=5,endpoint=False)"
      ],
      "execution_count": null,
      "outputs": [
        {
          "output_type": "execute_result",
          "data": {
            "text/plain": [
              "array([2. , 2.2, 2.4, 2.6, 2.8])"
            ]
          },
          "metadata": {},
          "execution_count": 25
        }
      ]
    },
    {
      "cell_type": "code",
      "metadata": {
        "colab": {
          "base_uri": "https://localhost:8080/"
        },
        "id": "qm2XuXjnBi8x",
        "outputId": "f524cd6a-98d9-4c5e-b478-360e45a75f14"
      },
      "source": [
        "np.linspace(2.0,3.0,num=5,retstep=True)"
      ],
      "execution_count": null,
      "outputs": [
        {
          "output_type": "execute_result",
          "data": {
            "text/plain": [
              "(array([2.  , 2.25, 2.5 , 2.75, 3.  ]), 0.25)"
            ]
          },
          "metadata": {},
          "execution_count": 26
        }
      ]
    },
    {
      "cell_type": "code",
      "metadata": {
        "colab": {
          "base_uri": "https://localhost:8080/"
        },
        "id": "MVoIUWwuBshR",
        "outputId": "4cdea686-ae99-425f-cec7-9552124328d5"
      },
      "source": [
        "x=np.arange(5)\n",
        "x"
      ],
      "execution_count": null,
      "outputs": [
        {
          "output_type": "execute_result",
          "data": {
            "text/plain": [
              "array([0, 1, 2, 3, 4])"
            ]
          },
          "metadata": {},
          "execution_count": 27
        }
      ]
    },
    {
      "cell_type": "code",
      "metadata": {
        "colab": {
          "base_uri": "https://localhost:8080/"
        },
        "id": "8kIzbEyeB0Pb",
        "outputId": "71438c82-4f69-41a0-e5e3-197100c8bf43"
      },
      "source": [
        "(2**x)\n"
      ],
      "execution_count": null,
      "outputs": [
        {
          "output_type": "execute_result",
          "data": {
            "text/plain": [
              "array([ 1,  2,  4,  8, 16])"
            ]
          },
          "metadata": {},
          "execution_count": 29
        }
      ]
    },
    {
      "cell_type": "code",
      "metadata": {
        "colab": {
          "base_uri": "https://localhost:8080/"
        },
        "id": "k6xIL6g8CBaS",
        "outputId": "15109ccb-cdda-4207-8c66-e43b65e20584"
      },
      "source": [
        "y=np.arange(-1,1.1,0.5)\n",
        "y"
      ],
      "execution_count": null,
      "outputs": [
        {
          "output_type": "execute_result",
          "data": {
            "text/plain": [
              "array([-1. , -0.5,  0. ,  0.5,  1. ])"
            ]
          },
          "metadata": {},
          "execution_count": 30
        }
      ]
    },
    {
      "cell_type": "code",
      "metadata": {
        "colab": {
          "base_uri": "https://localhost:8080/"
        },
        "id": "7qpezcC3CJRR",
        "outputId": "d3dfcde4-0106-4fa3-ccd5-21130c9a6112"
      },
      "source": [
        "np.abs(y)"
      ],
      "execution_count": null,
      "outputs": [
        {
          "output_type": "execute_result",
          "data": {
            "text/plain": [
              "array([1. , 0.5, 0. , 0.5, 1. ])"
            ]
          },
          "metadata": {},
          "execution_count": 31
        }
      ]
    },
    {
      "cell_type": "code",
      "metadata": {
        "colab": {
          "base_uri": "https://localhost:8080/"
        },
        "id": "DhLykcl7CkCD",
        "outputId": "3035ac4d-809c-4ad5-b93b-74dcdd64999f"
      },
      "source": [
        "z=np.arange(10)\n",
        "np.sin(z)"
      ],
      "execution_count": null,
      "outputs": [
        {
          "output_type": "execute_result",
          "data": {
            "text/plain": [
              "array([ 0.        ,  0.84147098,  0.90929743,  0.14112001, -0.7568025 ,\n",
              "       -0.95892427, -0.2794155 ,  0.6569866 ,  0.98935825,  0.41211849])"
            ]
          },
          "metadata": {},
          "execution_count": 32
        }
      ]
    },
    {
      "cell_type": "code",
      "metadata": {
        "colab": {
          "base_uri": "https://localhost:8080/"
        },
        "id": "s7MZ6V90CrwH",
        "outputId": "e6f05dab-7c7c-4548-ab8f-142ce2f6e615"
      },
      "source": [
        "np.ones(5)"
      ],
      "execution_count": null,
      "outputs": [
        {
          "output_type": "execute_result",
          "data": {
            "text/plain": [
              "array([1., 1., 1., 1., 1.])"
            ]
          },
          "metadata": {},
          "execution_count": 33
        }
      ]
    },
    {
      "cell_type": "code",
      "metadata": {
        "colab": {
          "base_uri": "https://localhost:8080/"
        },
        "id": "n7BaHThlCvCP",
        "outputId": "23eb9cb5-397d-4846-97b9-ecbb09833ca9"
      },
      "source": [
        "np.ones((5,),dtype=int)"
      ],
      "execution_count": null,
      "outputs": [
        {
          "output_type": "execute_result",
          "data": {
            "text/plain": [
              "array([1, 1, 1, 1, 1])"
            ]
          },
          "metadata": {},
          "execution_count": 34
        }
      ]
    },
    {
      "cell_type": "code",
      "metadata": {
        "colab": {
          "base_uri": "https://localhost:8080/"
        },
        "id": "8pUUoRUoC5Jb",
        "outputId": "fb0ba354-2198-4051-ac7d-83569ea8d24c"
      },
      "source": [
        "np.ones((2,1))"
      ],
      "execution_count": null,
      "outputs": [
        {
          "output_type": "execute_result",
          "data": {
            "text/plain": [
              "array([[1.],\n",
              "       [1.]])"
            ]
          },
          "metadata": {},
          "execution_count": 35
        }
      ]
    },
    {
      "cell_type": "code",
      "metadata": {
        "colab": {
          "base_uri": "https://localhost:8080/"
        },
        "id": "32dsPvaPC9ex",
        "outputId": "cbf1ce5b-d371-4d39-a76f-fb8fbe11a17f"
      },
      "source": [
        "s=(2,2)\n",
        "np.ones(s)"
      ],
      "execution_count": null,
      "outputs": [
        {
          "output_type": "execute_result",
          "data": {
            "text/plain": [
              "array([[1., 1.],\n",
              "       [1., 1.]])"
            ]
          },
          "metadata": {},
          "execution_count": 36
        }
      ]
    },
    {
      "cell_type": "code",
      "metadata": {
        "colab": {
          "base_uri": "https://localhost:8080/"
        },
        "id": "h8l7OTTjDH4Z",
        "outputId": "783b0b36-12ab-4776-889f-7b9d83cc41f2"
      },
      "source": [
        "np.zeros(6)"
      ],
      "execution_count": null,
      "outputs": [
        {
          "output_type": "execute_result",
          "data": {
            "text/plain": [
              "array([0., 0., 0., 0., 0., 0.])"
            ]
          },
          "metadata": {},
          "execution_count": 37
        }
      ]
    },
    {
      "cell_type": "code",
      "metadata": {
        "colab": {
          "base_uri": "https://localhost:8080/"
        },
        "id": "wmrWl7xODLl6",
        "outputId": "b08df148-c018-4a57-e8af-186697d7ae61"
      },
      "source": [
        "np.zeros((6,),dtype=int)"
      ],
      "execution_count": null,
      "outputs": [
        {
          "output_type": "execute_result",
          "data": {
            "text/plain": [
              "array([0, 0, 0, 0, 0, 0])"
            ]
          },
          "metadata": {},
          "execution_count": 38
        }
      ]
    },
    {
      "cell_type": "code",
      "metadata": {
        "colab": {
          "base_uri": "https://localhost:8080/"
        },
        "id": "Sf1IcUJIDUpg",
        "outputId": "dad8c7f8-e0df-4cb4-95a3-5f27957facb2"
      },
      "source": [
        "np.zeros((2,1))"
      ],
      "execution_count": null,
      "outputs": [
        {
          "output_type": "execute_result",
          "data": {
            "text/plain": [
              "array([[0.],\n",
              "       [0.]])"
            ]
          },
          "metadata": {},
          "execution_count": 40
        }
      ]
    },
    {
      "cell_type": "code",
      "metadata": {
        "colab": {
          "base_uri": "https://localhost:8080/"
        },
        "id": "ZWMYUV5PDfII",
        "outputId": "1c41d752-38b9-4213-969b-b4dffdb2da1c"
      },
      "source": [
        "np.logspace(2.0,3.0,num=5)"
      ],
      "execution_count": null,
      "outputs": [
        {
          "output_type": "execute_result",
          "data": {
            "text/plain": [
              "array([ 100.        ,  177.827941  ,  316.22776602,  562.34132519,\n",
              "       1000.        ])"
            ]
          },
          "metadata": {},
          "execution_count": 41
        }
      ]
    },
    {
      "cell_type": "code",
      "metadata": {
        "colab": {
          "base_uri": "https://localhost:8080/"
        },
        "id": "kQT63fhuDpRA",
        "outputId": "828b3fe7-0a2e-4d59-b56b-c71b0a0bf84b"
      },
      "source": [
        "np.random.rand(3,2)"
      ],
      "execution_count": null,
      "outputs": [
        {
          "output_type": "execute_result",
          "data": {
            "text/plain": [
              "array([[0.66479171, 0.58964442],\n",
              "       [0.61369796, 0.81750505],\n",
              "       [0.69514121, 0.58938645]])"
            ]
          },
          "metadata": {},
          "execution_count": 42
        }
      ]
    },
    {
      "cell_type": "code",
      "metadata": {
        "colab": {
          "base_uri": "https://localhost:8080/"
        },
        "id": "GCQ_Etj9DvA2",
        "outputId": "60d9d8ef-45e1-4d7c-ec1a-e53f01bb3de5"
      },
      "source": [
        "print(np.random.rand(128))"
      ],
      "execution_count": null,
      "outputs": [
        {
          "output_type": "stream",
          "name": "stdout",
          "text": [
            "[0.59141583 0.43030058 0.02444057 0.34485877 0.81534892 0.14393933\n",
            " 0.78938112 0.29765196 0.97829634 0.54480979 0.10525672 0.31048785\n",
            " 0.17949378 0.5515632  0.58974917 0.5627988  0.94997479 0.85514705\n",
            " 0.08543988 0.58394337 0.73909819 0.74735225 0.26777193 0.92803629\n",
            " 0.98397936 0.3886676  0.33669512 0.35625518 0.77985983 0.03278954\n",
            " 0.64795126 0.99358618 0.99170325 0.95474152 0.89522425 0.46299047\n",
            " 0.91381014 0.115328   0.27869277 0.39663562 0.34874445 0.35987919\n",
            " 0.21584297 0.18910207 0.64798928 0.59291002 0.88565052 0.11096565\n",
            " 0.57150888 0.35947157 0.20176863 0.78992087 0.12662551 0.02897091\n",
            " 0.54221786 0.16606625 0.93980947 0.91490458 0.59325452 0.38526075\n",
            " 0.00140746 0.12687275 0.51080193 0.83641673 0.33641719 0.98930705\n",
            " 0.11718643 0.00343012 0.94635708 0.38113539 0.44067733 0.65576909\n",
            " 0.09657523 0.46941275 0.4131987  0.91198907 0.50004102 0.227446\n",
            " 0.63316822 0.80976503 0.20687891 0.67833279 0.10115267 0.00682432\n",
            " 0.96558418 0.80779827 0.82954232 0.80644888 0.42269395 0.04089883\n",
            " 0.2496588  0.78043217 0.7507828  0.26087655 0.3352762  0.05342019\n",
            " 0.16299135 0.59279242 0.02237252 0.20384251 0.18956559 0.2574168\n",
            " 0.58564421 0.38503943 0.74619601 0.40598112 0.46327692 0.64750639\n",
            " 0.60447528 0.23899222 0.18191197 0.58844201 0.05077909 0.62242566\n",
            " 0.50155611 0.2993379  0.31793301 0.14097504 0.27925671 0.90583222\n",
            " 0.01940196 0.07895678 0.02424957 0.50866411 0.59900575 0.66935594\n",
            " 0.55551343 0.10732396]\n"
          ]
        }
      ]
    },
    {
      "cell_type": "code",
      "metadata": {
        "colab": {
          "base_uri": "https://localhost:8080/"
        },
        "id": "LJ-RaE_oD5XX",
        "outputId": "3e4fc2c2-457e-4771-973f-3643427fac98"
      },
      "source": [
        "print(np.random.rand(128,5642,56))"
      ],
      "execution_count": null,
      "outputs": [
        {
          "output_type": "stream",
          "name": "stdout",
          "text": [
            "[[[0.99565773 0.66650152 0.79813907 ... 0.91245576 0.10516551 0.19111233]\n",
            "  [0.70312304 0.95279558 0.03768972 ... 0.00360225 0.29040623 0.81703107]\n",
            "  [0.18202259 0.5992555  0.16754633 ... 0.40635948 0.38342805 0.1748121 ]\n",
            "  ...\n",
            "  [0.99025484 0.11935632 0.62098427 ... 0.23007235 0.43564972 0.12033544]\n",
            "  [0.98453279 0.48355394 0.80077302 ... 0.9902262  0.03527007 0.28337269]\n",
            "  [0.57539168 0.78618203 0.22275025 ... 0.59023017 0.82848428 0.14512825]]\n",
            "\n",
            " [[0.62026019 0.04398987 0.10249535 ... 0.1622133  0.68809926 0.92971138]\n",
            "  [0.0472605  0.20286125 0.9175531  ... 0.92311428 0.39420623 0.83035511]\n",
            "  [0.36481151 0.66774471 0.56655602 ... 0.87315619 0.49914171 0.25330152]\n",
            "  ...\n",
            "  [0.98438943 0.22205959 0.28294752 ... 0.25898076 0.20975715 0.32159651]\n",
            "  [0.93156926 0.85959399 0.65681838 ... 0.98751245 0.56551564 0.89080314]\n",
            "  [0.92255271 0.32513996 0.93738231 ... 0.22535704 0.09545339 0.25463823]]\n",
            "\n",
            " [[0.79985687 0.76576025 0.1144627  ... 0.28083672 0.41368104 0.96978399]\n",
            "  [0.57134436 0.54393935 0.95023789 ... 0.45083581 0.98778113 0.62222475]\n",
            "  [0.54554541 0.25801518 0.47803488 ... 0.65410998 0.77739765 0.45002474]\n",
            "  ...\n",
            "  [0.78621492 0.09548477 0.88615081 ... 0.87456816 0.83226686 0.21919298]\n",
            "  [0.93795606 0.11479729 0.45933007 ... 0.96339609 0.93854213 0.89693215]\n",
            "  [0.28151555 0.91964696 0.07004925 ... 0.23236324 0.58870444 0.71674815]]\n",
            "\n",
            " ...\n",
            "\n",
            " [[0.08234607 0.70666888 0.51031345 ... 0.30013427 0.31255955 0.84856258]\n",
            "  [0.65792063 0.2566331  0.51824271 ... 0.85137166 0.37002963 0.94037263]\n",
            "  [0.66789411 0.39515036 0.7971699  ... 0.61213901 0.71571186 0.25179879]\n",
            "  ...\n",
            "  [0.45548436 0.61300882 0.20132946 ... 0.00734756 0.76901843 0.85747478]\n",
            "  [0.29258474 0.84958464 0.14530026 ... 0.65508993 0.39056471 0.80032789]\n",
            "  [0.87187595 0.13719287 0.23974376 ... 0.28905023 0.67724834 0.65760744]]\n",
            "\n",
            " [[0.22864527 0.91720727 0.13590876 ... 0.98056288 0.97965701 0.01462107]\n",
            "  [0.8497465  0.11750694 0.40785285 ... 0.2433145  0.25016263 0.4855093 ]\n",
            "  [0.42044054 0.31416871 0.23278477 ... 0.29541308 0.38405173 0.53118193]\n",
            "  ...\n",
            "  [0.48640548 0.93919112 0.27218691 ... 0.75150651 0.04109366 0.01710738]\n",
            "  [0.28284474 0.49626435 0.34465675 ... 0.31690153 0.46934291 0.82723127]\n",
            "  [0.96947386 0.01565508 0.45969692 ... 0.32033827 0.55415208 0.29071731]]\n",
            "\n",
            " [[0.85249952 0.28975783 0.65148824 ... 0.28368258 0.18827238 0.28242623]\n",
            "  [0.5825997  0.70956576 0.30128638 ... 0.4463066  0.65395531 0.02598269]\n",
            "  [0.68736575 0.43589817 0.5611942  ... 0.69303058 0.5167344  0.13117416]\n",
            "  ...\n",
            "  [0.2567734  0.68822175 0.39004631 ... 0.65041715 0.2578771  0.72375307]\n",
            "  [0.38136741 0.57531679 0.85642229 ... 0.08265971 0.42635688 0.66972355]\n",
            "  [0.62898204 0.62342508 0.94217982 ... 0.98720804 0.56250936 0.62839742]]]\n"
          ]
        }
      ]
    },
    {
      "cell_type": "code",
      "metadata": {
        "id": "O6eV2ux_E4Gd",
        "colab": {
          "base_uri": "https://localhost:8080/"
        },
        "outputId": "0721b2b5-5964-4e01-db8c-af14002d02e6"
      },
      "source": [
        "np.random.randint(1000,2000,200)"
      ],
      "execution_count": null,
      "outputs": [
        {
          "output_type": "execute_result",
          "data": {
            "text/plain": [
              "array([1349, 1010, 1038, 1350, 1908, 1401, 1859, 1461, 1226, 1963, 1420,\n",
              "       1578, 1520, 1092, 1763, 1076, 1097, 1734, 1575, 1332, 1729, 1258,\n",
              "       1276, 1719, 1300, 1403, 1569, 1292, 1104, 1850, 1154, 1233, 1460,\n",
              "       1901, 1661, 1638, 1211, 1642, 1216, 1817, 1010, 1856, 1969, 1124,\n",
              "       1893, 1375, 1414, 1908, 1838, 1896, 1232, 1488, 1787, 1719, 1220,\n",
              "       1975, 1472, 1549, 1922, 1542, 1707, 1087, 1186, 1583, 1597, 1870,\n",
              "       1495, 1446, 1911, 1314, 1909, 1794, 1528, 1286, 1743, 1703, 1741,\n",
              "       1489, 1553, 1846, 1963, 1255, 1489, 1778, 1317, 1159, 1441, 1919,\n",
              "       1449, 1991, 1837, 1195, 1703, 1074, 1819, 1789, 1940, 1272, 1194,\n",
              "       1410, 1467, 1623, 1750, 1265, 1652, 1562, 1055, 1292, 1777, 1207,\n",
              "       1000, 1360, 1061, 1777, 1971, 1882, 1724, 1710, 1933, 1899, 1356,\n",
              "       1679, 1381, 1164, 1019, 1028, 1612, 1731, 1298, 1518, 1376, 1826,\n",
              "       1910, 1721, 1206, 1959, 1606, 1718, 1493, 1008, 1384, 1483, 1125,\n",
              "       1412, 1823, 1601, 1989, 1349, 1952, 1241, 1395, 1727, 1805, 1618,\n",
              "       1409, 1159, 1171, 1388, 1950, 1072, 1288, 1836, 1478, 1139, 1804,\n",
              "       1107, 1303, 1298, 1878, 1040, 1130, 1728, 1582, 1246, 1822, 1754,\n",
              "       1732, 1686, 1011, 1991, 1179, 1009, 1399, 1200, 1701, 1454, 1865,\n",
              "       1282, 1828, 1250, 1169, 1290, 1545, 1041, 1365, 1451, 1602, 1316,\n",
              "       1276, 1712])"
            ]
          },
          "metadata": {},
          "execution_count": 9
        }
      ]
    },
    {
      "cell_type": "code",
      "metadata": {
        "id": "gLyIOAVDE4S3"
      },
      "source": [],
      "execution_count": null,
      "outputs": []
    }
  ]
}