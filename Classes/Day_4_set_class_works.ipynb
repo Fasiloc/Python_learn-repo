{
  "nbformat": 4,
  "nbformat_minor": 0,
  "metadata": {
    "colab": {
      "provenance": [],
      "include_colab_link": true
    },
    "kernelspec": {
      "name": "python3",
      "display_name": "Python 3"
    },
    "language_info": {
      "name": "python"
    }
  },
  "cells": [
    {
      "cell_type": "markdown",
      "metadata": {
        "id": "view-in-github",
        "colab_type": "text"
      },
      "source": [
        "<a href=\"https://colab.research.google.com/github/Fasiloc/Python_learn-repo/blob/main/Classes/Day_4_set_class_works.ipynb\" target=\"_parent\"><img src=\"https://colab.research.google.com/assets/colab-badge.svg\" alt=\"Open In Colab\"/></a>"
      ]
    },
    {
      "cell_type": "code",
      "metadata": {
        "colab": {
          "base_uri": "https://localhost:8080/"
        },
        "id": "JzyyXTjtLR4p",
        "outputId": "57318f9b-9a58-4893-f270-8bd0fd9edc7c"
      },
      "source": [
        "thisset={'apple','banana','cherry'}\n",
        "print(thisset)"
      ],
      "execution_count": null,
      "outputs": [
        {
          "output_type": "stream",
          "name": "stdout",
          "text": [
            "{'cherry', 'apple', 'banana'}\n"
          ]
        }
      ]
    },
    {
      "cell_type": "code",
      "metadata": {
        "colab": {
          "base_uri": "https://localhost:8080/"
        },
        "id": "3TpZ6sTtMwSn",
        "outputId": "f22afde7-a828-437f-8cbb-be9f5161071c"
      },
      "source": [
        "type(thisset)"
      ],
      "execution_count": null,
      "outputs": [
        {
          "output_type": "execute_result",
          "data": {
            "text/plain": [
              "set"
            ]
          },
          "metadata": {},
          "execution_count": 4
        }
      ]
    },
    {
      "cell_type": "code",
      "metadata": {
        "colab": {
          "base_uri": "https://localhost:8080/"
        },
        "id": "rYC9nhS9M2OK",
        "outputId": "d123152f-6c45-42bf-8d84-8aff2a45d61d"
      },
      "source": [
        "s2=set(\"hello\")\n",
        "print(s2)\n",
        "type(s2)"
      ],
      "execution_count": null,
      "outputs": [
        {
          "output_type": "stream",
          "name": "stdout",
          "text": [
            "{'l', 'e', 'h', 'o'}\n"
          ]
        },
        {
          "output_type": "execute_result",
          "data": {
            "text/plain": [
              "set"
            ]
          },
          "metadata": {},
          "execution_count": 3
        }
      ]
    },
    {
      "cell_type": "code",
      "metadata": {
        "colab": {
          "base_uri": "https://localhost:8080/"
        },
        "id": "A9pkpF6BNXqN",
        "outputId": "4c27c176-d308-4ef3-8dd3-c8f718788619"
      },
      "source": [
        "for x in thisset:\n",
        "  print(x)"
      ],
      "execution_count": null,
      "outputs": [
        {
          "output_type": "stream",
          "name": "stdout",
          "text": [
            "orange\n",
            "cherry\n",
            "apple\n",
            "banana\n"
          ]
        }
      ]
    },
    {
      "cell_type": "code",
      "metadata": {
        "colab": {
          "base_uri": "https://localhost:8080/"
        },
        "id": "GIMXum9oNp_M",
        "outputId": "5636814c-22ce-4547-88d2-ebc55c0f04db"
      },
      "source": [
        "thisset.add('orange')\n",
        "thisset.add('mango')\n",
        "thisset.add(2)\n",
        "thisset.add((1,2))\n",
        "thisset.add(True)\n",
        "thisset"
      ],
      "execution_count": null,
      "outputs": [
        {
          "output_type": "execute_result",
          "data": {
            "text/plain": [
              "{(1, 2), 2, True, 'apple', 'banana', 'cherry', 'mango', 'orange'}"
            ]
          },
          "metadata": {},
          "execution_count": 13
        }
      ]
    },
    {
      "cell_type": "code",
      "metadata": {
        "colab": {
          "base_uri": "https://localhost:8080/"
        },
        "id": "g0exIHzHNyy0",
        "outputId": "14c7806b-4d78-4d6b-ce00-7bdc8f621c6c"
      },
      "source": [
        "x={1,2,3}\n",
        "y={2,3,4}\n",
        "x.update(y)\n",
        "print(x)\n"
      ],
      "execution_count": null,
      "outputs": [
        {
          "output_type": "stream",
          "name": "stdout",
          "text": [
            "{1, 2, 3, 4}\n"
          ]
        }
      ]
    },
    {
      "cell_type": "code",
      "metadata": {
        "colab": {
          "base_uri": "https://localhost:8080/"
        },
        "id": "esNl4I56zTno",
        "outputId": "ae0f60eb-c550-495b-981b-dd8c3ebb2c50"
      },
      "source": [
        "x={1,2,3}\n",
        "y=[6,8]\n",
        "x.update(y)\n",
        "print(x)"
      ],
      "execution_count": null,
      "outputs": [
        {
          "output_type": "stream",
          "name": "stdout",
          "text": [
            "{1, 2, 3, 6, 8}\n"
          ]
        }
      ]
    },
    {
      "cell_type": "code",
      "metadata": {
        "colab": {
          "base_uri": "https://localhost:8080/"
        },
        "id": "cJzZbhUvN_95",
        "outputId": "7383c3c0-af59-4165-bc97-ee3b15e9db98"
      },
      "source": [
        "numbers={1,2,3,4}\n",
        "numbers.discard(3)\n",
        "numbers"
      ],
      "execution_count": null,
      "outputs": [
        {
          "output_type": "execute_result",
          "data": {
            "text/plain": [
              "{1, 2, 4}"
            ]
          },
          "metadata": {},
          "execution_count": 16
        }
      ]
    },
    {
      "cell_type": "code",
      "metadata": {
        "colab": {
          "base_uri": "https://localhost:8080/"
        },
        "id": "wq-12L2cOU8M",
        "outputId": "f3c4ed03-79dc-4748-f320-9ae00bf45938"
      },
      "source": [
        "numbers.remove(4)\n",
        "numbers"
      ],
      "execution_count": null,
      "outputs": [
        {
          "output_type": "execute_result",
          "data": {
            "text/plain": [
              "{1, 2}"
            ]
          },
          "metadata": {},
          "execution_count": 17
        }
      ]
    },
    {
      "cell_type": "code",
      "metadata": {
        "colab": {
          "base_uri": "https://localhost:8080/"
        },
        "id": "-znidu6WOdd9",
        "outputId": "b0e027ef-6cfe-406c-bd84-92a7d2425a64"
      },
      "source": [
        "print(numbers.pop())\n",
        "numbers"
      ],
      "execution_count": null,
      "outputs": [
        {
          "output_type": "stream",
          "name": "stdout",
          "text": [
            "1\n"
          ]
        },
        {
          "output_type": "execute_result",
          "data": {
            "text/plain": [
              "{2}"
            ]
          },
          "metadata": {},
          "execution_count": 9
        }
      ]
    },
    {
      "cell_type": "code",
      "metadata": {
        "colab": {
          "base_uri": "https://localhost:8080/"
        },
        "id": "2XPk5bKvIkJa",
        "outputId": "6935209f-d89a-4ee6-cefa-3559e70fe5e0"
      },
      "source": [
        "lset={1,'sa',3,5,6}\n",
        "print(lset.pop())\n",
        "print(lset)"
      ],
      "execution_count": null,
      "outputs": [
        {
          "output_type": "stream",
          "name": "stdout",
          "text": [
            "1\n",
            "{3, 5, 6, 'sa'}\n"
          ]
        }
      ]
    },
    {
      "cell_type": "code",
      "metadata": {
        "colab": {
          "base_uri": "https://localhost:8080/"
        },
        "id": "Fi0tMF37O1I-",
        "outputId": "85a6f225-8c03-4685-965d-73aa37729b45"
      },
      "source": [
        "numbers.clear()\n",
        "numbers"
      ],
      "execution_count": null,
      "outputs": [
        {
          "output_type": "execute_result",
          "data": {
            "text/plain": [
              "set()"
            ]
          },
          "metadata": {},
          "execution_count": 20
        }
      ]
    },
    {
      "cell_type": "code",
      "metadata": {
        "colab": {
          "base_uri": "https://localhost:8080/"
        },
        "id": "8CDZM6pxzlr4",
        "outputId": "88504d2b-3a56-4ca9-94c1-ace92d5221d4"
      },
      "source": [
        "my_set={\"apple\",'orange'}\n",
        "print('apple' in my_set)\n",
        "print('p' not in my_set)"
      ],
      "execution_count": null,
      "outputs": [
        {
          "output_type": "stream",
          "name": "stdout",
          "text": [
            "True\n",
            "True\n"
          ]
        }
      ]
    },
    {
      "cell_type": "code",
      "metadata": {
        "colab": {
          "base_uri": "https://localhost:8080/"
        },
        "id": "LJiFsgJ2PKT4",
        "outputId": "9b012c33-9141-46e2-dfc0-21357c5f4b17"
      },
      "source": [
        "set1={'a','b','c'}\n",
        "set2={1,2,3}\n",
        "print(set1.union(set2))"
      ],
      "execution_count": null,
      "outputs": [
        {
          "output_type": "stream",
          "name": "stdout",
          "text": [
            "{1, 2, 3, 'a', 'c', 'b'}\n"
          ]
        }
      ]
    },
    {
      "cell_type": "code",
      "metadata": {
        "colab": {
          "base_uri": "https://localhost:8080/"
        },
        "id": "jvNZlQN9PX2n",
        "outputId": "8b819baa-70ad-4294-ff1c-d10e70f7674b"
      },
      "source": [
        "set1={'a','b','c'}\n",
        "set2={1,2,3,'a'}\n",
        "print(set1.intersection(set2))"
      ],
      "execution_count": null,
      "outputs": [
        {
          "output_type": "stream",
          "name": "stdout",
          "text": [
            "{'a'}\n"
          ]
        }
      ]
    },
    {
      "cell_type": "code",
      "metadata": {
        "colab": {
          "base_uri": "https://localhost:8080/"
        },
        "id": "L6wEnHijPqeG",
        "outputId": "10e2e93a-b182-464d-d68f-9f501a309db3"
      },
      "source": [
        "set1={'a','b',2,'c'}\n",
        "set2={1,2,3,'a'}\n",
        "print(set1.difference(set2))"
      ],
      "execution_count": null,
      "outputs": [
        {
          "output_type": "stream",
          "name": "stdout",
          "text": [
            "{'c', 'b'}\n"
          ]
        }
      ]
    },
    {
      "cell_type": "code",
      "metadata": {
        "id": "DelY4VcRxsdI"
      },
      "source": [],
      "execution_count": null,
      "outputs": []
    }
  ]
}