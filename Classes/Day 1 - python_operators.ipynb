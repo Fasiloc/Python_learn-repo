{
  "nbformat": 4,
  "nbformat_minor": 0,
  "metadata": {
    "colab": {
      "provenance": [],
      "include_colab_link": true
    },
    "kernelspec": {
      "name": "python3",
      "display_name": "Python 3"
    },
    "language_info": {
      "name": "python"
    }
  },
  "cells": [
    {
      "cell_type": "markdown",
      "metadata": {
        "id": "view-in-github",
        "colab_type": "text"
      },
      "source": [
        "<a href=\"https://colab.research.google.com/github/Fasiloc/Python_learn-repo/blob/main/Classes/Day%201%20-%20python_operators.ipynb\" target=\"_parent\"><img src=\"https://colab.research.google.com/assets/colab-badge.svg\" alt=\"Open In Colab\"/></a>"
      ]
    },
    {
      "cell_type": "markdown",
      "metadata": {
        "id": "0A6qDf1ijqqZ"
      },
      "source": [
        "## **PYTHON OPERATORS**\n",
        "\n",
        "\n",
        "---\n",
        "\n",
        "\n",
        "\n",
        "1.   Arithmetic operators ( + , - , * , / , % , ** , // )\n",
        "2.   Relational operators ( == , != , > , < , >=, <= )\n",
        "3.   Assignment operators ( = , += , -= , *= , /= , %= , //= , **= , &= , |= , ^= , >>= , <<= )\n",
        "4.   Logical operators ( and , or , not )\n",
        "5.   Membership operators ( in , not in )\n",
        "6.   Identity operators ( is , is not )\n",
        "7.   Bitwise operators ( & , | , ^ , ~ , << , >>)\n",
        "\n",
        "\n",
        "\n"
      ]
    },
    {
      "cell_type": "markdown",
      "metadata": {
        "id": "sMfG7YtdpUvZ"
      },
      "source": [
        "**ARITHMETIC OPERATORS**( + , - , * , / , % , ** , // )"
      ]
    },
    {
      "cell_type": "code",
      "metadata": {
        "colab": {
          "base_uri": "https://localhost:8080/"
        },
        "id": "FYlvXiq-jKkc",
        "outputId": "5094a721-2cdb-44a2-adb7-2e24369cfe37"
      },
      "source": [
        "#Addition\n",
        "a=10\n",
        "b=6\n",
        "print(a+b)"
      ],
      "execution_count": null,
      "outputs": [
        {
          "output_type": "execute_result",
          "data": {
            "text/plain": [
              "16"
            ]
          },
          "metadata": {},
          "execution_count": 1
        }
      ]
    },
    {
      "cell_type": "code",
      "metadata": {
        "colab": {
          "base_uri": "https://localhost:8080/"
        },
        "id": "-dB2D6baoQU2",
        "outputId": "79f5a834-d278-413a-9cc1-082ba5f70c3a"
      },
      "source": [
        "#Subtraction\n",
        "a=10\n",
        "b=6\n",
        "print(a-b)"
      ],
      "execution_count": null,
      "outputs": [
        {
          "output_type": "execute_result",
          "data": {
            "text/plain": [
              "4"
            ]
          },
          "metadata": {},
          "execution_count": 8
        }
      ]
    },
    {
      "cell_type": "code",
      "metadata": {
        "colab": {
          "base_uri": "https://localhost:8080/"
        },
        "id": "cF0f46Nqocf0",
        "outputId": "27f7cc84-2f5f-4d7c-a60c-ef6ee777b6c2"
      },
      "source": [
        "#Multiplication\n",
        "a=10\n",
        "b=6\n",
        "print(a*b)"
      ],
      "execution_count": null,
      "outputs": [
        {
          "output_type": "execute_result",
          "data": {
            "text/plain": [
              "60"
            ]
          },
          "metadata": {},
          "execution_count": 10
        }
      ]
    },
    {
      "cell_type": "code",
      "metadata": {
        "colab": {
          "base_uri": "https://localhost:8080/"
        },
        "id": "9hK8eC8-oqSf",
        "outputId": "0c3ebd85-4369-453b-9e07-c85763d50c90"
      },
      "source": [
        "#Division\n",
        "a=10\n",
        "b=6\n",
        "print(a/b)"
      ],
      "execution_count": null,
      "outputs": [
        {
          "output_type": "execute_result",
          "data": {
            "text/plain": [
              "1.6666666666666667"
            ]
          },
          "metadata": {},
          "execution_count": 11
        }
      ]
    },
    {
      "cell_type": "code",
      "metadata": {
        "colab": {
          "base_uri": "https://localhost:8080/"
        },
        "id": "8pzE8_bEowPI",
        "outputId": "3472c14b-504b-4198-a26e-af6c3f591645"
      },
      "source": [
        "#Modulus\n",
        "a=10\n",
        "b=6\n",
        "print(a%b)"
      ],
      "execution_count": null,
      "outputs": [
        {
          "output_type": "execute_result",
          "data": {
            "text/plain": [
              "4"
            ]
          },
          "metadata": {},
          "execution_count": 12
        }
      ]
    },
    {
      "cell_type": "code",
      "metadata": {
        "colab": {
          "base_uri": "https://localhost:8080/"
        },
        "id": "1QjjK8qso0tM",
        "outputId": "6d673ba8-d288-4d46-d471-7612c0942df1"
      },
      "source": [
        "#Exponentiation\n",
        "a=10\n",
        "b=6\n",
        "print(a**b)"
      ],
      "execution_count": null,
      "outputs": [
        {
          "output_type": "execute_result",
          "data": {
            "text/plain": [
              "1000000"
            ]
          },
          "metadata": {},
          "execution_count": 13
        }
      ]
    },
    {
      "cell_type": "code",
      "metadata": {
        "colab": {
          "base_uri": "https://localhost:8080/"
        },
        "id": "_kBu3rujo98E",
        "outputId": "f7da5d47-a6dd-4d94-9f2f-e988caa51b0b"
      },
      "source": [
        "#Floor division\n",
        "a=10\n",
        "b=6\n",
        "print(a//b)"
      ],
      "execution_count": null,
      "outputs": [
        {
          "output_type": "execute_result",
          "data": {
            "text/plain": [
              "1"
            ]
          },
          "metadata": {},
          "execution_count": 14
        }
      ]
    },
    {
      "cell_type": "markdown",
      "metadata": {
        "id": "amDTDgfwqh3o"
      },
      "source": [
        "**RELATIONAL OPERATORS(COMPARISON OPERATORS)**( == , != , > , < , >=, <= )"
      ]
    },
    {
      "cell_type": "code",
      "metadata": {
        "colab": {
          "base_uri": "https://localhost:8080/"
        },
        "id": "qQESGF0Wql6C",
        "outputId": "ac183a30-3ed3-46f5-9b6f-160566bde722"
      },
      "source": [
        "#Equal\n",
        "a=5\n",
        "b=3\n",
        "print(a==b)"
      ],
      "execution_count": null,
      "outputs": [
        {
          "output_type": "execute_result",
          "data": {
            "text/plain": [
              "False"
            ]
          },
          "metadata": {},
          "execution_count": 16
        }
      ]
    },
    {
      "cell_type": "code",
      "metadata": {
        "colab": {
          "base_uri": "https://localhost:8080/"
        },
        "id": "N1jRjw-QqwfR",
        "outputId": "ee8b9d6d-2b70-4c8c-fea0-57f2c03e31f9"
      },
      "source": [
        "#Not equal\n",
        "a=5\n",
        "b=3\n",
        "print(a!=b)"
      ],
      "execution_count": null,
      "outputs": [
        {
          "output_type": "execute_result",
          "data": {
            "text/plain": [
              "True"
            ]
          },
          "metadata": {},
          "execution_count": 17
        }
      ]
    },
    {
      "cell_type": "code",
      "metadata": {
        "colab": {
          "base_uri": "https://localhost:8080/"
        },
        "id": "9fXMu3exq2QH",
        "outputId": "7f624d70-06b4-4990-8888-dde9a7a8cf5f"
      },
      "source": [
        "#Greater than\n",
        "a=5\n",
        "b=3\n",
        "print(a>b)"
      ],
      "execution_count": null,
      "outputs": [
        {
          "output_type": "execute_result",
          "data": {
            "text/plain": [
              "True"
            ]
          },
          "metadata": {},
          "execution_count": 18
        }
      ]
    },
    {
      "cell_type": "code",
      "metadata": {
        "colab": {
          "base_uri": "https://localhost:8080/"
        },
        "id": "-j7aJJ6hq8NG",
        "outputId": "dd6637d5-e76c-4a98-a047-2ddf2ee72c7b"
      },
      "source": [
        "#Less than\n",
        "a=5\n",
        "b=3\n",
        "print(a<b)"
      ],
      "execution_count": null,
      "outputs": [
        {
          "output_type": "execute_result",
          "data": {
            "text/plain": [
              "False"
            ]
          },
          "metadata": {},
          "execution_count": 19
        }
      ]
    },
    {
      "cell_type": "code",
      "metadata": {
        "colab": {
          "base_uri": "https://localhost:8080/"
        },
        "id": "eQE_raFfrBrh",
        "outputId": "f32984a4-ec3d-4c00-f807-dd6176c2fae1"
      },
      "source": [
        "#Greater than or equal to\n",
        "a=5\n",
        "b=3\n",
        "print(a>=b)"
      ],
      "execution_count": null,
      "outputs": [
        {
          "output_type": "execute_result",
          "data": {
            "text/plain": [
              "True"
            ]
          },
          "metadata": {},
          "execution_count": 20
        }
      ]
    },
    {
      "cell_type": "code",
      "metadata": {
        "colab": {
          "base_uri": "https://localhost:8080/"
        },
        "id": "em6ReHWBrNCU",
        "outputId": "d11e842f-55fc-4139-bf5b-5b72123b1330"
      },
      "source": [
        "#Less than or equal to\n",
        "a=5\n",
        "b=3\n",
        "print(a<=b)"
      ],
      "execution_count": null,
      "outputs": [
        {
          "output_type": "execute_result",
          "data": {
            "text/plain": [
              "False"
            ]
          },
          "metadata": {},
          "execution_count": 21
        }
      ]
    },
    {
      "cell_type": "markdown",
      "metadata": {
        "id": "-22Pj17_rmLN"
      },
      "source": [
        "**ASSIGNMENT OPERATORS**( = , += , -=  , /= , %= , //= , *= etc)"
      ]
    },
    {
      "cell_type": "code",
      "metadata": {
        "colab": {
          "base_uri": "https://localhost:8080/"
        },
        "id": "QZejJpIZrsJm",
        "outputId": "e178aa94-9196-4e34-d1bd-e15a2a97b5f6"
      },
      "source": [
        "a=10\n",
        "a+=3  #a=a+3\n",
        "print(a) "
      ],
      "execution_count": null,
      "outputs": [
        {
          "output_type": "execute_result",
          "data": {
            "text/plain": [
              "13"
            ]
          },
          "metadata": {},
          "execution_count": 24
        }
      ]
    },
    {
      "cell_type": "code",
      "metadata": {
        "colab": {
          "base_uri": "https://localhost:8080/"
        },
        "id": "bi3tAjHcsDNi",
        "outputId": "83a1b3ac-2b7b-4f5d-f1d2-c1ce4a879e96"
      },
      "source": [
        "a=10\n",
        "a-=3  #a=a-3\n",
        "print(a)"
      ],
      "execution_count": null,
      "outputs": [
        {
          "output_type": "execute_result",
          "data": {
            "text/plain": [
              "7"
            ]
          },
          "metadata": {},
          "execution_count": 25
        }
      ]
    },
    {
      "cell_type": "code",
      "metadata": {
        "colab": {
          "base_uri": "https://localhost:8080/"
        },
        "id": "YWgtGoThsFk4",
        "outputId": "ba46e9b2-82ad-465f-b72c-a4df9a1226c3"
      },
      "source": [
        "a=10\n",
        "a*=3  #a=a*3\n",
        "print(a)"
      ],
      "execution_count": null,
      "outputs": [
        {
          "output_type": "execute_result",
          "data": {
            "text/plain": [
              "30"
            ]
          },
          "metadata": {},
          "execution_count": 26
        }
      ]
    },
    {
      "cell_type": "code",
      "metadata": {
        "colab": {
          "base_uri": "https://localhost:8080/"
        },
        "id": "fjyyouTrsa5P",
        "outputId": "e25f6fbe-bb5d-48d2-874b-8f274bade419"
      },
      "source": [
        "a=10\n",
        "a/=3  #a=a/3\n",
        "print(a)"
      ],
      "execution_count": null,
      "outputs": [
        {
          "output_type": "execute_result",
          "data": {
            "text/plain": [
              "3.3333333333333335"
            ]
          },
          "metadata": {},
          "execution_count": 27
        }
      ]
    },
    {
      "cell_type": "code",
      "metadata": {
        "colab": {
          "base_uri": "https://localhost:8080/"
        },
        "id": "7mpF0-fZsiVH",
        "outputId": "b9388834-516b-4e0f-e0a0-ef3b67ce4349"
      },
      "source": [
        "a=10\n",
        "a%=4  #a=a%4\n",
        "print(a)"
      ],
      "execution_count": null,
      "outputs": [
        {
          "output_type": "execute_result",
          "data": {
            "text/plain": [
              "2"
            ]
          },
          "metadata": {},
          "execution_count": 29
        }
      ]
    },
    {
      "cell_type": "markdown",
      "metadata": {
        "id": "HV8MtrR2syCG"
      },
      "source": [
        "**LOGICAL OPERATORS**( and , or , not )"
      ]
    },
    {
      "cell_type": "code",
      "metadata": {
        "colab": {
          "base_uri": "https://localhost:8080/"
        },
        "id": "r08PHnbes2DK",
        "outputId": "16e59d0a-484d-4722-ac79-88618cbdfc4e"
      },
      "source": [
        "# and (Returns true if both statements are true)\n",
        "x=8\n",
        "print(x<5 and x<10)"
      ],
      "execution_count": null,
      "outputs": [
        {
          "output_type": "execute_result",
          "data": {
            "text/plain": [
              "False"
            ]
          },
          "metadata": {},
          "execution_count": 30
        }
      ]
    },
    {
      "cell_type": "code",
      "metadata": {
        "colab": {
          "base_uri": "https://localhost:8080/"
        },
        "id": "8dTeFmh6tbRq",
        "outputId": "bb1670b9-f32b-4bb0-f899-800d56bda976"
      },
      "source": [
        "# or (Returns true if either one or both statements are true)\n",
        "x=8\n",
        "print(x<5 or x<10)"
      ],
      "execution_count": null,
      "outputs": [
        {
          "output_type": "execute_result",
          "data": {
            "text/plain": [
              "True"
            ]
          },
          "metadata": {},
          "execution_count": 33
        }
      ]
    },
    {
      "cell_type": "code",
      "metadata": {
        "colab": {
          "base_uri": "https://localhost:8080/"
        },
        "id": "TatO4IfNtrKg",
        "outputId": "fcd1f73b-baca-4127-c708-511a8bfe3f6f"
      },
      "source": [
        "# not (Reverse the result)\n",
        "x=8\n",
        "print(not (x<5))"
      ],
      "execution_count": null,
      "outputs": [
        {
          "output_type": "execute_result",
          "data": {
            "text/plain": [
              "True"
            ]
          },
          "metadata": {},
          "execution_count": 1
        }
      ]
    },
    {
      "cell_type": "markdown",
      "metadata": {
        "id": "bRlAiwQ9uUO4"
      },
      "source": [
        "**MEMBERSHIP OPERATORS**(They are used to check if an element is present in a sequence or not)"
      ]
    },
    {
      "cell_type": "code",
      "metadata": {
        "colab": {
          "base_uri": "https://localhost:8080/"
        },
        "id": "SXv_F-mTuj6l",
        "outputId": "b7ac31bd-7c13-4fef-dbb0-e4f794b36c7d"
      },
      "source": [
        "# in (Returns true if an element present in a sequence)\n",
        "x=[\"apple\" , \"banana\"]\n",
        "print(\"banana\" in x)"
      ],
      "execution_count": null,
      "outputs": [
        {
          "output_type": "stream",
          "text": [
            "True\n"
          ],
          "name": "stdout"
        }
      ]
    },
    {
      "cell_type": "code",
      "metadata": {
        "colab": {
          "base_uri": "https://localhost:8080/"
        },
        "id": "w7LeZ2T5u0eS",
        "outputId": "882dda70-389f-4ed0-86c3-a23e58bb61e3"
      },
      "source": [
        "# not in (Returns true if not present)\n",
        "x=[\"apple\" , \"banana\"]\n",
        "print(\"banana\" not in x)"
      ],
      "execution_count": null,
      "outputs": [
        {
          "output_type": "stream",
          "text": [
            "False\n"
          ],
          "name": "stdout"
        }
      ]
    },
    {
      "cell_type": "markdown",
      "metadata": {
        "id": "S6w6Tct1vLWw"
      },
      "source": [
        "**IDENTITY OPERATORS**(compare objects identity not just values) "
      ]
    },
    {
      "cell_type": "code",
      "metadata": {
        "colab": {
          "base_uri": "https://localhost:8080/"
        },
        "id": "lvRWPHYcvpC0",
        "outputId": "39146541-11c7-4792-8ce2-e7096743d80c"
      },
      "source": [
        "# is (Returns true if both variables are the same object)\n",
        "x=[\"apple\" , \"banana\"]\n",
        "y=x\n",
        "v=(\"apple\",\"banana\")\n",
        "print(x is y)\n",
        "print(x is v )\n"
      ],
      "execution_count": null,
      "outputs": [
        {
          "output_type": "stream",
          "name": "stdout",
          "text": [
            "True\n",
            "False\n"
          ]
        }
      ]
    },
    {
      "cell_type": "code",
      "metadata": {
        "colab": {
          "base_uri": "https://localhost:8080/"
        },
        "id": "_i5WSaQ0sA-t",
        "outputId": "02e7d441-beeb-4e1a-a935-e151ce21a862"
      },
      "source": [
        "#this is single comment\n",
        "'''multiline\n",
        "comment'''\n",
        "x=True\n",
        "type(x)"
      ],
      "execution_count": null,
      "outputs": [
        {
          "output_type": "execute_result",
          "data": {
            "text/plain": [
              "bool"
            ]
          },
          "metadata": {},
          "execution_count": 4
        }
      ]
    },
    {
      "cell_type": "code",
      "metadata": {
        "id": "UiaWny_StKoT"
      },
      "source": [
        "X='\n",
        "\"\"\"this isexample\n",
        "for multiline string\"\"\""
      ],
      "execution_count": null,
      "outputs": []
    },
    {
      "cell_type": "code",
      "metadata": {
        "colab": {
          "base_uri": "https://localhost:8080/"
        },
        "id": "pKY2-Teev9X3",
        "outputId": "27285fe6-9670-44f3-ac33-9bea19c3c834"
      },
      "source": [
        "# is not (Returns true if both variables are not the same object)\n",
        "x=[\"apple\" , \"banana\"]\n",
        "y=[\"apple\" , \"banana\"]\n",
        "z=x\n",
        "x is not z"
      ],
      "execution_count": null,
      "outputs": [
        {
          "output_type": "execute_result",
          "data": {
            "text/plain": [
              "False"
            ]
          },
          "metadata": {},
          "execution_count": 40
        }
      ]
    },
    {
      "cell_type": "code",
      "metadata": {
        "colab": {
          "base_uri": "https://localhost:8080/"
        },
        "id": "WL4xOSSFWPMo",
        "outputId": "70faeef6-ef59-4b72-ff6d-4a05d3109d76"
      },
      "source": [
        "a=10\n",
        "b=5\n",
        "c=5+3j\n",
        "print (type(c))\n",
        "\n",
        "\n",
        "\n"
      ],
      "execution_count": null,
      "outputs": [
        {
          "output_type": "stream",
          "name": "stdout",
          "text": [
            "<class 'complex'>\n"
          ]
        }
      ]
    },
    {
      "cell_type": "markdown",
      "metadata": {
        "id": "KYyKD2dnPeGP"
      },
      "source": [
        "Bitwise operator(&,|,^,<<,>>)"
      ]
    },
    {
      "cell_type": "code",
      "metadata": {
        "colab": {
          "base_uri": "https://localhost:8080/"
        },
        "id": "9DbVL18FPPh4",
        "outputId": "0a1b1701-b178-46fa-cd08-eab486fdaaba"
      },
      "source": [
        "# bitwise and (&)-bit by bit opeartion-if both input are 1 then out 1 otherwise 0\n",
        "x=2\n",
        "y=3\n",
        "x & y"
      ],
      "execution_count": null,
      "outputs": [
        {
          "output_type": "execute_result",
          "data": {
            "text/plain": [
              "2"
            ]
          },
          "metadata": {},
          "execution_count": 3
        }
      ]
    },
    {
      "cell_type": "code",
      "metadata": {
        "colab": {
          "base_uri": "https://localhost:8080/"
        },
        "id": "ASfKF9B4QGSP",
        "outputId": "2907cc0a-95ba-45f8-e489-eafd913ff94b"
      },
      "source": [
        "# bitwise or (|)-bit by bit opeartion-if one of the input is 1 then out 1 otherwise 0\n",
        "x=2\n",
        "y=3\n",
        "x | y"
      ],
      "execution_count": null,
      "outputs": [
        {
          "output_type": "execute_result",
          "data": {
            "text/plain": [
              "3"
            ]
          },
          "metadata": {},
          "execution_count": 4
        }
      ]
    },
    {
      "cell_type": "code",
      "metadata": {
        "colab": {
          "base_uri": "https://localhost:8080/"
        },
        "id": "bpYTIZwCQXbq",
        "outputId": "550d6ff8-9744-469f-947e-c65146fbde8b"
      },
      "source": [
        "# bitwise XOR (^)-bit by bit opeartion-if both input are same then out 0 otherwise 1\n",
        "x=2\n",
        "y=3\n",
        "x ^ y"
      ],
      "execution_count": null,
      "outputs": [
        {
          "output_type": "execute_result",
          "data": {
            "text/plain": [
              "1"
            ]
          },
          "metadata": {},
          "execution_count": 5
        }
      ]
    },
    {
      "cell_type": "code",
      "metadata": {
        "colab": {
          "base_uri": "https://localhost:8080/"
        },
        "id": "4FWA2VkURBYd",
        "outputId": "899950c6-fd15-4069-becd-0984d3fed3ae"
      },
      "source": [
        "\"\"\"<<(left shift) Bitwise Left shift operator is used to shift \n",
        "the binary sequence to the left side by specified position\"\"\"\n",
        "X=4\n",
        "X<<2"
      ],
      "execution_count": null,
      "outputs": [
        {
          "output_type": "execute_result",
          "data": {
            "text/plain": [
              "16"
            ]
          },
          "metadata": {},
          "execution_count": 6
        }
      ]
    },
    {
      "cell_type": "code",
      "metadata": {
        "colab": {
          "base_uri": "https://localhost:8080/"
        },
        "id": "Pz6apFBcSxB3",
        "outputId": "1a784c72-b276-47a7-90ad-33a5aa2380df"
      },
      "source": [
        "X=4\n",
        "X>>2"
      ],
      "execution_count": null,
      "outputs": [
        {
          "output_type": "execute_result",
          "data": {
            "text/plain": [
              "1"
            ]
          },
          "metadata": {},
          "execution_count": 7
        }
      ]
    }
  ]
}