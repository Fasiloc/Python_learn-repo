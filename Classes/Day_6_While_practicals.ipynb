{
  "nbformat": 4,
  "nbformat_minor": 0,
  "metadata": {
    "colab": {
      "provenance": [],
      "authorship_tag": "ABX9TyMDC8TST4e+ChBw/Rai/2kP",
      "include_colab_link": true
    },
    "kernelspec": {
      "name": "python3",
      "display_name": "Python 3"
    },
    "language_info": {
      "name": "python"
    }
  },
  "cells": [
    {
      "cell_type": "markdown",
      "metadata": {
        "id": "view-in-github",
        "colab_type": "text"
      },
      "source": [
        "<a href=\"https://colab.research.google.com/github/Fasiloc/Python_learn-repo/blob/main/Classes/Day_6_While_practicals.ipynb\" target=\"_parent\"><img src=\"https://colab.research.google.com/assets/colab-badge.svg\" alt=\"Open In Colab\"/></a>"
      ]
    },
    {
      "cell_type": "code",
      "metadata": {
        "colab": {
          "base_uri": "https://localhost:8080/"
        },
        "id": "G62d9rWaMwM2",
        "outputId": "9a245f3a-34a6-4083-972e-62591a8c0245"
      },
      "source": [
        "#Number of digits in a number\n",
        "n=int(input('Enter a number : '))\n",
        "count=0\n",
        "while n>0:\n",
        "  n=n//10\n",
        "  count+=1\n",
        "print('Number of digits in the number :',count) \n",
        "  "
      ],
      "execution_count": null,
      "outputs": [
        {
          "output_type": "stream",
          "name": "stdout",
          "text": [
            "Enter a number : 2365998\n",
            "Number of digits in the number : 7\n"
          ]
        }
      ]
    },
    {
      "cell_type": "code",
      "metadata": {
        "colab": {
          "base_uri": "https://localhost:8080/"
        },
        "id": "XjP8_T5u59TC",
        "outputId": "5175293d-db72-4e90-b9d4-217485a72e73"
      },
      "source": [
        "n=int(input('Enter a natural number,N : '))\n",
        "n1=n\n",
        "sum=0\n",
        "while n>0:\n",
        "  sum+=n\n",
        "  n=n-1\n",
        "print('Sum of',n1,'natural numbers :',sum)"
      ],
      "execution_count": null,
      "outputs": [
        {
          "output_type": "stream",
          "name": "stdout",
          "text": [
            "Enter a natural number,N : 47\n",
            "Sum of 47 natural numbers : 1128\n"
          ]
        }
      ]
    },
    {
      "cell_type": "code",
      "metadata": {
        "colab": {
          "base_uri": "https://localhost:8080/"
        },
        "id": "xBs9R4LC7W_d",
        "outputId": "df112e0c-3452-4e65-a26c-ae7594fdc818"
      },
      "source": [
        "# Factorial of a number\n",
        "n=int(input('Enter the number : '))\n",
        "num=n\n",
        "fact=1\n",
        "while n>0:\n",
        "  fact*=n\n",
        "  n=n-1\n",
        "print('The factorial of',num,':',fact)"
      ],
      "execution_count": null,
      "outputs": [
        {
          "output_type": "stream",
          "name": "stdout",
          "text": [
            "Enter the number : 7\n",
            "The factorial of 7 : 5040\n"
          ]
        }
      ]
    },
    {
      "cell_type": "code",
      "metadata": {
        "colab": {
          "base_uri": "https://localhost:8080/"
        },
        "id": "nJk-J3Rc9O0C",
        "outputId": "14f51dfe-9442-4f9b-a364-42d44feb9297"
      },
      "source": [
        "# String length\n",
        "str1=input('Enter a string : ')\n",
        "l=list(str1)\n",
        "count=0\n",
        "while l:\n",
        "  count+=1\n",
        "  l.pop()\n",
        "print('The length of the given string is :',count)"
      ],
      "execution_count": null,
      "outputs": [
        {
          "output_type": "stream",
          "name": "stdout",
          "text": [
            "Enter a string : diohgoidg\n",
            "The length of the given string is : 9\n"
          ]
        }
      ]
    },
    {
      "cell_type": "code",
      "metadata": {
        "colab": {
          "base_uri": "https://localhost:8080/"
        },
        "id": "LHYdhp-V_DUj",
        "outputId": "39d47370-1d9b-4465-9f92-e91ac4a75bcb"
      },
      "source": [
        "# Count Odd and Even numbers\n",
        "lst=[1,5,3,4,8,6,12,56,11,2,47,65,3]\n",
        "evcount=0\n",
        "odcount=0\n",
        "i=0\n",
        "while i<len(lst):\n",
        "  if lst[i]%2==0:\n",
        "    evcount+=1\n",
        "  else:\n",
        "    odcount+=1\n",
        "  i+=1\n",
        "print('There are',evcount,'Even and',odcount,'odd numbers') "
      ],
      "execution_count": null,
      "outputs": [
        {
          "output_type": "stream",
          "name": "stdout",
          "text": [
            "There are 6 Even and 7 odd numbers\n"
          ]
        }
      ]
    },
    {
      "cell_type": "code",
      "metadata": {
        "colab": {
          "base_uri": "https://localhost:8080/"
        },
        "id": "iQRMlXLUCRmi",
        "outputId": "c65246d6-c7a9-42d5-d79e-74dee0f6b144"
      },
      "source": [
        "# reverse a list\n",
        "lst=[1,2,54,22,6,61,3,7,66,4,34]\n",
        "print('List :',lst)\n",
        "revlst=[]\n",
        "while lst:\n",
        "  revlst.append(lst.pop())\n",
        "print('Reverse of the list :',revlst)"
      ],
      "execution_count": null,
      "outputs": [
        {
          "output_type": "stream",
          "name": "stdout",
          "text": [
            "List : [1, 2, 54, 22, 6, 61, 3, 7, 66, 4, 34]\n",
            "Reverse of the list : [34, 4, 66, 7, 3, 61, 6, 22, 54, 2, 1]\n"
          ]
        }
      ]
    },
    {
      "cell_type": "code",
      "metadata": {
        "colab": {
          "base_uri": "https://localhost:8080/"
        },
        "id": "Vh4v_HQuHaQj",
        "outputId": "36796943-b278-4a64-cb12-74cd3f034e86"
      },
      "source": [
        "lst=[2,45,23,14,3,7,9,84,27]\n",
        "'''iteration'''\n",
        "i=0\n",
        "while i<len(lst):\n",
        "  print(lst[i])\n",
        "  i+=1\n",
        "'''updation'''\n",
        "i=0\n",
        "while i<len(lst):\n",
        "  lst[i]+=2\n",
        "  i+=1\n",
        "print('Updated list',lst)"
      ],
      "execution_count": null,
      "outputs": [
        {
          "output_type": "stream",
          "name": "stdout",
          "text": [
            "2\n",
            "45\n",
            "23\n",
            "14\n",
            "3\n",
            "7\n",
            "9\n",
            "84\n",
            "27\n",
            "Updated list [4, 47, 25, 16, 5, 9, 11, 86, 29]\n"
          ]
        }
      ]
    }
  ]
}