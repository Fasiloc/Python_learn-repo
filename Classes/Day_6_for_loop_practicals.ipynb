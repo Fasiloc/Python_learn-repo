{
  "nbformat": 4,
  "nbformat_minor": 0,
  "metadata": {
    "colab": {
      "provenance": [],
      "authorship_tag": "ABX9TyMnf5td+H9MdTdZI9QE5wMz",
      "include_colab_link": true
    },
    "kernelspec": {
      "name": "python3",
      "display_name": "Python 3"
    },
    "language_info": {
      "name": "python"
    }
  },
  "cells": [
    {
      "cell_type": "markdown",
      "metadata": {
        "id": "view-in-github",
        "colab_type": "text"
      },
      "source": [
        "<a href=\"https://colab.research.google.com/github/Fasiloc/Python_learn-repo/blob/main/Classes/Day_6_for_loop_practicals.ipynb\" target=\"_parent\"><img src=\"https://colab.research.google.com/assets/colab-badge.svg\" alt=\"Open In Colab\"/></a>"
      ]
    },
    {
      "cell_type": "code",
      "metadata": {
        "colab": {
          "base_uri": "https://localhost:8080/"
        },
        "id": "ibmqg0fTmqz6",
        "outputId": "32ce765e-da40-4e63-e15c-945056e577e7"
      },
      "source": [
        "a=int(input('enter number'))\n",
        "print('multiplication table of number')\n",
        "for i in range(1,11):\n",
        "  print(i*a)"
      ],
      "execution_count": null,
      "outputs": [
        {
          "output_type": "stream",
          "name": "stdout",
          "text": [
            "enter number5\n",
            "multiplication table of number\n",
            "5\n",
            "10\n",
            "15\n",
            "20\n",
            "25\n",
            "30\n",
            "35\n",
            "40\n",
            "45\n",
            "50\n"
          ]
        }
      ]
    },
    {
      "cell_type": "code",
      "metadata": {
        "colab": {
          "base_uri": "https://localhost:8080/"
        },
        "id": "EzPSZ0nGsPux",
        "outputId": "e9eb6004-0ce9-47a3-e835-30e2b7124266"
      },
      "source": [
        "sum=0\n",
        "for i in range(1,11):\n",
        "  sum+=i\n",
        "print(sum)"
      ],
      "execution_count": null,
      "outputs": [
        {
          "output_type": "stream",
          "name": "stdout",
          "text": [
            "55\n"
          ]
        }
      ]
    },
    {
      "cell_type": "code",
      "metadata": {
        "id": "Fie-B5E5tvnY"
      },
      "source": [
        "n=int(input('enter a number'))\n",
        "for i in range(1,n+1):\n",
        "  sum+=i\n"
      ],
      "execution_count": null,
      "outputs": []
    },
    {
      "cell_type": "code",
      "metadata": {
        "colab": {
          "base_uri": "https://localhost:8080/"
        },
        "id": "V0pCxELhyW6z",
        "outputId": "736f21c7-507d-44cf-96da-ae49692330d6"
      },
      "source": [
        "a=[1,5,6,3]\n",
        "while a:\n",
        "  print(a.pop())"
      ],
      "execution_count": null,
      "outputs": [
        {
          "output_type": "stream",
          "name": "stdout",
          "text": [
            "3\n",
            "6\n",
            "5\n",
            "1\n"
          ]
        }
      ]
    },
    {
      "cell_type": "code",
      "metadata": {
        "colab": {
          "base_uri": "https://localhost:8080/"
        },
        "id": "kbF705OgzNIS",
        "outputId": "3186d858-0441-4960-8dfc-3d5001691901"
      },
      "source": [
        "num=10\n",
        "while num>6:\n",
        "  print(num)\n",
        "  num-=1\n",
        "else:\n",
        "  print('loop is finished')"
      ],
      "execution_count": null,
      "outputs": [
        {
          "output_type": "stream",
          "name": "stdout",
          "text": [
            "10\n",
            "9\n",
            "8\n",
            "7\n",
            "loop is finished\n"
          ]
        }
      ]
    },
    {
      "cell_type": "code",
      "metadata": {
        "colab": {
          "base_uri": "https://localhost:8080/"
        },
        "id": "GbbW_FWk0Ntr",
        "outputId": "9d0d504e-0bf0-4ef8-b731-76a1f28389d2"
      },
      "source": [
        "lst=['kerala','tamilnadu','andra pradesh']\n",
        "while lst:\n",
        "  print(lst.pop(-1))"
      ],
      "execution_count": null,
      "outputs": [
        {
          "output_type": "stream",
          "name": "stdout",
          "text": [
            "andra pradesh\n",
            "tamilnadu\n",
            "kerala\n"
          ]
        }
      ]
    },
    {
      "cell_type": "code",
      "metadata": {
        "colab": {
          "base_uri": "https://localhost:8080/"
        },
        "id": "JrhHYfpp1IMs",
        "outputId": "6e1e4a67-ceae-470c-904c-6c7a5c4c35b9"
      },
      "source": [
        "tpl1=('kerala','goa','haryana')\n",
        "i=0\n",
        "while i<len(tpl1):\n",
        "  print(tpl1[i])\n",
        "  i=i+1"
      ],
      "execution_count": null,
      "outputs": [
        {
          "output_type": "stream",
          "name": "stdout",
          "text": [
            "kerala\n",
            "goa\n",
            "haryana\n"
          ]
        }
      ]
    },
    {
      "cell_type": "code",
      "metadata": {
        "colab": {
          "base_uri": "https://localhost:8080/"
        },
        "id": "zNdpWIzx15X8",
        "outputId": "0196eed5-e3b1-4f20-816f-d4a2d398004b"
      },
      "source": [
        "tpl2=(1,2,3,6)\n",
        "sum=0\n",
        "i=0\n",
        "while i<len(tpl2):\n",
        "  sum=sum+tpl2[i]\n",
        "  i=i+1\n",
        "print(sum)"
      ],
      "execution_count": null,
      "outputs": [
        {
          "output_type": "stream",
          "name": "stdout",
          "text": [
            "12\n"
          ]
        }
      ]
    },
    {
      "cell_type": "code",
      "metadata": {
        "colab": {
          "base_uri": "https://localhost:8080/"
        },
        "id": "U3zd4Bim3WuW",
        "outputId": "7934c3ad-744e-4981-9c8b-c649d8aacb1d"
      },
      "source": [
        "num=int(input('Enter the number'))\n",
        "count=0\n",
        "while num>0:\n",
        "  num=num//10\n",
        "  count=count+1\n",
        "print(count)"
      ],
      "execution_count": null,
      "outputs": [
        {
          "output_type": "stream",
          "name": "stdout",
          "text": [
            "Enter the number456\n",
            "3\n"
          ]
        }
      ]
    },
    {
      "cell_type": "code",
      "metadata": {
        "id": "xIuD_iVK5b4S"
      },
      "source": [
        "n=int"
      ],
      "execution_count": null,
      "outputs": []
    },
    {
      "cell_type": "code",
      "metadata": {
        "colab": {
          "base_uri": "https://localhost:8080/"
        },
        "id": "-4Xw0wdj7lk_",
        "outputId": "eab85e8d-a4ef-40b1-e4d7-678d75c9f19f"
      },
      "source": [
        "height=[155,666,124,111,745]\n",
        "tall=[h for h in height if h>130]\n",
        "print(tall)"
      ],
      "execution_count": null,
      "outputs": [
        {
          "output_type": "stream",
          "name": "stdout",
          "text": [
            "[155, 666, 745]\n"
          ]
        }
      ]
    },
    {
      "cell_type": "code",
      "metadata": {
        "colab": {
          "base_uri": "https://localhost:8080/"
        },
        "id": "Rfp3WLoTAWg5",
        "outputId": "f9822741-0193-4027-c7f6-00efdf7be0da"
      },
      "source": [
        "nums=list(range(12))\n",
        "print(['even' if num%2==0 else 'odd' for num in nums])"
      ],
      "execution_count": null,
      "outputs": [
        {
          "output_type": "stream",
          "name": "stdout",
          "text": [
            "['even', 'odd', 'even', 'odd', 'even', 'odd', 'even', 'odd', 'even', 'odd', 'even', 'odd']\n"
          ]
        }
      ]
    },
    {
      "cell_type": "code",
      "metadata": {
        "id": "cHvDWi4uCiIo"
      },
      "source": [],
      "execution_count": null,
      "outputs": []
    }
  ]
}