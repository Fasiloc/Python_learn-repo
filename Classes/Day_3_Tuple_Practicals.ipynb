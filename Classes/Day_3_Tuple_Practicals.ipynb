{
  "nbformat": 4,
  "nbformat_minor": 0,
  "metadata": {
    "colab": {
      "provenance": [],
      "authorship_tag": "ABX9TyNLuV4Ga/5/YKvoDrREgeMR",
      "include_colab_link": true
    },
    "kernelspec": {
      "name": "python3",
      "display_name": "Python 3"
    },
    "language_info": {
      "name": "python"
    }
  },
  "cells": [
    {
      "cell_type": "markdown",
      "metadata": {
        "id": "view-in-github",
        "colab_type": "text"
      },
      "source": [
        "<a href=\"https://colab.research.google.com/github/Fasiloc/Python_learn-repo/blob/main/Classes/Day_3_Tuple_Practicals.ipynb\" target=\"_parent\"><img src=\"https://colab.research.google.com/assets/colab-badge.svg\" alt=\"Open In Colab\"/></a>"
      ]
    },
    {
      "cell_type": "code",
      "metadata": {
        "colab": {
          "base_uri": "https://localhost:8080/"
        },
        "id": "-3f6QMOYCdRo",
        "outputId": "f9503b85-9c47-4df6-9f16-c22667170a04"
      },
      "source": [
        "#Q-1. Slicing on Tuple\n",
        "mytuple=(1,5,4,9,6,3,23,78)\n",
        "print(mytuple[:])\n",
        "print(mytuple[2:])\n",
        "print(mytuple[-6:])\n",
        "print(mytuple[:6])\n",
        "print(mytuple[:-1])\n",
        "print(mytuple[1:7])\n",
        "print(mytuple[2:-2])\n",
        "print(mytuple[-8:7])\n",
        "print(mytuple[-7:-2])\n",
        "print(mytuple[1:8:2])\n",
        "print(mytuple[-7:7:3])\n",
        "print(mytuple[0:-1:2])\n",
        "print(mytuple[-7:-3:2])\n",
        "print(mytuple[7:2:-2])\n",
        "print(mytuple[-1:-8:-3])"
      ],
      "execution_count": null,
      "outputs": [
        {
          "output_type": "stream",
          "name": "stdout",
          "text": [
            "(1, 5, 4, 9, 6, 3, 23, 78)\n",
            "(4, 9, 6, 3, 23, 78)\n",
            "(4, 9, 6, 3, 23, 78)\n",
            "(1, 5, 4, 9, 6, 3)\n",
            "(1, 5, 4, 9, 6, 3, 23)\n",
            "(5, 4, 9, 6, 3, 23)\n",
            "(4, 9, 6, 3)\n",
            "(1, 5, 4, 9, 6, 3, 23)\n",
            "(5, 4, 9, 6, 3)\n",
            "(5, 9, 3, 78)\n",
            "(5, 6)\n",
            "(1, 4, 6, 23)\n",
            "(5, 9)\n",
            "(78, 3, 9)\n",
            "(78, 6, 5)\n"
          ]
        }
      ]
    },
    {
      "cell_type": "code",
      "metadata": {
        "colab": {
          "base_uri": "https://localhost:8080/"
        },
        "id": "1JwfUWHdIbZk",
        "outputId": "ffb98d55-0e9f-423e-c4e5-e3f389b9f4cf"
      },
      "source": [
        "#Q-2. \n",
        "T=('Hello','python','fun','not')\n",
        "print('print in separate elements using positive indexing')\n",
        "print(T[0])\n",
        "print(T[1])\n",
        "print(T[2])\n",
        "print(T[3])\n",
        "print('print in separate elements using positive indexing')\n",
        "print(T[-4])\n",
        "print(T[-3])\n",
        "print(T[-2])\n",
        "print(T[-1])\n",
        "print('print in separate elements using iteration')\n",
        "for i in T:\n",
        "  print(i)"
      ],
      "execution_count": null,
      "outputs": [
        {
          "output_type": "stream",
          "name": "stdout",
          "text": [
            "print in separate elements using positive indexing\n",
            "Hello\n",
            "python\n",
            "fun\n",
            "not\n",
            "print in separate elements using positive indexing\n",
            "Hello\n",
            "python\n",
            "fun\n",
            "not\n",
            "print in separate elements using iteration\n",
            "Hello\n",
            "python\n",
            "fun\n",
            "not\n"
          ]
        }
      ]
    },
    {
      "cell_type": "code",
      "metadata": {
        "colab": {
          "base_uri": "https://localhost:8080/"
        },
        "id": "oSa8KyWtV-dJ",
        "outputId": "24435d49-de75-4f2e-effa-c60811458765"
      },
      "source": [
        "#Q-3. \n",
        "car_tuple=('Toyota','Honda','GM','Ford','BMW','Volkswagen','Marcedes','Ferrari','porsche')\n",
        "print(car_tuple)\n",
        "print('cars in the 2 to 6 index are \\n',car_tuple[2:7])"
      ],
      "execution_count": null,
      "outputs": [
        {
          "output_type": "stream",
          "name": "stdout",
          "text": [
            "('Toyota', 'Honda', 'GM', 'Ford', 'BMW', 'Volkswagen', 'Marcedes', 'Ferrari', 'porsche')\n",
            "cars in the 2 to 6 index are \n",
            " ('GM', 'Ford', 'BMW', 'Volkswagen', 'Marcedes')\n"
          ]
        }
      ]
    },
    {
      "cell_type": "code",
      "metadata": {
        "id": "ZMmTXnMZXbUx",
        "colab": {
          "base_uri": "https://localhost:8080/"
        },
        "outputId": "3917f97e-4678-485c-de74-40354fddecfa"
      },
      "source": [
        "#Q-4. \n",
        "T=(1,2,'a','b')\n",
        "L=[7,'r',5,'e','t',6]\n",
        "print('list before replacing elements ',L)\n",
        "for i in range(4):\n",
        "  L[i]=T[i]\n",
        "print('list after replacing elements ',L)"
      ],
      "execution_count": null,
      "outputs": [
        {
          "output_type": "stream",
          "name": "stdout",
          "text": [
            "list before replacing elements  [7, 'r', 5, 'e', 't', 6]\n",
            "list after replacing elements  [1, 2, 'a', 'b', 't', 6]\n"
          ]
        }
      ]
    },
    {
      "cell_type": "code",
      "metadata": {
        "colab": {
          "base_uri": "https://localhost:8080/"
        },
        "id": "ARYsi7DlNxOo",
        "outputId": "aefcd082-92d2-43e6-b7bf-fd9bb64e7689"
      },
      "source": [
        "#Q-5. Mean of the Elements in a Tuple\n",
        "tpl=1,2,3,7,9,25\n",
        "print('Mean of the elements is ',sum(tpl)/len(tpl))\n"
      ],
      "execution_count": null,
      "outputs": [
        {
          "output_type": "stream",
          "name": "stdout",
          "text": [
            "Mean of the elements is  7.833333333333333\n"
          ]
        }
      ]
    },
    {
      "cell_type": "code",
      "metadata": {
        "colab": {
          "base_uri": "https://localhost:8080/",
          "height": 333
        },
        "id": "-TZV8Gu9QLIT",
        "outputId": "39b20056-0dc9-4d8e-c7ff-f60e54b81391"
      },
      "source": [
        "#Q-6.a\n",
        "courses=('python programming','RDBMS','Web technology','S/w engg')\n",
        "electives=('Business intelligence','Big Data Analysis')\n",
        "print('Number of courses John taken is ',len(courses))\n",
        "print('The courses taken by john :')\n",
        "for i in courses:\n",
        "  print(i)\n",
        "print('The courses John interested :',courses+electives)\n",
        "'''for changing course S/w engg to computer networks'''\n",
        "courses[3]='computer networks'\n",
        "print(courses)"
      ],
      "execution_count": null,
      "outputs": [
        {
          "output_type": "stream",
          "name": "stdout",
          "text": [
            "Number of courses John taken is  4\n",
            "The courses taken by john :\n",
            "python programming\n",
            "RDBMS\n",
            "Web technology\n",
            "S/w engg\n",
            "The courses John interested : ('python programming', 'RDBMS', 'Web technology', 'S/w engg', 'Business intelligence', 'Big Data Analysis')\n"
          ]
        },
        {
          "output_type": "error",
          "ename": "TypeError",
          "evalue": "ignored",
          "traceback": [
            "\u001b[0;31m---------------------------------------------------------------------------\u001b[0m",
            "\u001b[0;31mTypeError\u001b[0m                                 Traceback (most recent call last)",
            "\u001b[0;32m<ipython-input-33-117f32ae6a0f>\u001b[0m in \u001b[0;36m<module>\u001b[0;34m()\u001b[0m\n\u001b[1;32m      8\u001b[0m \u001b[0mprint\u001b[0m\u001b[0;34m(\u001b[0m\u001b[0;34m'The courses John interested :'\u001b[0m\u001b[0;34m,\u001b[0m\u001b[0mcourses\u001b[0m\u001b[0;34m+\u001b[0m\u001b[0melectives\u001b[0m\u001b[0;34m)\u001b[0m\u001b[0;34m\u001b[0m\u001b[0;34m\u001b[0m\u001b[0m\n\u001b[1;32m      9\u001b[0m \u001b[0;34m'''for changing course S/w engg to computer networks'''\u001b[0m\u001b[0;34m\u001b[0m\u001b[0;34m\u001b[0m\u001b[0m\n\u001b[0;32m---> 10\u001b[0;31m \u001b[0mcourses\u001b[0m\u001b[0;34m[\u001b[0m\u001b[0;36m3\u001b[0m\u001b[0;34m]\u001b[0m\u001b[0;34m=\u001b[0m\u001b[0;34m'computer networks'\u001b[0m\u001b[0;34m\u001b[0m\u001b[0;34m\u001b[0m\u001b[0m\n\u001b[0m\u001b[1;32m     11\u001b[0m \u001b[0mprint\u001b[0m\u001b[0;34m(\u001b[0m\u001b[0mcourses\u001b[0m\u001b[0;34m)\u001b[0m\u001b[0;34m\u001b[0m\u001b[0;34m\u001b[0m\u001b[0m\n",
            "\u001b[0;31mTypeError\u001b[0m: 'tuple' object does not support item assignment"
          ]
        }
      ]
    }
  ]
}