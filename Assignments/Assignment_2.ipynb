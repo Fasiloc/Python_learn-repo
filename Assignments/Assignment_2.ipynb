{
  "nbformat": 4,
  "nbformat_minor": 0,
  "metadata": {
    "colab": {
      "provenance": [],
      "authorship_tag": "ABX9TyPYCUvW4wJH9nWuCbwpPwa3",
      "include_colab_link": true
    },
    "kernelspec": {
      "name": "python3",
      "display_name": "Python 3"
    },
    "language_info": {
      "name": "python"
    }
  },
  "cells": [
    {
      "cell_type": "markdown",
      "metadata": {
        "id": "view-in-github",
        "colab_type": "text"
      },
      "source": [
        "<a href=\"https://colab.research.google.com/github/Fasiloc/Python_learn-repo/blob/main/Assignments/Assignment_2.ipynb\" target=\"_parent\"><img src=\"https://colab.research.google.com/assets/colab-badge.svg\" alt=\"Open In Colab\"/></a>"
      ]
    },
    {
      "cell_type": "code",
      "metadata": {
        "id": "pBYLmuEeof27"
      },
      "source": [
        "name=input(\"Enter Student's name : \")\n",
        "'''if the marks are not out of 100'''\n",
        "tot=int(input('Enter Total obtainable mark of subjects : '))\n",
        "mark=list(eval(input('Enter marks of each subject separated by \",\" : ')))\n",
        "sum=0\n",
        "print('subject \\t Grade:')\n",
        "for i in mark:\n",
        "  sum+=i\n",
        "  grad=(i/tot)*100\n",
        "  if grad>90:\n",
        "    print('  ',mark.index(i)+1,'\\t\\t  S')\n",
        "  elif grad<=90 and grad>80:\n",
        "    print('  ',mark.index(i)+1,'\\t\\t  A')\n",
        "  elif grad<=80 and grad>70:\n",
        "    print('  ',mark.index(i)+1,'\\t\\t  B')\n",
        "  elif grad<=70 and grad>60:\n",
        "    print('  ',mark.index(i)+1,'\\t\\t  C')\n",
        "  elif grad<=60 and grad>50:\n",
        "    print('  ',mark.index(i)+1,'\\t\\t  D')\n",
        "  elif grad==50:\n",
        "    print('  ',mark.index(i)+1,'\\t\\t  E')\n",
        "  else:\n",
        "    print('  ',mark.index(i)+1,'\\t\\t  U')\n",
        "print('Total mark :',sum)\n",
        "avg=sum//len(mark)\n",
        "agrad=(avg/tot)*100\n",
        "print('Total Grade obtained :')\n",
        "if agrad>90:\n",
        "  print('S')\n",
        "elif agrad<=90 and agrad>80:\n",
        "  print('\\tA')\n",
        "elif agrad<=80 and agrad>70:\n",
        "  print('\\tB')\n",
        "elif agrad<=70 and agrad>60:\n",
        "  print('\\tC')\n",
        "elif agrad<=60 and agrad>50:\n",
        "  print('\\tD')\n",
        "elif agrad==50:\n",
        "  print('\\tE')\n",
        "else:\n",
        "  print('\\tU')\n"
      ],
      "execution_count": null,
      "outputs": []
    }
  ]
}