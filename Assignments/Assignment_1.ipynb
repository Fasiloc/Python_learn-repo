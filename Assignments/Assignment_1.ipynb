{
  "nbformat": 4,
  "nbformat_minor": 0,
  "metadata": {
    "colab": {
      "provenance": [],
      "authorship_tag": "ABX9TyMo0mro84g2Rjiv9AAp23EN",
      "include_colab_link": true
    },
    "kernelspec": {
      "name": "python3",
      "display_name": "Python 3"
    },
    "language_info": {
      "name": "python"
    }
  },
  "cells": [
    {
      "cell_type": "markdown",
      "metadata": {
        "id": "view-in-github",
        "colab_type": "text"
      },
      "source": [
        "<a href=\"https://colab.research.google.com/github/Fasiloc/Python_learn-repo/blob/main/Assignments/Assignment_1.ipynb\" target=\"_parent\"><img src=\"https://colab.research.google.com/assets/colab-badge.svg\" alt=\"Open In Colab\"/></a>"
      ]
    },
    {
      "cell_type": "code",
      "metadata": {
        "id": "uRk6dZsqyfPb",
        "colab": {
          "base_uri": "https://localhost:8080/"
        },
        "outputId": "9717b760-5a4b-43a2-df9d-3ec3e57b333c"
      },
      "source": [
        "#Random Password Generator\n",
        "import random\n",
        "cl=['A','B','C','D','E','F','G''H','I','J','K','L','M','N','O','P','Q','R','S','T','U','V','W','X','Y','Z']\n",
        "sm=['a','b','c','d','e','f','g''h','i','j','k','l','m','n','o','p','q','r','s','t','u','v','w','x','y','z']\n",
        "num=['0','1','2','3','4','5','6','7','8','9']\n",
        "spl=['~','!','@','$','%','^','&','*','(',')','_','-','+','=',']','[','{','}',':',';','\"','?','/','>','<']\n",
        "full=cl+sm+num+spl\n",
        "uppercase=random.choice(cl)\n",
        "lowercase=random.choice(sm)\n",
        "number=random.choice(num)\n",
        "specialchara=random.choice(spl)\n",
        "chara5=random.choice(full)\n",
        "chara6=random.choice(full)\n",
        "chara7=random.choice(full)\n",
        "chara8=random.choice(full)\n",
        "print('Your Password is ',uppercase+lowercase+number+specialchara+chara5+chara6+chara7+chara8)"
      ],
      "execution_count": null,
      "outputs": [
        {
          "output_type": "stream",
          "name": "stdout",
          "text": [
            "Your Password is  Xi8:xA@b\n"
          ]
        }
      ]
    },
    {
      "cell_type": "code",
      "metadata": {
        "colab": {
          "base_uri": "https://localhost:8080/"
        },
        "id": "vhKZbqQVoMwB",
        "outputId": "0a3d8b09-5777-4333-9596-4dc122dde913"
      },
      "source": [
        "#Random Password Generator\n",
        "import random\n",
        "cl=['A','B','C','D','E','F','G''H','I','J','K','L','M','N','O','P','Q','R','S','T','U','V','W','X','Y','Z']\n",
        "sm=['a','b','c','d','e','f','g''h','i','j','k','l','m','n','o','p','q','r','s','t','u','v','w','x','y','z']\n",
        "num=['0','1','2','3','4','5','6','7','8','9']\n",
        "spl=['~','!','@','$','%','^','&','*','(',')','_','-','+','=',']','[','{','}',':',';','\"','?','/','>','<']\n",
        "full=cl+sm+num+spl\n",
        "uc=random.choice(cl)\n",
        "lc=random.choice(sm)\n",
        "numb=random.choice(num)\n",
        "sc=random.choice(spl)\n",
        "'''random selection of first 4 characters'''\n",
        "pass1=random.sample([uc,lc,numb,sc],4)\n",
        "'''random selection of next 4 characters'''\n",
        "pass2=random.sample(full,4)\n",
        "print('Your Password is :')\n",
        "'''converting list to string'''\n",
        "print(''.join(pass1+pass2))"
      ],
      "execution_count": null,
      "outputs": [
        {
          "output_type": "stream",
          "name": "stdout",
          "text": [
            "Your Password is :\n",
            "2:bViMv2\n"
          ]
        }
      ]
    },
    {
      "cell_type": "code",
      "metadata": {
        "colab": {
          "base_uri": "https://localhost:8080/"
        },
        "id": "nXYJWjLSfwHd",
        "outputId": "5627de8a-7e1e-4a55-d2f3-71cf69984628"
      },
      "source": [
        "import random\n",
        "cl=['A','B','C','D','E','F','G''H','I','J','K','L','M','N','O','P','Q','R','S','T','U','V','W','X','Y','Z']\n",
        "for i in range(4):\n",
        "  print(random.choice(cl))"
      ],
      "execution_count": null,
      "outputs": [
        {
          "output_type": "stream",
          "name": "stdout",
          "text": [
            "C\n",
            "R\n",
            "Z\n",
            "L\n"
          ]
        }
      ]
    },
    {
      "cell_type": "code",
      "metadata": {
        "colab": {
          "base_uri": "https://localhost:8080/"
        },
        "id": "bJxTplYJHEH6",
        "outputId": "a3032608-a9ec-4228-c4cb-ba942048be08"
      },
      "source": [
        "import random\n",
        "list=[1,2,5,6,4,9,3]\n",
        "print(random.sample(list,4))"
      ],
      "execution_count": null,
      "outputs": [
        {
          "output_type": "stream",
          "name": "stdout",
          "text": [
            "1, 2, 3, 4, 5\n",
            "[4, 5, 9, 1]\n"
          ]
        }
      ]
    },
    {
      "cell_type": "code",
      "metadata": {
        "colab": {
          "base_uri": "https://localhost:8080/"
        },
        "id": "4q8NBMDBIO3y",
        "outputId": "a2b92d50-8fab-49f2-e65d-43c1e11e3394"
      },
      "source": [
        "a=['a','b','c','g']\n",
        "print(''.join(a))"
      ],
      "execution_count": null,
      "outputs": [
        {
          "output_type": "stream",
          "name": "stdout",
          "text": [
            "abcg\n"
          ]
        }
      ]
    },
    {
      "cell_type": "code",
      "metadata": {
        "colab": {
          "base_uri": "https://localhost:8080/"
        },
        "id": "pNo5LejOiVhW",
        "outputId": "125cd3a6-bade-4e93-e5d7-e8eecceaa38d"
      },
      "source": [
        "# using for loop\n",
        "a = [1, 2, 3, 4, 5]\n",
        "  \n",
        "# printing the list using loop\n",
        "for x in range(len(a)):\n",
        " print(a[x])"
      ],
      "execution_count": null,
      "outputs": [
        {
          "output_type": "stream",
          "name": "stdout",
          "text": [
            "1\n",
            "2\n",
            "3\n",
            "4\n",
            "5\n"
          ]
        }
      ]
    }
  ]
}