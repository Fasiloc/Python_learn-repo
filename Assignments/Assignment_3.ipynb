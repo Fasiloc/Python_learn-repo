{
  "nbformat": 4,
  "nbformat_minor": 0,
  "metadata": {
    "colab": {
      "provenance": [],
      "authorship_tag": "ABX9TyMA3sdKLdzRNUWP+72wkrTU",
      "include_colab_link": true
    },
    "kernelspec": {
      "name": "python3",
      "display_name": "Python 3"
    },
    "language_info": {
      "name": "python"
    }
  },
  "cells": [
    {
      "cell_type": "markdown",
      "metadata": {
        "id": "view-in-github",
        "colab_type": "text"
      },
      "source": [
        "<a href=\"https://colab.research.google.com/github/Fasiloc/Python_learn-repo/blob/main/Assignments/Assignment_3.ipynb\" target=\"_parent\"><img src=\"https://colab.research.google.com/assets/colab-badge.svg\" alt=\"Open In Colab\"/></a>"
      ]
    },
    {
      "cell_type": "code",
      "metadata": {
        "colab": {
          "base_uri": "https://localhost:8080/"
        },
        "id": "Rsk2zRUQkoPk",
        "outputId": "08a56eef-90d2-47f2-caa9-3969c4a985d4"
      },
      "source": [
        "# Q-1. Grading\n",
        "def grade(a):\n",
        "  sum=0\n",
        "  for i in a:\n",
        "    sum+=i\n",
        "  avg=sum/len(a)  # finding average\n",
        "  perc=(avg/tot)*100  #finding percentage\n",
        "  if perc>=80:\n",
        "    g='A'\n",
        "  elif perc>=60 and perc<80:\n",
        "    g='B'\n",
        "  elif perc>=50 and perc<60:\n",
        "    g='C'\n",
        "  else:\n",
        "    g='F'\n",
        "  return g\n",
        "a=list(eval(input('Enter your obtained marks separated by \",\" : ')))\n",
        "tot=int(input('Enter total obtainable mark : '))\n",
        "totg=grade(a)\n",
        "print('Your grade is :',totg)"
      ],
      "execution_count": null,
      "outputs": [
        {
          "output_type": "stream",
          "name": "stdout",
          "text": [
            "Enter your obtained marks separated by \",\" : 45,67,75,48,59\n",
            "Enter total obtainable mark : 80\n",
            "Your grade is : B\n"
          ]
        }
      ]
    },
    {
      "cell_type": "code",
      "metadata": {
        "colab": {
          "base_uri": "https://localhost:8080/"
        },
        "id": "tXlfaiJUoA6z",
        "outputId": "b789d565-5285-4811-c38a-1c53cfc448c0"
      },
      "source": [
        "# Q-2. Electricity bill\n",
        "class electricity:\n",
        "  def __init__(self,name,consumer,preading,creading,consumed,amount):\n",
        "    self.name=name\n",
        "    self.consumer=consumer\n",
        "    self.preading=preading\n",
        "    self.creading=creading\n",
        "    self.consumed=consumed\n",
        "    self.amount=amount\n",
        "  def electricity_cons(self,cr):\n",
        "    self.creading=cr\n",
        "    self.consumed=cr-self.preading\n",
        "  def electricity_amount(self):\n",
        "    self.amount=self.consumed*10\n",
        "  def print_bill(self):\n",
        "    print('\\n Name :',self.name,'\\n Consumer number :',self.consumer,'\\n Previous reading :',self.preading,'\\n Current reading :',self.creading,'\\n Consumption :',self.consumed,'\\n Bill amount :',self.amount)\n",
        "cons1=electricity('Nithin',1164544773645,4567,0,0,0)\n",
        "cons2=electricity('Rahul',1478534698521,4214,0,0,0)\n",
        "cons3=electricity('sahil',1254763485726,4568,0,0,0)\n",
        "cons1.print_bill()\n",
        "cr=int(input('\\n Enter current reading : '))\n",
        "cons2.electricity_cons(cr)\n",
        "cons2.print_bill()\n",
        "cr=int(input('\\n Enter current reading : '))\n",
        "cons3.electricity_cons(cr)\n",
        "cons3.electricity_amount()\n",
        "cons3.print_bill()"
      ],
      "execution_count": null,
      "outputs": [
        {
          "output_type": "stream",
          "name": "stdout",
          "text": [
            "\n",
            " Name : Nithin \n",
            " Consumer number : 1164544773645 \n",
            " Previous reading : 4567 \n",
            " Current reading : 0 \n",
            " Consumption : 0 \n",
            " Bill amount : 0\n",
            "\n",
            " Enter current reading : 5000\n",
            "\n",
            " Name : Rahul \n",
            " Consumer number : 1478534698521 \n",
            " Previous reading : 4214 \n",
            " Current reading : 5000 \n",
            " Consumption : 786 \n",
            " Bill amount : 0\n",
            "\n",
            " Enter current reading : 5012\n",
            "\n",
            " Name : sahil \n",
            " Consumer number : 1254763485726 \n",
            " Previous reading : 4568 \n",
            " Current reading : 5012 \n",
            " Consumption : 444 \n",
            " Bill amount : 4440\n"
          ]
        }
      ]
    },
    {
      "cell_type": "code",
      "metadata": {
        "id": "56VfT7STn6M1"
      },
      "source": [],
      "execution_count": null,
      "outputs": []
    }
  ]
}